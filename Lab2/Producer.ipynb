{
 "cells": [
  {
   "cell_type": "code",
   "execution_count": 1,
   "id": "thermal-deposit",
   "metadata": {},
   "outputs": [],
   "source": [
    "import os\n",
    "import socket\n",
    "from pyspark import SparkConf, SparkContext, SQLContext\n",
    "from pyspark.sql import SparkSession\n",
    "from pyspark.sql.functions import udf, length, when, col\n",
    "from pyspark.sql.types import BooleanType, IntegerType, LongType, StringType, ArrayType, FloatType, StructType, StructField\n",
    "from pyspark.sql.functions import *\n",
    "from pyspark.sql.functions import pandas_udf\n",
    "from pyspark.sql.functions import PandasUDFType\n",
    "from jinja2 import Environment, FileSystemLoader"
   ]
  },
  {
   "cell_type": "code",
   "execution_count": 2,
   "id": "decimal-greece",
   "metadata": {},
   "outputs": [],
   "source": [
    "# setting constants\n",
    "APP_NAME = \"LAB-2-ANTONOV-PRODUCER\"\n",
    "NORMALIZED_APP_NAME = APP_NAME.replace('/', '_').replace(':', '_')\n",
    "\n",
    "APPS_TMP_DIR = os.path.join(os.getcwd(), \"tmp\")\n",
    "APPS_CONF_DIR = os.path.join(os.getcwd(), \"conf\")\n",
    "APPS_LOGS_DIR = os.path.join(os.getcwd(), \"logs\")\n",
    "LOG4J_PROP_FILE = os.path.join(APPS_CONF_DIR, \"pyspark-log4j-{}.properties\".format(NORMALIZED_APP_NAME))\n",
    "LOG_FILE = os.path.join(APPS_LOGS_DIR, 'pyspark-{}.log'.format(NORMALIZED_APP_NAME))\n",
    "EXTRA_JAVA_OPTIONS = \"-Dlog4j.configuration=file://{} -Dspark.hadoop.dfs.replication=1 -Dhttps.protocols=TLSv1.0,TLSv1.1,TLSv1.2,TLSv1.3\"\\\n",
    "    .format(LOG4J_PROP_FILE)\n",
    "\n",
    "LOCAL_IP = socket.gethostbyname(socket.gethostname())\n",
    "\n",
    "# preparing configuration files from templates\n",
    "for directory in [APPS_CONF_DIR, APPS_LOGS_DIR, APPS_TMP_DIR]:\n",
    "    if not os.path.exists(directory):\n",
    "        os.makedirs(directory)\n",
    "\n",
    "env = Environment(loader=FileSystemLoader('/opt'))\n",
    "template = env.get_template(\"pyspark_log4j.properties.template\")\n",
    "template\\\n",
    "    .stream(logfile=LOG_FILE)\\\n",
    "    .dump(LOG4J_PROP_FILE)\n",
    "\n",
    "#running spark\n",
    "SPARK_ADRESS = \"local[4]\"\n",
    "\n",
    "# run spark\n",
    "spark = SparkSession\\\n",
    "        .builder\\\n",
    "        .appName(APP_NAME)\\\n",
    "        .master(SPARK_ADRESS)\\\n",
    "        .config('spark.ui.port', \"4040\")\\\n",
    "        .config(\"spark.memory.fraction\", \"0.8\")\\\n",
    "        .config(\"spark.memory.storageFraction\", \"0.6\")\\\n",
    "        .config(\"spark.driver.memory\", \"4g\")\\\n",
    "        .config(\"spark.driver.extraJavaOptions\", EXTRA_JAVA_OPTIONS)\\\n",
    "        .config(\"spark.executor.memory\", \"6g\")\\\n",
    "        .getOrCreate()\n"
   ]
  },
  {
   "cell_type": "code",
   "execution_count": 3,
   "id": "hollywood-tracker",
   "metadata": {},
   "outputs": [
    {
     "name": "stdout",
     "output_type": "stream",
     "text": [
      "Web UI: http://jupyter-spark-668478f5f7-k97x4:4040\n",
      "\n",
      "log4j file: /home/jovyan/nfs-home/LABS/LAB_KAFKA/PROD/conf/pyspark-log4j-LAB-2-ANTONOV-PRODUCER.properties\n",
      "\n",
      "driver log file: /home/jovyan/nfs-home/LABS/LAB_KAFKA/PROD/logs/pyspark-LAB-2-ANTONOV-PRODUCER.log\n"
     ]
    }
   ],
   "source": [
    "# printing important urls and pathes\n",
    "print(\"Web UI: {}\".format(spark.sparkContext.uiWebUrl))\n",
    "print(\"\\nlog4j file: {}\".format(LOG4J_PROP_FILE))\n",
    "print(\"\\ndriver log file: {}\".format(LOG_FILE))"
   ]
  },
  {
   "cell_type": "markdown",
   "id": "robust-review",
   "metadata": {},
   "source": [
    "## Step 1\n",
    "Read and prepare the daata"
   ]
  },
  {
   "cell_type": "markdown",
   "id": "mature-bearing",
   "metadata": {},
   "source": [
    "Lets read posts data, exluding posts with no text in them"
   ]
  },
  {
   "cell_type": "code",
   "execution_count": 4,
   "id": "opponent-matrix",
   "metadata": {},
   "outputs": [
    {
     "name": "stdout",
     "output_type": "stream",
     "text": [
      "+-----+----------+--------------------+\n",
      "| user|      date|                text|\n",
      "+-----+----------+--------------------+\n",
      "|87449|1550165023|Я люблю Вас. Я вч...|\n",
      "|87449|1553774858|call me by your n...|\n",
      "|87449|1555602008|                  🦋|\n",
      "|87449|1558105050|         Браво,Юра !|\n",
      "|87449|1559301729|                  🕊|\n",
      "|87449|1564088944|Самый неприятный ...|\n",
      "|87449|1565162341|                  🔅|\n",
      "|87449|1566293696|Пекло.Пушка.Вышка...|\n",
      "|94494|1559647730|Тот неловкий моме...|\n",
      "|94494|1559854126|Белые ночи + жарк...|\n",
      "|94494|1560680534|Не велосипедом ед...|\n",
      "|94494|1560987374|Тот самый француз...|\n",
      "|94494|1561155082|Да, знатное шоу с...|\n",
      "|94494|1562425403|На акциях #Раздел...|\n",
      "|94494|1562433670|А ещё сегодня на ...|\n",
      "|94494|1566767811|Говорят, давно от...|\n",
      "|94494|1567495072|В этом году получ...|\n",
      "|94494|1567620712|Не успели ещё под...|\n",
      "|94494|1567951378|Ого, кажется в эт...|\n",
      "|94494|1568279689|Здорово, что в эт...|\n",
      "+-----+----------+--------------------+\n",
      "only showing top 20 rows\n",
      "\n"
     ]
    }
   ],
   "source": [
    "posts_df = spark.read.json(\"hdfs:///shared/bigdata20/followers_posts_api_final.json\")\\\n",
    ".where((col(\"text\") != \"\") & (col(\"text\") != \" \"))\\\n",
    ".select(col(\"owner_id\").alias(\"user\"), \"date\", \"text\")\n",
    "\n",
    "posts_df.show()"
   ]
  },
  {
   "cell_type": "markdown",
   "id": "careful-pixel",
   "metadata": {},
   "source": [
    "Now lets read the data on followers. Lets exclude people with null sex and age, because we will not be able to assign them to sex and age groups later on"
   ]
  },
  {
   "cell_type": "code",
   "execution_count": 5,
   "id": "novel-mistress",
   "metadata": {},
   "outputs": [
    {
     "name": "stdout",
     "output_type": "stream",
     "text": [
      "+----+---+---+\n",
      "|user|sex|age|\n",
      "+----+---+---+\n",
      "| 243|  1| 34|\n",
      "| 533|  2| 32|\n",
      "| 637|  1| 36|\n",
      "| 751|  2| 33|\n",
      "| 899|  1| 33|\n",
      "|1087|  2| 36|\n",
      "|1110|  2| 33|\n",
      "|1113|  2| 33|\n",
      "|1174|  1| 31|\n",
      "|1390|  2| 31|\n",
      "|1398|  2| 35|\n",
      "|1598|  2| 33|\n",
      "|1669|  1| 32|\n",
      "|1737|  2| 32|\n",
      "|1772|  2| 32|\n",
      "|1822|  2| 34|\n",
      "|2057|  1| 32|\n",
      "|2192|  2| 33|\n",
      "|2212|  2| 32|\n",
      "|2461|  1| 38|\n",
      "+----+---+---+\n",
      "only showing top 20 rows\n",
      "\n"
     ]
    }
   ],
   "source": [
    "followers_df = spark.read.json(\"hdfs:///shared/bigdata20/followers_info.json\")\\\n",
    ".select(col(\"id\").alias(\"user\"), \"sex\", \"bdate\")\\\n",
    ".withColumn(\"month_between\", \n",
    "    months_between(\n",
    "        current_date(), \n",
    "        concat_ws(\n",
    "            \"-\", regexp_extract(col(\"bdate\"), r\"(\\d{1,2})\\.(\\d{1,2})\\.(\\d{4})\", 3).cast(\"int\"), \n",
    "            regexp_extract(col(\"bdate\"), r\"(\\d{1,2})\\.(\\d{1,2})\\.(\\d{4})\", 2).cast(\"int\"), \n",
    "            regexp_extract(col(\"bdate\"), r\"(\\d{1,2})\\.(\\d{1,2})\\.(\\d{4})\", 1).cast(\"int\")\n",
    "        ).cast(\"date\")\n",
    "    )\n",
    ")\\\n",
    ".select(\"user\", \"sex\", (col(\"month_between\")/12).cast(\"int\").alias(\"age\"))\\\n",
    ".where(col(\"sex\").isNotNull() & col(\"age\").isNotNull())\n",
    "\n",
    "followers_df.show()"
   ]
  },
  {
   "cell_type": "markdown",
   "id": "parallel-instrument",
   "metadata": {},
   "source": [
    "Now lets join info about users and posts"
   ]
  },
  {
   "cell_type": "code",
   "execution_count": 6,
   "id": "local-snake",
   "metadata": {},
   "outputs": [
    {
     "name": "stdout",
     "output_type": "stream",
     "text": [
      "+-----+-----------+--------------------+---+---+\n",
      "| user|date_posted|                text|sex|age|\n",
      "+-----+-----------+--------------------+---+---+\n",
      "|94494| 1559647730|Тот неловкий моме...|  F| 33|\n",
      "|94494| 1559854126|Белые ночи + жарк...|  F| 33|\n",
      "|94494| 1560680534|Не велосипедом ед...|  F| 33|\n",
      "|94494| 1560987374|Тот самый француз...|  F| 33|\n",
      "|94494| 1561155082|Да, знатное шоу с...|  F| 33|\n",
      "|94494| 1562425403|На акциях #Раздел...|  F| 33|\n",
      "|94494| 1562433670|А ещё сегодня на ...|  F| 33|\n",
      "|94494| 1566767811|Говорят, давно от...|  F| 33|\n",
      "|94494| 1567495072|В этом году получ...|  F| 33|\n",
      "|94494| 1567620712|Не успели ещё под...|  F| 33|\n",
      "|94494| 1567951378|Ого, кажется в эт...|  F| 33|\n",
      "|94494| 1568279689|Здорово, что в эт...|  F| 33|\n",
      "|94494| 1568391025|Всё жду тот светл...|  F| 33|\n",
      "|94494| 1568409427|Пешеходные перехо...|  F| 33|\n",
      "|94494| 1568498829|Про деревья в гор...|  F| 33|\n",
      "|94494| 1568543078|В огромном парке ...|  F| 33|\n",
      "|94494| 1568559778|Рядом с железнодо...|  F| 33|\n",
      "|94494| 1568582668|А это – то, что в...|  F| 33|\n",
      "|94494| 1569017308|Осязаемые +3 град...|  F| 33|\n",
      "|94494| 1569180042|Побывал сегодня н...|  F| 33|\n",
      "+-----+-----------+--------------------+---+---+\n",
      "only showing top 20 rows\n",
      "\n"
     ]
    }
   ],
   "source": [
    "join_df = posts_df.join(followers_df, [\"user\"])\\\n",
    ".select(\n",
    "    \"user\", \n",
    "    col(\"date\").alias(\"date_posted\"), \n",
    "    \"text\", \n",
    "    (when(col(\"sex\") == 1, \"M\").otherwise(\"F\")).alias(\"sex\"),\n",
    "    \"age\"\n",
    ")\n",
    "\n",
    "join_df.show()"
   ]
  },
  {
   "cell_type": "markdown",
   "id": "sustainable-collection",
   "metadata": {},
   "source": [
    "## Step 2\n",
    "Creating a producer"
   ]
  },
  {
   "cell_type": "code",
   "execution_count": null,
   "id": "portuguese-joseph",
   "metadata": {},
   "outputs": [
    {
     "name": "stderr",
     "output_type": "stream",
     "text": [
      "  0%|          | 0/73624 [00:00<?, ?it/s]"
     ]
    },
    {
     "name": "stdout",
     "output_type": "stream",
     "text": [
      "Sending a post from user id: 273486249, posted on: 1546290007, sex - F\n"
     ]
    },
    {
     "name": "stderr",
     "output_type": "stream",
     "text": [
      "  0%|          | 1/73624 [00:13<279:20:45, 13.66s/it]"
     ]
    },
    {
     "name": "stdout",
     "output_type": "stream",
     "text": [
      "Sending a post from user id: 30697, posted on: 1546290009, sex - F\n"
     ]
    },
    {
     "name": "stderr",
     "output_type": "stream",
     "text": [
      "  0%|          | 2/73624 [00:15<133:01:12,  6.50s/it]"
     ]
    },
    {
     "name": "stdout",
     "output_type": "stream",
     "text": [
      "Sending a post from user id: 127675121, posted on: 1546290040, sex - F\n"
     ]
    },
    {
     "name": "stderr",
     "output_type": "stream",
     "text": [
      "  0%|          | 3/73624 [00:17<90:10:20,  4.41s/it] "
     ]
    },
    {
     "name": "stdout",
     "output_type": "stream",
     "text": [
      "Sending a post from user id: 4555424, posted on: 1546290060, sex - M\n"
     ]
    },
    {
     "name": "stderr",
     "output_type": "stream",
     "text": [
      "  0%|          | 4/73624 [00:17<60:48:08,  2.97s/it]"
     ]
    },
    {
     "name": "stdout",
     "output_type": "stream",
     "text": [
      "Sending a post from user id: 357674986, posted on: 1546290077, sex - F\n"
     ]
    },
    {
     "name": "stderr",
     "output_type": "stream",
     "text": [
      "  0%|          | 5/73624 [00:18<43:36:17,  2.13s/it]"
     ]
    },
    {
     "name": "stdout",
     "output_type": "stream",
     "text": [
      "Sending a post from user id: 379055419, posted on: 1546290100, sex - F\n"
     ]
    },
    {
     "name": "stderr",
     "output_type": "stream",
     "text": [
      "  0%|          | 6/73624 [00:19<33:51:42,  1.66s/it]"
     ]
    },
    {
     "name": "stdout",
     "output_type": "stream",
     "text": [
      "Sending a post from user id: 430592517, posted on: 1546290107, sex - M\n"
     ]
    },
    {
     "name": "stderr",
     "output_type": "stream",
     "text": [
      "  0%|          | 7/73624 [00:20<29:46:24,  1.46s/it]"
     ]
    },
    {
     "name": "stdout",
     "output_type": "stream",
     "text": [
      "Sending a post from user id: 603153, posted on: 1546290112, sex - F\n"
     ]
    },
    {
     "name": "stderr",
     "output_type": "stream",
     "text": [
      "  0%|          | 8/73624 [00:22<33:06:10,  1.62s/it]"
     ]
    },
    {
     "name": "stdout",
     "output_type": "stream",
     "text": [
      "Sending a post from user id: 475220, posted on: 1546290125, sex - F\n"
     ]
    },
    {
     "name": "stderr",
     "output_type": "stream",
     "text": [
      "  0%|          | 9/73624 [00:22<27:32:27,  1.35s/it]"
     ]
    },
    {
     "name": "stdout",
     "output_type": "stream",
     "text": [
      "Sending a post from user id: 13675440, posted on: 1546290132, sex - F\n"
     ]
    },
    {
     "name": "stderr",
     "output_type": "stream",
     "text": [
      "  0%|          | 10/73624 [00:23<25:27:50,  1.25s/it]"
     ]
    },
    {
     "name": "stdout",
     "output_type": "stream",
     "text": [
      "Sending a post from user id: 172385848, posted on: 1546290143, sex - M\n"
     ]
    },
    {
     "name": "stderr",
     "output_type": "stream",
     "text": [
      "  0%|          | 11/73624 [00:25<26:33:51,  1.30s/it]"
     ]
    },
    {
     "name": "stdout",
     "output_type": "stream",
     "text": [
      "Sending a post from user id: 10445994, posted on: 1546290159, sex - F\n"
     ]
    },
    {
     "name": "stderr",
     "output_type": "stream",
     "text": [
      "  0%|          | 13/73624 [00:27<20:18:44,  1.01it/s]"
     ]
    },
    {
     "name": "stdout",
     "output_type": "stream",
     "text": [
      "Sending a post from user id: 56372957, posted on: 1546290174, sex - F\n",
      "Sending a post from user id: 100755890, posted on: 1546290177, sex - F\n"
     ]
    },
    {
     "name": "stderr",
     "output_type": "stream",
     "text": [
      "  0%|          | 14/73624 [00:28<21:19:51,  1.04s/it]"
     ]
    },
    {
     "name": "stdout",
     "output_type": "stream",
     "text": [
      "Sending a post from user id: 147716859, posted on: 1546290179, sex - F\n"
     ]
    },
    {
     "name": "stderr",
     "output_type": "stream",
     "text": [
      "  0%|          | 15/73624 [00:29<24:49:52,  1.21s/it]"
     ]
    },
    {
     "name": "stdout",
     "output_type": "stream",
     "text": [
      "Sending a post from user id: 19887393, posted on: 1546290192, sex - F\n"
     ]
    },
    {
     "name": "stderr",
     "output_type": "stream",
     "text": [
      "  0%|          | 16/73624 [00:30<22:16:41,  1.09s/it]"
     ]
    },
    {
     "name": "stdout",
     "output_type": "stream",
     "text": [
      "Sending a post from user id: 22469216, posted on: 1546290204, sex - M\n"
     ]
    },
    {
     "name": "stderr",
     "output_type": "stream",
     "text": [
      "  0%|          | 17/73624 [00:31<18:15:23,  1.12it/s]"
     ]
    },
    {
     "name": "stdout",
     "output_type": "stream",
     "text": [
      "Sending a post from user id: 5786733, posted on: 1546290216, sex - M\n"
     ]
    },
    {
     "name": "stderr",
     "output_type": "stream",
     "text": [
      "  0%|          | 18/73624 [00:31<17:49:15,  1.15it/s]"
     ]
    },
    {
     "name": "stdout",
     "output_type": "stream",
     "text": [
      "Sending a post from user id: 122825441, posted on: 1546290278, sex - F\n"
     ]
    },
    {
     "name": "stderr",
     "output_type": "stream",
     "text": [
      "  0%|          | 19/73624 [00:33<19:26:24,  1.05it/s]"
     ]
    },
    {
     "name": "stdout",
     "output_type": "stream",
     "text": [
      "Sending a post from user id: 1287770, posted on: 1546290311, sex - F\n"
     ]
    },
    {
     "name": "stderr",
     "output_type": "stream",
     "text": [
      "  0%|          | 20/73624 [00:33<15:29:43,  1.32it/s]"
     ]
    },
    {
     "name": "stdout",
     "output_type": "stream",
     "text": [
      "Sending a post from user id: 241292907, posted on: 1546290338, sex - M\n"
     ]
    },
    {
     "name": "stderr",
     "output_type": "stream",
     "text": [
      "  0%|          | 21/73624 [00:35<21:27:45,  1.05s/it]"
     ]
    },
    {
     "name": "stdout",
     "output_type": "stream",
     "text": [
      "Sending a post from user id: 1077823, posted on: 1546290357, sex - F\n"
     ]
    },
    {
     "name": "stderr",
     "output_type": "stream",
     "text": [
      "  0%|          | 22/73624 [00:36<23:45:27,  1.16s/it]"
     ]
    },
    {
     "name": "stdout",
     "output_type": "stream",
     "text": [
      "Sending a post from user id: 10363307, posted on: 1546290660, sex - F\n"
     ]
    },
    {
     "name": "stderr",
     "output_type": "stream",
     "text": [
      "  0%|          | 23/73624 [00:37<21:01:21,  1.03s/it]"
     ]
    },
    {
     "name": "stdout",
     "output_type": "stream",
     "text": [
      "Sending a post from user id: 2818498, posted on: 1546290771, sex - F\n"
     ]
    },
    {
     "name": "stderr",
     "output_type": "stream",
     "text": [
      "  0%|          | 24/73624 [00:39<25:56:55,  1.27s/it]"
     ]
    },
    {
     "name": "stdout",
     "output_type": "stream",
     "text": [
      "Sending a post from user id: 77495114, posted on: 1546290816, sex - M\n"
     ]
    },
    {
     "name": "stderr",
     "output_type": "stream",
     "text": [
      "  0%|          | 26/73624 [00:41<21:54:26,  1.07s/it]"
     ]
    },
    {
     "name": "stdout",
     "output_type": "stream",
     "text": [
      "Sending a post from user id: 276545360, posted on: 1546290858, sex - F\n",
      "Sending a post from user id: 147716859, posted on: 1546291015, sex - F\n"
     ]
    },
    {
     "name": "stderr",
     "output_type": "stream",
     "text": [
      "  0%|          | 27/73624 [00:42<22:44:29,  1.11s/it]"
     ]
    },
    {
     "name": "stdout",
     "output_type": "stream",
     "text": [
      "Sending a post from user id: 135207613, posted on: 1546291028, sex - F\n"
     ]
    },
    {
     "name": "stderr",
     "output_type": "stream",
     "text": [
      "  0%|          | 28/73624 [00:43<26:03:15,  1.27s/it]"
     ]
    },
    {
     "name": "stdout",
     "output_type": "stream",
     "text": [
      "Sending a post from user id: 304744047, posted on: 1546291039, sex - F\n"
     ]
    },
    {
     "name": "stderr",
     "output_type": "stream",
     "text": [
      "  0%|          | 29/73624 [00:45<30:09:24,  1.48s/it]"
     ]
    },
    {
     "name": "stdout",
     "output_type": "stream",
     "text": [
      "Sending a post from user id: 2923196, posted on: 1546291343, sex - F\n"
     ]
    },
    {
     "name": "stderr",
     "output_type": "stream",
     "text": [
      "  0%|          | 30/73624 [00:46<26:34:50,  1.30s/it]"
     ]
    },
    {
     "name": "stdout",
     "output_type": "stream",
     "text": [
      "Sending a post from user id: 24142927, posted on: 1546291469, sex - F\n"
     ]
    },
    {
     "name": "stderr",
     "output_type": "stream",
     "text": [
      "  0%|          | 31/73624 [00:47<21:42:11,  1.06s/it]"
     ]
    },
    {
     "name": "stdout",
     "output_type": "stream",
     "text": [
      "Sending a post from user id: 968540, posted on: 1546291531, sex - F\n"
     ]
    },
    {
     "name": "stderr",
     "output_type": "stream",
     "text": [
      "  0%|          | 32/73624 [00:47<19:02:58,  1.07it/s]"
     ]
    },
    {
     "name": "stdout",
     "output_type": "stream",
     "text": [
      "Sending a post from user id: 180124822, posted on: 1546291619, sex - M\n"
     ]
    },
    {
     "name": "stderr",
     "output_type": "stream",
     "text": [
      "  0%|          | 33/73624 [00:48<17:01:10,  1.20it/s]"
     ]
    },
    {
     "name": "stdout",
     "output_type": "stream",
     "text": [
      "Sending a post from user id: 119652, posted on: 1546291679, sex - F\n"
     ]
    },
    {
     "name": "stderr",
     "output_type": "stream",
     "text": [
      "  0%|          | 34/73624 [00:50<22:21:08,  1.09s/it]"
     ]
    },
    {
     "name": "stdout",
     "output_type": "stream",
     "text": [
      "Sending a post from user id: 519519067, posted on: 1546291697, sex - F\n"
     ]
    },
    {
     "name": "stderr",
     "output_type": "stream",
     "text": [
      "  0%|          | 35/73624 [00:51<20:50:26,  1.02s/it]"
     ]
    },
    {
     "name": "stdout",
     "output_type": "stream",
     "text": [
      "Sending a post from user id: 59908635, posted on: 1546291856, sex - M\n"
     ]
    },
    {
     "name": "stderr",
     "output_type": "stream",
     "text": [
      "  0%|          | 36/73624 [00:51<16:47:09,  1.22it/s]"
     ]
    },
    {
     "name": "stdout",
     "output_type": "stream",
     "text": [
      "Sending a post from user id: 5728195, posted on: 1546291884, sex - F\n"
     ]
    },
    {
     "name": "stderr",
     "output_type": "stream",
     "text": [
      "  0%|          | 37/73624 [00:52<20:50:41,  1.02s/it]"
     ]
    },
    {
     "name": "stdout",
     "output_type": "stream",
     "text": [
      "Sending a post from user id: 58974822, posted on: 1546291930, sex - M\n"
     ]
    },
    {
     "name": "stderr",
     "output_type": "stream",
     "text": [
      "  0%|          | 38/73624 [00:54<21:09:46,  1.04s/it]"
     ]
    },
    {
     "name": "stdout",
     "output_type": "stream",
     "text": [
      "Sending a post from user id: 24974434, posted on: 1546291971, sex - M\n"
     ]
    },
    {
     "name": "stderr",
     "output_type": "stream",
     "text": [
      "  0%|          | 39/73624 [00:54<16:41:15,  1.22it/s]"
     ]
    },
    {
     "name": "stdout",
     "output_type": "stream",
     "text": [
      "Sending a post from user id: 172385848, posted on: 1546292281, sex - M\n"
     ]
    },
    {
     "name": "stderr",
     "output_type": "stream",
     "text": [
      "  0%|          | 40/73624 [00:56<23:47:07,  1.16s/it]"
     ]
    },
    {
     "name": "stdout",
     "output_type": "stream",
     "text": [
      "Sending a post from user id: 208117755, posted on: 1546292509, sex - F\n"
     ]
    },
    {
     "name": "stderr",
     "output_type": "stream",
     "text": [
      "  0%|          | 41/73624 [00:57<21:28:10,  1.05s/it]"
     ]
    },
    {
     "name": "stdout",
     "output_type": "stream",
     "text": [
      "Sending a post from user id: 22746312, posted on: 1546292704, sex - F\n"
     ]
    },
    {
     "name": "stderr",
     "output_type": "stream",
     "text": [
      "  0%|          | 42/73624 [00:58<21:51:14,  1.07s/it]"
     ]
    },
    {
     "name": "stdout",
     "output_type": "stream",
     "text": [
      "Sending a post from user id: 47788158, posted on: 1546292843, sex - M\n"
     ]
    },
    {
     "name": "stderr",
     "output_type": "stream",
     "text": [
      "  0%|          | 43/73624 [00:59<21:40:26,  1.06s/it]"
     ]
    },
    {
     "name": "stdout",
     "output_type": "stream",
     "text": [
      "Sending a post from user id: 28522655, posted on: 1546292963, sex - M\n"
     ]
    },
    {
     "name": "stderr",
     "output_type": "stream",
     "text": [
      "  0%|          | 44/73624 [01:00<20:46:15,  1.02s/it]"
     ]
    },
    {
     "name": "stdout",
     "output_type": "stream",
     "text": [
      "Sending a post from user id: 165146319, posted on: 1546293034, sex - F\n"
     ]
    },
    {
     "name": "stderr",
     "output_type": "stream",
     "text": [
      "  0%|          | 46/73624 [01:01<15:04:52,  1.36it/s]"
     ]
    },
    {
     "name": "stdout",
     "output_type": "stream",
     "text": [
      "Sending a post from user id: 475220, posted on: 1546293095, sex - F\n",
      "Sending a post from user id: 165146319, posted on: 1546293157, sex - F\n"
     ]
    },
    {
     "name": "stderr",
     "output_type": "stream",
     "text": [
      "  0%|          | 47/73624 [01:02<18:59:36,  1.08it/s]"
     ]
    },
    {
     "name": "stdout",
     "output_type": "stream",
     "text": [
      "Sending a post from user id: 188548515, posted on: 1546293182, sex - M\n"
     ]
    },
    {
     "name": "stderr",
     "output_type": "stream",
     "text": [
      "  0%|          | 48/73624 [01:03<19:57:35,  1.02it/s]"
     ]
    },
    {
     "name": "stdout",
     "output_type": "stream",
     "text": [
      "Sending a post from user id: 6386424, posted on: 1546293198, sex - M\n"
     ]
    },
    {
     "name": "stderr",
     "output_type": "stream",
     "text": [
      "  0%|          | 49/73624 [01:05<25:39:11,  1.26s/it]"
     ]
    },
    {
     "name": "stdout",
     "output_type": "stream",
     "text": [
      "Sending a post from user id: 188548515, posted on: 1546293225, sex - M\n"
     ]
    },
    {
     "name": "stderr",
     "output_type": "stream",
     "text": [
      "  0%|          | 50/73624 [01:07<27:00:45,  1.32s/it]"
     ]
    },
    {
     "name": "stdout",
     "output_type": "stream",
     "text": [
      "Sending a post from user id: 221147527, posted on: 1546293351, sex - M\n"
     ]
    },
    {
     "name": "stderr",
     "output_type": "stream",
     "text": [
      "  0%|          | 51/73624 [01:07<23:38:06,  1.16s/it]"
     ]
    },
    {
     "name": "stdout",
     "output_type": "stream",
     "text": [
      "Sending a post from user id: 986544, posted on: 1546293379, sex - M\n"
     ]
    },
    {
     "name": "stderr",
     "output_type": "stream",
     "text": [
      "  0%|          | 52/73624 [01:08<19:34:38,  1.04it/s]"
     ]
    },
    {
     "name": "stdout",
     "output_type": "stream",
     "text": [
      "Sending a post from user id: 394348, posted on: 1546293520, sex - M\n"
     ]
    },
    {
     "name": "stderr",
     "output_type": "stream",
     "text": [
      "  0%|          | 53/73624 [01:09<22:43:02,  1.11s/it]"
     ]
    },
    {
     "name": "stdout",
     "output_type": "stream",
     "text": [
      "Sending a post from user id: 453948090, posted on: 1546294014, sex - M\n"
     ]
    },
    {
     "name": "stderr",
     "output_type": "stream",
     "text": [
      "  0%|          | 54/73624 [01:11<26:24:38,  1.29s/it]"
     ]
    },
    {
     "name": "stdout",
     "output_type": "stream",
     "text": [
      "Sending a post from user id: 12561230, posted on: 1546294167, sex - F\n"
     ]
    },
    {
     "name": "stderr",
     "output_type": "stream",
     "text": [
      "  0%|          | 55/73624 [01:12<23:45:11,  1.16s/it]"
     ]
    },
    {
     "name": "stdout",
     "output_type": "stream",
     "text": [
      "Sending a post from user id: 190636098, posted on: 1546294183, sex - F\n"
     ]
    },
    {
     "name": "stderr",
     "output_type": "stream",
     "text": [
      "  0%|          | 56/73624 [01:13<26:29:24,  1.30s/it]"
     ]
    },
    {
     "name": "stdout",
     "output_type": "stream",
     "text": [
      "Sending a post from user id: 905629, posted on: 1546294384, sex - F\n"
     ]
    },
    {
     "name": "stderr",
     "output_type": "stream",
     "text": [
      "  0%|          | 57/73624 [01:15<27:07:16,  1.33s/it]"
     ]
    },
    {
     "name": "stdout",
     "output_type": "stream",
     "text": [
      "Sending a post from user id: 905629, posted on: 1546294459, sex - F\n"
     ]
    },
    {
     "name": "stderr",
     "output_type": "stream",
     "text": [
      "  0%|          | 58/73624 [01:16<25:07:23,  1.23s/it]"
     ]
    },
    {
     "name": "stdout",
     "output_type": "stream",
     "text": [
      "Sending a post from user id: 326164741, posted on: 1546294488, sex - F\n"
     ]
    },
    {
     "name": "stderr",
     "output_type": "stream",
     "text": [
      "  0%|          | 59/73624 [01:17<26:24:41,  1.29s/it]"
     ]
    },
    {
     "name": "stdout",
     "output_type": "stream",
     "text": [
      "Sending a post from user id: 3710274, posted on: 1546294577, sex - M\n"
     ]
    },
    {
     "name": "stderr",
     "output_type": "stream",
     "text": [
      "  0%|          | 60/73624 [01:19<26:56:45,  1.32s/it]"
     ]
    },
    {
     "name": "stdout",
     "output_type": "stream",
     "text": [
      "Sending a post from user id: 33487, posted on: 1546294712, sex - F\n"
     ]
    },
    {
     "name": "stderr",
     "output_type": "stream",
     "text": [
      "  0%|          | 61/73624 [01:19<21:18:34,  1.04s/it]"
     ]
    },
    {
     "name": "stdout",
     "output_type": "stream",
     "text": [
      "Sending a post from user id: 1129941, posted on: 1546295091, sex - F\n"
     ]
    },
    {
     "name": "stderr",
     "output_type": "stream",
     "text": [
      "  0%|          | 63/73624 [01:20<13:26:47,  1.52it/s]"
     ]
    },
    {
     "name": "stdout",
     "output_type": "stream",
     "text": [
      "Sending a post from user id: 381962835, posted on: 1546295269, sex - M\n",
      "Sending a post from user id: 7692544, posted on: 1546295476, sex - M\n"
     ]
    },
    {
     "name": "stderr",
     "output_type": "stream",
     "text": [
      "  0%|          | 64/73624 [01:21<17:59:06,  1.14it/s]"
     ]
    },
    {
     "name": "stdout",
     "output_type": "stream",
     "text": [
      "Sending a post from user id: 351465764, posted on: 1546295532, sex - F\n"
     ]
    },
    {
     "name": "stderr",
     "output_type": "stream",
     "text": [
      "  0%|          | 65/73624 [01:22<16:14:15,  1.26it/s]"
     ]
    },
    {
     "name": "stdout",
     "output_type": "stream",
     "text": [
      "Sending a post from user id: 1077823, posted on: 1546295546, sex - F\n"
     ]
    },
    {
     "name": "stderr",
     "output_type": "stream",
     "text": [
      "  0%|          | 66/73624 [01:22<15:11:52,  1.34it/s]"
     ]
    },
    {
     "name": "stdout",
     "output_type": "stream",
     "text": [
      "Sending a post from user id: 1287770, posted on: 1546295553, sex - F\n"
     ]
    },
    {
     "name": "stderr",
     "output_type": "stream",
     "text": [
      "  0%|          | 67/73624 [01:24<22:11:58,  1.09s/it]"
     ]
    },
    {
     "name": "stdout",
     "output_type": "stream",
     "text": [
      "Sending a post from user id: 337037, posted on: 1546296509, sex - F\n"
     ]
    },
    {
     "name": "stderr",
     "output_type": "stream",
     "text": [
      "  0%|          | 68/73624 [01:26<26:35:43,  1.30s/it]"
     ]
    },
    {
     "name": "stdout",
     "output_type": "stream",
     "text": [
      "Sending a post from user id: 187543327, posted on: 1546296713, sex - F\n"
     ]
    },
    {
     "name": "stderr",
     "output_type": "stream",
     "text": [
      "  0%|          | 69/73624 [01:27<25:08:04,  1.23s/it]"
     ]
    },
    {
     "name": "stdout",
     "output_type": "stream",
     "text": [
      "Sending a post from user id: 352126309, posted on: 1546297174, sex - M\n"
     ]
    },
    {
     "name": "stderr",
     "output_type": "stream",
     "text": [
      "  0%|          | 70/73624 [01:28<24:53:47,  1.22s/it]"
     ]
    },
    {
     "name": "stdout",
     "output_type": "stream",
     "text": [
      "Sending a post from user id: 431460715, posted on: 1546297239, sex - F\n"
     ]
    },
    {
     "name": "stderr",
     "output_type": "stream",
     "text": [
      "  0%|          | 71/73624 [01:30<27:36:05,  1.35s/it]"
     ]
    },
    {
     "name": "stdout",
     "output_type": "stream",
     "text": [
      "Sending a post from user id: 357710591, posted on: 1546297411, sex - M\n"
     ]
    },
    {
     "name": "stderr",
     "output_type": "stream",
     "text": [
      "  0%|          | 73/73624 [01:31<19:41:38,  1.04it/s]"
     ]
    },
    {
     "name": "stdout",
     "output_type": "stream",
     "text": [
      "Sending a post from user id: 62486981, posted on: 1546297453, sex - F\n",
      "Sending a post from user id: 171900534, posted on: 1546297740, sex - F\n"
     ]
    },
    {
     "name": "stderr",
     "output_type": "stream",
     "text": [
      "  0%|          | 74/73624 [01:32<15:21:35,  1.33it/s]"
     ]
    },
    {
     "name": "stdout",
     "output_type": "stream",
     "text": [
      "Sending a post from user id: 2818498, posted on: 1546297764, sex - F\n"
     ]
    },
    {
     "name": "stderr",
     "output_type": "stream",
     "text": [
      "  0%|          | 75/73624 [01:33<21:55:58,  1.07s/it]"
     ]
    },
    {
     "name": "stdout",
     "output_type": "stream",
     "text": [
      "Sending a post from user id: 171900534, posted on: 1546297843, sex - F\n"
     ]
    },
    {
     "name": "stderr",
     "output_type": "stream",
     "text": [
      "  0%|          | 76/73624 [01:35<25:38:18,  1.25s/it]"
     ]
    },
    {
     "name": "stdout",
     "output_type": "stream",
     "text": [
      "Sending a post from user id: 7361571, posted on: 1546298099, sex - M\n"
     ]
    },
    {
     "name": "stderr",
     "output_type": "stream",
     "text": [
      "  0%|          | 77/73624 [01:35<20:23:50,  1.00it/s]"
     ]
    },
    {
     "name": "stdout",
     "output_type": "stream",
     "text": [
      "Sending a post from user id: 137757972, posted on: 1546298432, sex - M\n"
     ]
    },
    {
     "name": "stderr",
     "output_type": "stream",
     "text": [
      "  0%|          | 78/73624 [01:37<22:52:37,  1.12s/it]"
     ]
    },
    {
     "name": "stdout",
     "output_type": "stream",
     "text": [
      "Sending a post from user id: 112696437, posted on: 1546298461, sex - M\n"
     ]
    },
    {
     "name": "stderr",
     "output_type": "stream",
     "text": [
      "  0%|          | 79/73624 [01:38<19:47:54,  1.03it/s]"
     ]
    },
    {
     "name": "stdout",
     "output_type": "stream",
     "text": [
      "Sending a post from user id: 25317378, posted on: 1546298920, sex - F\n"
     ]
    },
    {
     "name": "stderr",
     "output_type": "stream",
     "text": [
      "  0%|          | 80/73624 [01:39<21:51:22,  1.07s/it]"
     ]
    },
    {
     "name": "stdout",
     "output_type": "stream",
     "text": [
      "Sending a post from user id: 377117821, posted on: 1546299260, sex - M\n"
     ]
    },
    {
     "name": "stderr",
     "output_type": "stream",
     "text": [
      "  0%|          | 81/73624 [01:40<20:28:39,  1.00s/it]"
     ]
    },
    {
     "name": "stdout",
     "output_type": "stream",
     "text": [
      "Sending a post from user id: 380687952, posted on: 1546300020, sex - F\n"
     ]
    },
    {
     "name": "stderr",
     "output_type": "stream",
     "text": [
      "  0%|          | 82/73624 [01:40<17:17:50,  1.18it/s]"
     ]
    },
    {
     "name": "stdout",
     "output_type": "stream",
     "text": [
      "Sending a post from user id: 3018417, posted on: 1546300227, sex - M\n"
     ]
    },
    {
     "name": "stderr",
     "output_type": "stream",
     "text": [
      "  0%|          | 83/73624 [01:42<21:14:07,  1.04s/it]"
     ]
    },
    {
     "name": "stdout",
     "output_type": "stream",
     "text": [
      "Sending a post from user id: 740914, posted on: 1546302019, sex - F\n"
     ]
    },
    {
     "name": "stderr",
     "output_type": "stream",
     "text": [
      "  0%|          | 84/73624 [01:43<23:02:26,  1.13s/it]"
     ]
    },
    {
     "name": "stdout",
     "output_type": "stream",
     "text": [
      "Sending a post from user id: 290772221, posted on: 1546302845, sex - F\n"
     ]
    },
    {
     "name": "stderr",
     "output_type": "stream",
     "text": [
      "  0%|          | 86/73624 [01:44<14:10:03,  1.44it/s]"
     ]
    },
    {
     "name": "stdout",
     "output_type": "stream",
     "text": [
      "Sending a post from user id: 158423, posted on: 1546302888, sex - M\n",
      "Sending a post from user id: 211128084, posted on: 1546303091, sex - F\n"
     ]
    },
    {
     "name": "stderr",
     "output_type": "stream",
     "text": [
      "  0%|          | 87/73624 [01:44<14:58:43,  1.36it/s]"
     ]
    },
    {
     "name": "stdout",
     "output_type": "stream",
     "text": [
      "Sending a post from user id: 158423, posted on: 1546303659, sex - M\n"
     ]
    },
    {
     "name": "stderr",
     "output_type": "stream",
     "text": [
      "  0%|          | 88/73624 [01:45<12:36:58,  1.62it/s]"
     ]
    },
    {
     "name": "stdout",
     "output_type": "stream",
     "text": [
      "Sending a post from user id: 25472200, posted on: 1546303752, sex - F\n"
     ]
    },
    {
     "name": "stderr",
     "output_type": "stream",
     "text": [
      "  0%|          | 89/73624 [01:46<14:26:16,  1.41it/s]"
     ]
    },
    {
     "name": "stdout",
     "output_type": "stream",
     "text": [
      "Sending a post from user id: 25672927, posted on: 1546303887, sex - F\n"
     ]
    },
    {
     "name": "stderr",
     "output_type": "stream",
     "text": [
      "  0%|          | 90/73624 [01:48<22:13:44,  1.09s/it]"
     ]
    },
    {
     "name": "stdout",
     "output_type": "stream",
     "text": [
      "Sending a post from user id: 241292907, posted on: 1546304402, sex - M\n"
     ]
    },
    {
     "name": "stderr",
     "output_type": "stream",
     "text": [
      "  0%|          | 91/73624 [01:48<18:13:50,  1.12it/s]"
     ]
    },
    {
     "name": "stdout",
     "output_type": "stream",
     "text": [
      "Sending a post from user id: 122825441, posted on: 1546304873, sex - F\n"
     ]
    },
    {
     "name": "stderr",
     "output_type": "stream",
     "text": [
      "  0%|          | 92/73624 [01:49<15:30:14,  1.32it/s]"
     ]
    },
    {
     "name": "stdout",
     "output_type": "stream",
     "text": [
      "Sending a post from user id: 14622371, posted on: 1546305308, sex - F\n"
     ]
    },
    {
     "name": "stderr",
     "output_type": "stream",
     "text": [
      "  0%|          | 93/73624 [01:50<21:25:11,  1.05s/it]"
     ]
    },
    {
     "name": "stdout",
     "output_type": "stream",
     "text": [
      "Sending a post from user id: 5685, posted on: 1546305962, sex - F\n"
     ]
    },
    {
     "name": "stderr",
     "output_type": "stream",
     "text": [
      "  0%|          | 94/73624 [01:52<24:17:44,  1.19s/it]"
     ]
    },
    {
     "name": "stdout",
     "output_type": "stream",
     "text": [
      "Sending a post from user id: 94494, posted on: 1546306322, sex - F\n"
     ]
    },
    {
     "name": "stderr",
     "output_type": "stream",
     "text": [
      "  0%|          | 95/73624 [01:52<18:16:50,  1.12it/s]"
     ]
    },
    {
     "name": "stdout",
     "output_type": "stream",
     "text": [
      "Sending a post from user id: 50789478, posted on: 1546307748, sex - M\n"
     ]
    },
    {
     "name": "stderr",
     "output_type": "stream",
     "text": [
      "  0%|          | 96/73624 [01:52<14:15:28,  1.43it/s]"
     ]
    },
    {
     "name": "stdout",
     "output_type": "stream",
     "text": [
      "Sending a post from user id: 506003082, posted on: 1546308006, sex - F\n"
     ]
    },
    {
     "name": "stderr",
     "output_type": "stream",
     "text": [
      "  0%|          | 97/73624 [01:53<17:32:01,  1.16it/s]"
     ]
    },
    {
     "name": "stdout",
     "output_type": "stream",
     "text": [
      "Sending a post from user id: 211128084, posted on: 1546308006, sex - F\n"
     ]
    },
    {
     "name": "stderr",
     "output_type": "stream",
     "text": [
      "  0%|          | 99/73624 [01:54<13:09:36,  1.55it/s]"
     ]
    },
    {
     "name": "stdout",
     "output_type": "stream",
     "text": [
      "Sending a post from user id: 34763428, posted on: 1546308373, sex - M\n",
      "Sending a post from user id: 174291546, posted on: 1546309443, sex - F\n"
     ]
    },
    {
     "name": "stderr",
     "output_type": "stream",
     "text": [
      "  0%|          | 100/73624 [01:55<13:34:25,  1.50it/s]"
     ]
    },
    {
     "name": "stdout",
     "output_type": "stream",
     "text": [
      "Sending a post from user id: 222620376, posted on: 1546310080, sex - F\n"
     ]
    },
    {
     "name": "stderr",
     "output_type": "stream",
     "text": [
      "  0%|          | 101/73624 [01:56<14:07:42,  1.45it/s]"
     ]
    },
    {
     "name": "stdout",
     "output_type": "stream",
     "text": [
      "Sending a post from user id: 20465166, posted on: 1546310081, sex - M\n"
     ]
    },
    {
     "name": "stderr",
     "output_type": "stream",
     "text": [
      "  0%|          | 102/73624 [01:56<12:31:25,  1.63it/s]"
     ]
    },
    {
     "name": "stdout",
     "output_type": "stream",
     "text": [
      "Sending a post from user id: 220646663, posted on: 1546311384, sex - M\n"
     ]
    },
    {
     "name": "stderr",
     "output_type": "stream",
     "text": [
      "  0%|          | 103/73624 [01:57<15:11:34,  1.34it/s]"
     ]
    },
    {
     "name": "stdout",
     "output_type": "stream",
     "text": [
      "Sending a post from user id: 226617, posted on: 1546311400, sex - M\n"
     ]
    },
    {
     "name": "stderr",
     "output_type": "stream",
     "text": [
      "  0%|          | 104/73624 [01:59<22:14:45,  1.09s/it]"
     ]
    },
    {
     "name": "stdout",
     "output_type": "stream",
     "text": [
      "Sending a post from user id: 174291546, posted on: 1546313259, sex - F\n"
     ]
    },
    {
     "name": "stderr",
     "output_type": "stream",
     "text": [
      "  0%|          | 105/73624 [02:00<20:54:05,  1.02s/it]"
     ]
    },
    {
     "name": "stdout",
     "output_type": "stream",
     "text": [
      "Sending a post from user id: 17610213, posted on: 1546313529, sex - M\n"
     ]
    },
    {
     "name": "stderr",
     "output_type": "stream",
     "text": [
      "  0%|          | 106/73624 [02:02<25:50:09,  1.27s/it]"
     ]
    },
    {
     "name": "stdout",
     "output_type": "stream",
     "text": [
      "Sending a post from user id: 119541587, posted on: 1546314176, sex - M\n"
     ]
    },
    {
     "name": "stderr",
     "output_type": "stream",
     "text": [
      "  0%|          | 107/73624 [02:04<27:47:43,  1.36s/it]"
     ]
    },
    {
     "name": "stdout",
     "output_type": "stream",
     "text": [
      "Sending a post from user id: 199045493, posted on: 1546317522, sex - F\n"
     ]
    },
    {
     "name": "stderr",
     "output_type": "stream",
     "text": [
      "  0%|          | 108/73624 [02:04<21:35:22,  1.06s/it]"
     ]
    },
    {
     "name": "stdout",
     "output_type": "stream",
     "text": [
      "Sending a post from user id: 117201453, posted on: 1546318373, sex - F\n"
     ]
    },
    {
     "name": "stderr",
     "output_type": "stream",
     "text": [
      "  0%|          | 109/73624 [02:05<21:20:17,  1.04s/it]"
     ]
    },
    {
     "name": "stdout",
     "output_type": "stream",
     "text": [
      "Sending a post from user id: 464166807, posted on: 1546318513, sex - F\n"
     ]
    },
    {
     "name": "stderr",
     "output_type": "stream",
     "text": [
      "  0%|          | 110/73624 [02:06<21:23:11,  1.05s/it]"
     ]
    },
    {
     "name": "stdout",
     "output_type": "stream",
     "text": [
      "Sending a post from user id: 363497, posted on: 1546318576, sex - F\n"
     ]
    },
    {
     "name": "stderr",
     "output_type": "stream",
     "text": [
      "  0%|          | 111/73624 [02:06<16:45:29,  1.22it/s]"
     ]
    },
    {
     "name": "stdout",
     "output_type": "stream",
     "text": [
      "Sending a post from user id: 363497, posted on: 1546319521, sex - F\n"
     ]
    },
    {
     "name": "stderr",
     "output_type": "stream",
     "text": [
      "  0%|          | 112/73624 [02:08<20:44:27,  1.02s/it]"
     ]
    },
    {
     "name": "stdout",
     "output_type": "stream",
     "text": [
      "Sending a post from user id: 464166807, posted on: 1546319633, sex - F\n"
     ]
    },
    {
     "name": "stderr",
     "output_type": "stream",
     "text": [
      "  0%|          | 113/73624 [02:09<19:43:35,  1.04it/s]"
     ]
    },
    {
     "name": "stdout",
     "output_type": "stream",
     "text": [
      "Sending a post from user id: 279517185, posted on: 1546319834, sex - M\n"
     ]
    },
    {
     "name": "stderr",
     "output_type": "stream",
     "text": [
      "  0%|          | 114/73624 [02:10<21:43:42,  1.06s/it]"
     ]
    },
    {
     "name": "stdout",
     "output_type": "stream",
     "text": [
      "Sending a post from user id: 5098349, posted on: 1546320541, sex - F\n"
     ]
    },
    {
     "name": "stderr",
     "output_type": "stream",
     "text": [
      "  0%|          | 115/73624 [02:10<18:22:35,  1.11it/s]"
     ]
    },
    {
     "name": "stdout",
     "output_type": "stream",
     "text": [
      "Sending a post from user id: 6793753, posted on: 1546322084, sex - F\n"
     ]
    },
    {
     "name": "stderr",
     "output_type": "stream",
     "text": [
      "  0%|          | 116/73624 [02:11<17:17:54,  1.18it/s]"
     ]
    },
    {
     "name": "stdout",
     "output_type": "stream",
     "text": [
      "Sending a post from user id: 8694246, posted on: 1546322406, sex - F\n"
     ]
    },
    {
     "name": "stderr",
     "output_type": "stream",
     "text": [
      "  0%|          | 117/73624 [02:12<17:39:08,  1.16it/s]"
     ]
    },
    {
     "name": "stdout",
     "output_type": "stream",
     "text": [
      "Sending a post from user id: 304381986, posted on: 1546322649, sex - F\n"
     ]
    },
    {
     "name": "stderr",
     "output_type": "stream",
     "text": [
      "  0%|          | 118/73624 [02:12<14:55:58,  1.37it/s]"
     ]
    },
    {
     "name": "stdout",
     "output_type": "stream",
     "text": [
      "Sending a post from user id: 194073434, posted on: 1546324816, sex - M\n"
     ]
    },
    {
     "name": "stderr",
     "output_type": "stream",
     "text": [
      "  0%|          | 119/73624 [02:13<16:28:05,  1.24it/s]"
     ]
    },
    {
     "name": "stdout",
     "output_type": "stream",
     "text": [
      "Sending a post from user id: 525538, posted on: 1546325899, sex - F\n"
     ]
    },
    {
     "name": "stderr",
     "output_type": "stream",
     "text": [
      "  0%|          | 120/73624 [02:15<19:36:54,  1.04it/s]"
     ]
    },
    {
     "name": "stdout",
     "output_type": "stream",
     "text": [
      "Sending a post from user id: 8631697, posted on: 1546326961, sex - F\n"
     ]
    },
    {
     "name": "stderr",
     "output_type": "stream",
     "text": [
      "  0%|          | 121/73624 [02:16<21:43:18,  1.06s/it]"
     ]
    },
    {
     "name": "stdout",
     "output_type": "stream",
     "text": [
      "Sending a post from user id: 1850377, posted on: 1546328542, sex - M\n"
     ]
    },
    {
     "name": "stderr",
     "output_type": "stream",
     "text": [
      "  0%|          | 122/73624 [02:16<17:08:11,  1.19it/s]"
     ]
    },
    {
     "name": "stdout",
     "output_type": "stream",
     "text": [
      "Sending a post from user id: 98457549, posted on: 1546328805, sex - M\n"
     ]
    },
    {
     "name": "stderr",
     "output_type": "stream",
     "text": [
      "  0%|          | 123/73624 [02:17<15:46:21,  1.29it/s]"
     ]
    },
    {
     "name": "stdout",
     "output_type": "stream",
     "text": [
      "Sending a post from user id: 357710591, posted on: 1546329073, sex - M\n"
     ]
    },
    {
     "name": "stderr",
     "output_type": "stream",
     "text": [
      "  0%|          | 124/73624 [02:18<16:17:09,  1.25it/s]"
     ]
    },
    {
     "name": "stdout",
     "output_type": "stream",
     "text": [
      "Sending a post from user id: 141687240, posted on: 1546330159, sex - M\n"
     ]
    },
    {
     "name": "stderr",
     "output_type": "stream",
     "text": [
      "  0%|          | 125/73624 [02:19<21:25:14,  1.05s/it]"
     ]
    },
    {
     "name": "stdout",
     "output_type": "stream",
     "text": [
      "Sending a post from user id: 242739930, posted on: 1546330186, sex - F\n"
     ]
    },
    {
     "name": "stderr",
     "output_type": "stream",
     "text": [
      "  0%|          | 126/73624 [02:21<22:44:03,  1.11s/it]"
     ]
    },
    {
     "name": "stdout",
     "output_type": "stream",
     "text": [
      "Sending a post from user id: 141687240, posted on: 1546330193, sex - M\n"
     ]
    },
    {
     "name": "stderr",
     "output_type": "stream",
     "text": [
      "  0%|          | 127/73624 [02:22<25:53:29,  1.27s/it]"
     ]
    },
    {
     "name": "stdout",
     "output_type": "stream",
     "text": [
      "Sending a post from user id: 141687240, posted on: 1546330247, sex - M\n"
     ]
    },
    {
     "name": "stderr",
     "output_type": "stream",
     "text": [
      "  0%|          | 128/73624 [02:24<28:37:57,  1.40s/it]"
     ]
    },
    {
     "name": "stdout",
     "output_type": "stream",
     "text": [
      "Sending a post from user id: 37127521, posted on: 1546331484, sex - M\n"
     ]
    },
    {
     "name": "stderr",
     "output_type": "stream",
     "text": [
      "  0%|          | 129/73624 [02:25<25:12:48,  1.24s/it]"
     ]
    },
    {
     "name": "stdout",
     "output_type": "stream",
     "text": [
      "Sending a post from user id: 5098349, posted on: 1546331536, sex - F\n"
     ]
    },
    {
     "name": "stderr",
     "output_type": "stream",
     "text": [
      "  0%|          | 130/73624 [02:26<22:24:31,  1.10s/it]"
     ]
    },
    {
     "name": "stdout",
     "output_type": "stream",
     "text": [
      "Sending a post from user id: 12977, posted on: 1546332169, sex - M\n"
     ]
    },
    {
     "name": "stderr",
     "output_type": "stream",
     "text": [
      "  0%|          | 131/73624 [02:27<25:07:26,  1.23s/it]"
     ]
    },
    {
     "name": "stdout",
     "output_type": "stream",
     "text": [
      "Sending a post from user id: 293671289, posted on: 1546332392, sex - F\n"
     ]
    },
    {
     "name": "stderr",
     "output_type": "stream",
     "text": [
      "  0%|          | 132/73624 [02:28<24:27:34,  1.20s/it]"
     ]
    },
    {
     "name": "stdout",
     "output_type": "stream",
     "text": [
      "Sending a post from user id: 3457017, posted on: 1546332902, sex - M\n"
     ]
    },
    {
     "name": "stderr",
     "output_type": "stream",
     "text": [
      "  0%|          | 133/73624 [02:29<23:02:09,  1.13s/it]"
     ]
    },
    {
     "name": "stdout",
     "output_type": "stream",
     "text": [
      "Sending a post from user id: 435218, posted on: 1546332962, sex - F\n"
     ]
    },
    {
     "name": "stderr",
     "output_type": "stream",
     "text": [
      "  0%|          | 135/73624 [02:31<18:34:28,  1.10it/s]"
     ]
    },
    {
     "name": "stdout",
     "output_type": "stream",
     "text": [
      "Sending a post from user id: 352470436, posted on: 1546333294, sex - M\n",
      "Sending a post from user id: 1653991, posted on: 1546333322, sex - M\n"
     ]
    },
    {
     "name": "stderr",
     "output_type": "stream",
     "text": [
      "  0%|          | 136/73624 [02:32<17:24:01,  1.17it/s]"
     ]
    },
    {
     "name": "stdout",
     "output_type": "stream",
     "text": [
      "Sending a post from user id: 141687240, posted on: 1546333371, sex - M\n"
     ]
    },
    {
     "name": "stderr",
     "output_type": "stream",
     "text": [
      "  0%|          | 137/73624 [02:33<20:26:26,  1.00s/it]"
     ]
    },
    {
     "name": "stdout",
     "output_type": "stream",
     "text": [
      "Sending a post from user id: 253969541, posted on: 1546333553, sex - F\n"
     ]
    },
    {
     "name": "stderr",
     "output_type": "stream",
     "text": [
      "  0%|          | 138/73624 [02:35<24:04:17,  1.18s/it]"
     ]
    },
    {
     "name": "stdout",
     "output_type": "stream",
     "text": [
      "Sending a post from user id: 222620376, posted on: 1546333634, sex - F\n"
     ]
    },
    {
     "name": "stderr",
     "output_type": "stream",
     "text": [
      "  0%|          | 139/73624 [02:36<22:15:43,  1.09s/it]"
     ]
    },
    {
     "name": "stdout",
     "output_type": "stream",
     "text": [
      "Sending a post from user id: 37259038, posted on: 1546333810, sex - M\n"
     ]
    },
    {
     "name": "stderr",
     "output_type": "stream",
     "text": [
      "  0%|          | 140/73624 [02:36<20:56:25,  1.03s/it]"
     ]
    },
    {
     "name": "stdout",
     "output_type": "stream",
     "text": [
      "Sending a post from user id: 331956, posted on: 1546333872, sex - M\n"
     ]
    },
    {
     "name": "stderr",
     "output_type": "stream",
     "text": [
      "  0%|          | 141/73624 [02:38<23:02:47,  1.13s/it]"
     ]
    },
    {
     "name": "stdout",
     "output_type": "stream",
     "text": [
      "Sending a post from user id: 24974434, posted on: 1546334265, sex - M\n"
     ]
    },
    {
     "name": "stderr",
     "output_type": "stream",
     "text": [
      "  0%|          | 142/73624 [02:40<27:40:15,  1.36s/it]"
     ]
    },
    {
     "name": "stdout",
     "output_type": "stream",
     "text": [
      "Sending a post from user id: 253969541, posted on: 1546334387, sex - F\n"
     ]
    },
    {
     "name": "stderr",
     "output_type": "stream",
     "text": [
      "  0%|          | 143/73624 [02:41<28:14:54,  1.38s/it]"
     ]
    },
    {
     "name": "stdout",
     "output_type": "stream",
     "text": [
      "Sending a post from user id: 98457549, posted on: 1546334483, sex - M\n"
     ]
    },
    {
     "name": "stderr",
     "output_type": "stream",
     "text": [
      "  0%|          | 144/73624 [02:42<23:40:48,  1.16s/it]"
     ]
    },
    {
     "name": "stdout",
     "output_type": "stream",
     "text": [
      "Sending a post from user id: 251507477, posted on: 1546334504, sex - F\n"
     ]
    },
    {
     "name": "stderr",
     "output_type": "stream",
     "text": [
      "  0%|          | 145/73624 [02:43<26:16:36,  1.29s/it]"
     ]
    },
    {
     "name": "stdout",
     "output_type": "stream",
     "text": [
      "Sending a post from user id: 404755131, posted on: 1546334508, sex - M\n"
     ]
    },
    {
     "name": "stderr",
     "output_type": "stream",
     "text": [
      "  0%|          | 146/73624 [02:44<25:04:40,  1.23s/it]"
     ]
    },
    {
     "name": "stdout",
     "output_type": "stream",
     "text": [
      "Sending a post from user id: 174291546, posted on: 1546334537, sex - F\n"
     ]
    },
    {
     "name": "stderr",
     "output_type": "stream",
     "text": [
      "  0%|          | 147/73624 [02:46<24:34:47,  1.20s/it]"
     ]
    },
    {
     "name": "stdout",
     "output_type": "stream",
     "text": [
      "Sending a post from user id: 27102997, posted on: 1546334725, sex - F\n"
     ]
    },
    {
     "name": "stderr",
     "output_type": "stream",
     "text": [
      "  0%|          | 148/73624 [02:46<21:17:44,  1.04s/it]"
     ]
    },
    {
     "name": "stdout",
     "output_type": "stream",
     "text": [
      "Sending a post from user id: 242739930, posted on: 1546334986, sex - F\n"
     ]
    },
    {
     "name": "stderr",
     "output_type": "stream",
     "text": [
      "  0%|          | 149/73624 [02:47<22:20:40,  1.09s/it]"
     ]
    },
    {
     "name": "stdout",
     "output_type": "stream",
     "text": [
      "Sending a post from user id: 174291546, posted on: 1546335017, sex - F\n"
     ]
    },
    {
     "name": "stderr",
     "output_type": "stream",
     "text": [
      "  0%|          | 150/73624 [02:49<25:11:30,  1.23s/it]"
     ]
    },
    {
     "name": "stdout",
     "output_type": "stream",
     "text": [
      "Sending a post from user id: 96455354, posted on: 1546335055, sex - F\n"
     ]
    },
    {
     "name": "stderr",
     "output_type": "stream",
     "text": [
      "  0%|          | 151/73624 [02:51<27:33:32,  1.35s/it]"
     ]
    },
    {
     "name": "stdout",
     "output_type": "stream",
     "text": [
      "Sending a post from user id: 3809038, posted on: 1546335078, sex - F\n"
     ]
    },
    {
     "name": "stderr",
     "output_type": "stream",
     "text": [
      "  0%|          | 152/73624 [02:51<22:25:47,  1.10s/it]"
     ]
    },
    {
     "name": "stdout",
     "output_type": "stream",
     "text": [
      "Sending a post from user id: 24442515, posted on: 1546335182, sex - M\n"
     ]
    },
    {
     "name": "stderr",
     "output_type": "stream",
     "text": [
      "  0%|          | 153/73624 [02:52<19:44:57,  1.03it/s]"
     ]
    },
    {
     "name": "stdout",
     "output_type": "stream",
     "text": [
      "Sending a post from user id: 174291546, posted on: 1546335449, sex - F\n"
     ]
    },
    {
     "name": "stderr",
     "output_type": "stream",
     "text": [
      "  0%|          | 154/73624 [02:53<22:32:58,  1.10s/it]"
     ]
    },
    {
     "name": "stdout",
     "output_type": "stream",
     "text": [
      "Sending a post from user id: 27277042, posted on: 1546335524, sex - M\n"
     ]
    },
    {
     "name": "stderr",
     "output_type": "stream",
     "text": [
      "  0%|          | 155/73624 [02:55<27:57:17,  1.37s/it]"
     ]
    },
    {
     "name": "stdout",
     "output_type": "stream",
     "text": [
      "Sending a post from user id: 8694246, posted on: 1546335600, sex - F\n"
     ]
    },
    {
     "name": "stderr",
     "output_type": "stream",
     "text": [
      "  0%|          | 156/73624 [02:57<29:14:04,  1.43s/it]"
     ]
    },
    {
     "name": "stdout",
     "output_type": "stream",
     "text": [
      "Sending a post from user id: 215116682, posted on: 1546335766, sex - F\n"
     ]
    },
    {
     "name": "stderr",
     "output_type": "stream",
     "text": [
      "  0%|          | 157/73624 [02:57<23:23:01,  1.15s/it]"
     ]
    },
    {
     "name": "stdout",
     "output_type": "stream",
     "text": [
      "Sending a post from user id: 7868277, posted on: 1546335786, sex - M\n"
     ]
    },
    {
     "name": "stderr",
     "output_type": "stream",
     "text": [
      "  0%|          | 158/73624 [02:59<27:41:08,  1.36s/it]"
     ]
    },
    {
     "name": "stdout",
     "output_type": "stream",
     "text": [
      "Sending a post from user id: 37127521, posted on: 1546335839, sex - M\n"
     ]
    },
    {
     "name": "stderr",
     "output_type": "stream",
     "text": [
      "  0%|          | 159/73624 [03:01<30:26:29,  1.49s/it]"
     ]
    },
    {
     "name": "stdout",
     "output_type": "stream",
     "text": [
      "Sending a post from user id: 174291546, posted on: 1546336286, sex - F\n"
     ]
    },
    {
     "name": "stderr",
     "output_type": "stream",
     "text": [
      "  0%|          | 160/73624 [03:01<22:39:41,  1.11s/it]"
     ]
    },
    {
     "name": "stdout",
     "output_type": "stream",
     "text": [
      "Sending a post from user id: 24974434, posted on: 1546336315, sex - M\n"
     ]
    },
    {
     "name": "stderr",
     "output_type": "stream",
     "text": [
      "  0%|          | 161/73624 [03:02<22:26:33,  1.10s/it]"
     ]
    },
    {
     "name": "stdout",
     "output_type": "stream",
     "text": [
      "Sending a post from user id: 357231922, posted on: 1546336346, sex - F\n"
     ]
    },
    {
     "name": "stderr",
     "output_type": "stream",
     "text": [
      "  0%|          | 162/73624 [03:02<17:06:01,  1.19it/s]"
     ]
    },
    {
     "name": "stdout",
     "output_type": "stream",
     "text": [
      "Sending a post from user id: 366406819, posted on: 1546336477, sex - F\n"
     ]
    },
    {
     "name": "stderr",
     "output_type": "stream",
     "text": [
      "  0%|          | 163/73624 [03:03<18:07:29,  1.13it/s]"
     ]
    },
    {
     "name": "stdout",
     "output_type": "stream",
     "text": [
      "Sending a post from user id: 141687240, posted on: 1546336485, sex - M\n"
     ]
    },
    {
     "name": "stderr",
     "output_type": "stream",
     "text": [
      "  0%|          | 164/73624 [03:05<24:20:01,  1.19s/it]"
     ]
    },
    {
     "name": "stdout",
     "output_type": "stream",
     "text": [
      "Sending a post from user id: 333676050, posted on: 1546336685, sex - M\n"
     ]
    },
    {
     "name": "stderr",
     "output_type": "stream",
     "text": [
      "  0%|          | 166/73624 [03:07<18:45:53,  1.09it/s]"
     ]
    },
    {
     "name": "stdout",
     "output_type": "stream",
     "text": [
      "Sending a post from user id: 357231922, posted on: 1546336750, sex - F\n",
      "Sending a post from user id: 255396611, posted on: 1546336802, sex - F\n"
     ]
    },
    {
     "name": "stderr",
     "output_type": "stream",
     "text": [
      "  0%|          | 167/73624 [03:09<27:17:22,  1.34s/it]"
     ]
    },
    {
     "name": "stdout",
     "output_type": "stream",
     "text": [
      "Sending a post from user id: 357231922, posted on: 1546336992, sex - F\n"
     ]
    },
    {
     "name": "stderr",
     "output_type": "stream",
     "text": [
      "  0%|          | 168/73624 [03:10<25:14:29,  1.24s/it]"
     ]
    },
    {
     "name": "stdout",
     "output_type": "stream",
     "text": [
      "Sending a post from user id: 357231922, posted on: 1546337022, sex - F\n"
     ]
    },
    {
     "name": "stderr",
     "output_type": "stream",
     "text": [
      "  0%|          | 169/73624 [03:11<25:10:22,  1.23s/it]"
     ]
    },
    {
     "name": "stdout",
     "output_type": "stream",
     "text": [
      "Sending a post from user id: 357231922, posted on: 1546337046, sex - F\n"
     ]
    },
    {
     "name": "stderr",
     "output_type": "stream",
     "text": [
      "  0%|          | 170/73624 [03:13<24:59:09,  1.22s/it]"
     ]
    },
    {
     "name": "stdout",
     "output_type": "stream",
     "text": [
      "Sending a post from user id: 357231922, posted on: 1546337068, sex - F\n"
     ]
    },
    {
     "name": "stderr",
     "output_type": "stream",
     "text": [
      "  0%|          | 171/73624 [03:13<20:41:11,  1.01s/it]"
     ]
    },
    {
     "name": "stdout",
     "output_type": "stream",
     "text": [
      "Sending a post from user id: 357231922, posted on: 1546337285, sex - F\n"
     ]
    },
    {
     "name": "stderr",
     "output_type": "stream",
     "text": [
      "  0%|          | 172/73624 [03:15<23:57:16,  1.17s/it]"
     ]
    },
    {
     "name": "stdout",
     "output_type": "stream",
     "text": [
      "Sending a post from user id: 357231922, posted on: 1546337319, sex - F\n"
     ]
    },
    {
     "name": "stderr",
     "output_type": "stream",
     "text": [
      "  0%|          | 173/73624 [03:16<25:17:12,  1.24s/it]"
     ]
    },
    {
     "name": "stdout",
     "output_type": "stream",
     "text": [
      "Sending a post from user id: 357231922, posted on: 1546337344, sex - F\n"
     ]
    },
    {
     "name": "stderr",
     "output_type": "stream",
     "text": [
      "  0%|          | 174/73624 [03:16<19:55:05,  1.02it/s]"
     ]
    },
    {
     "name": "stdout",
     "output_type": "stream",
     "text": [
      "Sending a post from user id: 357231922, posted on: 1546337366, sex - F\n"
     ]
    },
    {
     "name": "stderr",
     "output_type": "stream",
     "text": [
      "  0%|          | 175/73624 [03:17<15:33:35,  1.31it/s]"
     ]
    },
    {
     "name": "stdout",
     "output_type": "stream",
     "text": [
      "Sending a post from user id: 184760388, posted on: 1546337370, sex - M\n"
     ]
    },
    {
     "name": "stderr",
     "output_type": "stream",
     "text": [
      "  0%|          | 176/73624 [03:17<13:18:21,  1.53it/s]"
     ]
    },
    {
     "name": "stdout",
     "output_type": "stream",
     "text": [
      "Sending a post from user id: 357231922, posted on: 1546337608, sex - F\n"
     ]
    },
    {
     "name": "stderr",
     "output_type": "stream",
     "text": [
      "  0%|          | 177/73624 [03:17<10:58:48,  1.86it/s]"
     ]
    },
    {
     "name": "stdout",
     "output_type": "stream",
     "text": [
      "Sending a post from user id: 357231922, posted on: 1546337637, sex - F\n"
     ]
    },
    {
     "name": "stderr",
     "output_type": "stream",
     "text": [
      "  0%|          | 178/73624 [03:18<11:28:48,  1.78it/s]"
     ]
    },
    {
     "name": "stdout",
     "output_type": "stream",
     "text": [
      "Sending a post from user id: 144953101, posted on: 1546337741, sex - F\n"
     ]
    },
    {
     "name": "stderr",
     "output_type": "stream",
     "text": [
      "  0%|          | 179/73624 [03:18<9:44:09,  2.10it/s] "
     ]
    },
    {
     "name": "stdout",
     "output_type": "stream",
     "text": [
      "Sending a post from user id: 445159771, posted on: 1546337742, sex - F\n"
     ]
    },
    {
     "name": "stderr",
     "output_type": "stream",
     "text": [
      "  0%|          | 180/73624 [03:19<10:03:48,  2.03it/s]"
     ]
    },
    {
     "name": "stdout",
     "output_type": "stream",
     "text": [
      "Sending a post from user id: 357231922, posted on: 1546337746, sex - F\n"
     ]
    },
    {
     "name": "stderr",
     "output_type": "stream",
     "text": [
      "  0%|          | 181/73624 [03:21<18:38:43,  1.09it/s]"
     ]
    },
    {
     "name": "stdout",
     "output_type": "stream",
     "text": [
      "Sending a post from user id: 357231922, posted on: 1546337787, sex - F\n"
     ]
    },
    {
     "name": "stderr",
     "output_type": "stream",
     "text": [
      "  0%|          | 182/73624 [03:21<15:28:50,  1.32it/s]"
     ]
    },
    {
     "name": "stdout",
     "output_type": "stream",
     "text": [
      "Sending a post from user id: 357231922, posted on: 1546337813, sex - F\n"
     ]
    },
    {
     "name": "stderr",
     "output_type": "stream",
     "text": [
      "  0%|          | 183/73624 [03:21<12:59:40,  1.57it/s]"
     ]
    },
    {
     "name": "stdout",
     "output_type": "stream",
     "text": [
      "Sending a post from user id: 357231922, posted on: 1546337835, sex - F\n"
     ]
    },
    {
     "name": "stderr",
     "output_type": "stream",
     "text": [
      "  0%|          | 184/73624 [03:23<21:20:18,  1.05s/it]"
     ]
    },
    {
     "name": "stdout",
     "output_type": "stream",
     "text": [
      "Sending a post from user id: 357231922, posted on: 1546337865, sex - F\n"
     ]
    },
    {
     "name": "stderr",
     "output_type": "stream",
     "text": [
      "  0%|          | 185/73624 [03:25<23:01:13,  1.13s/it]"
     ]
    },
    {
     "name": "stdout",
     "output_type": "stream",
     "text": [
      "Sending a post from user id: 357231922, posted on: 1546337887, sex - F\n"
     ]
    },
    {
     "name": "stderr",
     "output_type": "stream",
     "text": [
      "  0%|          | 187/73624 [03:25<13:54:36,  1.47it/s]"
     ]
    },
    {
     "name": "stdout",
     "output_type": "stream",
     "text": [
      "Sending a post from user id: 357231922, posted on: 1546337913, sex - F\n",
      "Sending a post from user id: 357231922, posted on: 1546337943, sex - F\n"
     ]
    },
    {
     "name": "stderr",
     "output_type": "stream",
     "text": [
      "  0%|          | 188/73624 [03:27<17:05:45,  1.19it/s]"
     ]
    },
    {
     "name": "stdout",
     "output_type": "stream",
     "text": [
      "Sending a post from user id: 357231922, posted on: 1546337972, sex - F\n"
     ]
    },
    {
     "name": "stderr",
     "output_type": "stream",
     "text": [
      "  0%|          | 189/73624 [03:27<13:43:04,  1.49it/s]"
     ]
    },
    {
     "name": "stdout",
     "output_type": "stream",
     "text": [
      "Sending a post from user id: 357231922, posted on: 1546338141, sex - F\n"
     ]
    },
    {
     "name": "stderr",
     "output_type": "stream",
     "text": [
      "  0%|          | 190/73624 [03:27<11:43:01,  1.74it/s]"
     ]
    },
    {
     "name": "stdout",
     "output_type": "stream",
     "text": [
      "Sending a post from user id: 8631697, posted on: 1546338142, sex - F\n"
     ]
    },
    {
     "name": "stderr",
     "output_type": "stream",
     "text": [
      "  0%|          | 191/73624 [03:28<14:42:15,  1.39it/s]"
     ]
    },
    {
     "name": "stdout",
     "output_type": "stream",
     "text": [
      "Sending a post from user id: 6842801, posted on: 1546338191, sex - F\n"
     ]
    },
    {
     "name": "stderr",
     "output_type": "stream",
     "text": [
      "  0%|          | 192/73624 [03:30<21:52:08,  1.07s/it]"
     ]
    },
    {
     "name": "stdout",
     "output_type": "stream",
     "text": [
      "Sending a post from user id: 357231922, posted on: 1546338234, sex - F\n"
     ]
    },
    {
     "name": "stderr",
     "output_type": "stream",
     "text": [
      "  0%|          | 193/73624 [03:32<24:19:36,  1.19s/it]"
     ]
    },
    {
     "name": "stdout",
     "output_type": "stream",
     "text": [
      "Sending a post from user id: 1077823, posted on: 1546338244, sex - F\n"
     ]
    },
    {
     "name": "stderr",
     "output_type": "stream",
     "text": [
      "  0%|          | 194/73624 [03:32<18:51:26,  1.08it/s]"
     ]
    },
    {
     "name": "stdout",
     "output_type": "stream",
     "text": [
      "Sending a post from user id: 2747960, posted on: 1546338277, sex - F\n"
     ]
    },
    {
     "name": "stderr",
     "output_type": "stream",
     "text": [
      "  0%|          | 195/73624 [03:33<20:42:00,  1.01s/it]"
     ]
    },
    {
     "name": "stdout",
     "output_type": "stream",
     "text": [
      "Sending a post from user id: 357231922, posted on: 1546338426, sex - F\n"
     ]
    },
    {
     "name": "stderr",
     "output_type": "stream",
     "text": [
      "  0%|          | 196/73624 [03:34<21:16:15,  1.04s/it]"
     ]
    },
    {
     "name": "stdout",
     "output_type": "stream",
     "text": [
      "Sending a post from user id: 3539737, posted on: 1546338571, sex - M\n"
     ]
    },
    {
     "name": "stderr",
     "output_type": "stream",
     "text": [
      "  0%|          | 197/73624 [03:36<25:20:03,  1.24s/it]"
     ]
    },
    {
     "name": "stdout",
     "output_type": "stream",
     "text": [
      "Sending a post from user id: 357710591, posted on: 1546338596, sex - M\n"
     ]
    },
    {
     "name": "stderr",
     "output_type": "stream",
     "text": [
      "  0%|          | 198/73624 [03:38<29:50:41,  1.46s/it]"
     ]
    },
    {
     "name": "stdout",
     "output_type": "stream",
     "text": [
      "Sending a post from user id: 357231922, posted on: 1546338643, sex - F\n"
     ]
    },
    {
     "name": "stderr",
     "output_type": "stream",
     "text": [
      "  0%|          | 199/73624 [03:40<32:03:21,  1.57s/it]"
     ]
    },
    {
     "name": "stdout",
     "output_type": "stream",
     "text": [
      "Sending a post from user id: 357231922, posted on: 1546338677, sex - F\n"
     ]
    },
    {
     "name": "stderr",
     "output_type": "stream",
     "text": [
      "  0%|          | 200/73624 [03:42<33:25:24,  1.64s/it]"
     ]
    },
    {
     "name": "stdout",
     "output_type": "stream",
     "text": [
      "Sending a post from user id: 357231922, posted on: 1546338874, sex - F\n"
     ]
    },
    {
     "name": "stderr",
     "output_type": "stream",
     "text": [
      "  0%|          | 201/73624 [03:42<26:06:36,  1.28s/it]"
     ]
    },
    {
     "name": "stdout",
     "output_type": "stream",
     "text": [
      "Sending a post from user id: 43317026, posted on: 1546338882, sex - F\n"
     ]
    },
    {
     "name": "stderr",
     "output_type": "stream",
     "text": [
      "  0%|          | 202/73624 [03:43<27:06:22,  1.33s/it]"
     ]
    },
    {
     "name": "stdout",
     "output_type": "stream",
     "text": [
      "Sending a post from user id: 1098272, posted on: 1546338955, sex - F\n"
     ]
    },
    {
     "name": "stderr",
     "output_type": "stream",
     "text": [
      "  0%|          | 203/73624 [03:44<21:52:09,  1.07s/it]"
     ]
    },
    {
     "name": "stdout",
     "output_type": "stream",
     "text": [
      "Sending a post from user id: 168902320, posted on: 1546339007, sex - M\n"
     ]
    },
    {
     "name": "stderr",
     "output_type": "stream",
     "text": [
      "  0%|          | 204/73624 [03:44<18:08:33,  1.12it/s]"
     ]
    },
    {
     "name": "stdout",
     "output_type": "stream",
     "text": [
      "Sending a post from user id: 242739930, posted on: 1546339173, sex - F\n"
     ]
    },
    {
     "name": "stderr",
     "output_type": "stream",
     "text": [
      "  0%|          | 205/73624 [03:45<19:09:20,  1.06it/s]"
     ]
    },
    {
     "name": "stdout",
     "output_type": "stream",
     "text": [
      "Sending a post from user id: 357231922, posted on: 1546339227, sex - F\n"
     ]
    },
    {
     "name": "stderr",
     "output_type": "stream",
     "text": [
      "  0%|          | 206/73624 [03:46<17:59:39,  1.13it/s]"
     ]
    },
    {
     "name": "stdout",
     "output_type": "stream",
     "text": [
      "Sending a post from user id: 2749048, posted on: 1546339354, sex - M\n"
     ]
    },
    {
     "name": "stderr",
     "output_type": "stream",
     "text": [
      "  0%|          | 207/73624 [03:47<15:47:46,  1.29it/s]"
     ]
    },
    {
     "name": "stdout",
     "output_type": "stream",
     "text": [
      "Sending a post from user id: 447900900, posted on: 1546339357, sex - F\n"
     ]
    },
    {
     "name": "stderr",
     "output_type": "stream",
     "text": [
      "  0%|          | 208/73624 [03:47<13:18:12,  1.53it/s]"
     ]
    },
    {
     "name": "stdout",
     "output_type": "stream",
     "text": [
      "Sending a post from user id: 351361589, posted on: 1546339877, sex - F\n"
     ]
    },
    {
     "name": "stderr",
     "output_type": "stream",
     "text": [
      "  0%|          | 209/73624 [03:48<14:13:06,  1.43it/s]"
     ]
    },
    {
     "name": "stdout",
     "output_type": "stream",
     "text": [
      "Sending a post from user id: 7233335, posted on: 1546340038, sex - F\n"
     ]
    },
    {
     "name": "stderr",
     "output_type": "stream",
     "text": [
      "  0%|          | 210/73624 [03:48<13:41:37,  1.49it/s]"
     ]
    },
    {
     "name": "stdout",
     "output_type": "stream",
     "text": [
      "Sending a post from user id: 643932, posted on: 1546340322, sex - M\n"
     ]
    },
    {
     "name": "stderr",
     "output_type": "stream",
     "text": [
      "  0%|          | 211/73624 [03:50<17:38:03,  1.16it/s]"
     ]
    },
    {
     "name": "stdout",
     "output_type": "stream",
     "text": [
      "Sending a post from user id: 229512, posted on: 1546340331, sex - F\n"
     ]
    },
    {
     "name": "stderr",
     "output_type": "stream",
     "text": [
      "  0%|          | 213/73624 [03:51<15:06:41,  1.35it/s]"
     ]
    },
    {
     "name": "stdout",
     "output_type": "stream",
     "text": [
      "Sending a post from user id: 456496724, posted on: 1546341021, sex - M\n",
      "Sending a post from user id: 389924, posted on: 1546341396, sex - F\n"
     ]
    },
    {
     "name": "stderr",
     "output_type": "stream",
     "text": [
      "  0%|          | 214/73624 [03:53<20:32:47,  1.01s/it]"
     ]
    },
    {
     "name": "stdout",
     "output_type": "stream",
     "text": [
      "Sending a post from user id: 389924, posted on: 1546341651, sex - F\n"
     ]
    },
    {
     "name": "stderr",
     "output_type": "stream",
     "text": [
      "  0%|          | 215/73624 [03:53<17:00:18,  1.20it/s]"
     ]
    },
    {
     "name": "stdout",
     "output_type": "stream",
     "text": [
      "Sending a post from user id: 187406883, posted on: 1546341722, sex - M\n"
     ]
    },
    {
     "name": "stderr",
     "output_type": "stream",
     "text": [
      "  0%|          | 216/73624 [03:54<14:34:06,  1.40it/s]"
     ]
    },
    {
     "name": "stdout",
     "output_type": "stream",
     "text": [
      "Sending a post from user id: 8631697, posted on: 1546341786, sex - F\n"
     ]
    },
    {
     "name": "stderr",
     "output_type": "stream",
     "text": [
      "  0%|          | 217/73624 [03:54<14:51:04,  1.37it/s]"
     ]
    },
    {
     "name": "stdout",
     "output_type": "stream",
     "text": [
      "Sending a post from user id: 33487, posted on: 1546342005, sex - F\n"
     ]
    },
    {
     "name": "stderr",
     "output_type": "stream",
     "text": [
      "  0%|          | 218/73624 [03:55<16:30:36,  1.24it/s]"
     ]
    },
    {
     "name": "stdout",
     "output_type": "stream",
     "text": [
      "Sending a post from user id: 134047366, posted on: 1546342368, sex - F\n"
     ]
    },
    {
     "name": "stderr",
     "output_type": "stream",
     "text": [
      "  0%|          | 219/73624 [03:56<16:26:23,  1.24it/s]"
     ]
    },
    {
     "name": "stdout",
     "output_type": "stream",
     "text": [
      "Sending a post from user id: 98258393, posted on: 1546342952, sex - M\n"
     ]
    },
    {
     "name": "stderr",
     "output_type": "stream",
     "text": [
      "  0%|          | 220/73624 [03:58<22:18:00,  1.09s/it]"
     ]
    },
    {
     "name": "stdout",
     "output_type": "stream",
     "text": [
      "Sending a post from user id: 1754600, posted on: 1546343038, sex - F\n"
     ]
    },
    {
     "name": "stderr",
     "output_type": "stream",
     "text": [
      "  0%|          | 221/73624 [03:59<21:15:14,  1.04s/it]"
     ]
    },
    {
     "name": "stdout",
     "output_type": "stream",
     "text": [
      "Sending a post from user id: 255396611, posted on: 1546343293, sex - F\n"
     ]
    },
    {
     "name": "stderr",
     "output_type": "stream",
     "text": [
      "  0%|          | 222/73624 [04:01<26:28:39,  1.30s/it]"
     ]
    },
    {
     "name": "stdout",
     "output_type": "stream",
     "text": [
      "Sending a post from user id: 1077823, posted on: 1546343733, sex - F\n"
     ]
    },
    {
     "name": "stderr",
     "output_type": "stream",
     "text": [
      "  0%|          | 223/73624 [04:02<23:53:30,  1.17s/it]"
     ]
    },
    {
     "name": "stdout",
     "output_type": "stream",
     "text": [
      "Sending a post from user id: 1502968, posted on: 1546344129, sex - M\n"
     ]
    },
    {
     "name": "stderr",
     "output_type": "stream",
     "text": [
      "  0%|          | 224/73624 [04:03<22:41:32,  1.11s/it]"
     ]
    },
    {
     "name": "stdout",
     "output_type": "stream",
     "text": [
      "Sending a post from user id: 443488, posted on: 1546344186, sex - M\n"
     ]
    },
    {
     "name": "stderr",
     "output_type": "stream",
     "text": [
      "  0%|          | 225/73624 [04:03<20:20:36,  1.00it/s]"
     ]
    },
    {
     "name": "stdout",
     "output_type": "stream",
     "text": [
      "Sending a post from user id: 121780041, posted on: 1546344597, sex - F\n"
     ]
    },
    {
     "name": "stderr",
     "output_type": "stream",
     "text": [
      "  0%|          | 226/73624 [04:04<20:06:19,  1.01it/s]"
     ]
    },
    {
     "name": "stdout",
     "output_type": "stream",
     "text": [
      "Sending a post from user id: 212333463, posted on: 1546344600, sex - M\n"
     ]
    },
    {
     "name": "stderr",
     "output_type": "stream",
     "text": [
      "  0%|          | 227/73624 [04:06<24:44:55,  1.21s/it]"
     ]
    },
    {
     "name": "stdout",
     "output_type": "stream",
     "text": [
      "Sending a post from user id: 174291546, posted on: 1546344869, sex - F\n"
     ]
    },
    {
     "name": "stderr",
     "output_type": "stream",
     "text": [
      "  0%|          | 228/73624 [04:07<24:22:55,  1.20s/it]"
     ]
    },
    {
     "name": "stdout",
     "output_type": "stream",
     "text": [
      "Sending a post from user id: 174291546, posted on: 1546345078, sex - F\n"
     ]
    },
    {
     "name": "stderr",
     "output_type": "stream",
     "text": [
      "  0%|          | 229/73624 [04:09<28:19:57,  1.39s/it]"
     ]
    },
    {
     "name": "stdout",
     "output_type": "stream",
     "text": [
      "Sending a post from user id: 149250711, posted on: 1546345299, sex - M\n"
     ]
    },
    {
     "name": "stderr",
     "output_type": "stream",
     "text": [
      "  0%|          | 230/73624 [04:11<31:49:19,  1.56s/it]"
     ]
    },
    {
     "name": "stdout",
     "output_type": "stream",
     "text": [
      "Sending a post from user id: 1032699, posted on: 1546345544, sex - M\n"
     ]
    },
    {
     "name": "stderr",
     "output_type": "stream",
     "text": [
      "  0%|          | 231/73624 [04:13<31:35:57,  1.55s/it]"
     ]
    },
    {
     "name": "stdout",
     "output_type": "stream",
     "text": [
      "Sending a post from user id: 462653629, posted on: 1546345579, sex - F\n"
     ]
    },
    {
     "name": "stderr",
     "output_type": "stream",
     "text": [
      "  0%|          | 232/73624 [04:13<27:37:12,  1.35s/it]"
     ]
    },
    {
     "name": "stdout",
     "output_type": "stream",
     "text": [
      "Sending a post from user id: 276887938, posted on: 1546345881, sex - F\n"
     ]
    },
    {
     "name": "stderr",
     "output_type": "stream",
     "text": [
      "  0%|          | 233/73624 [04:15<26:55:40,  1.32s/it]"
     ]
    },
    {
     "name": "stdout",
     "output_type": "stream",
     "text": [
      "Sending a post from user id: 1469770, posted on: 1546346000, sex - F\n"
     ]
    },
    {
     "name": "stderr",
     "output_type": "stream",
     "text": [
      "  0%|          | 235/73624 [04:17<22:00:20,  1.08s/it]"
     ]
    },
    {
     "name": "stdout",
     "output_type": "stream",
     "text": [
      "Sending a post from user id: 33670350, posted on: 1546346344, sex - M\n",
      "Sending a post from user id: 89342043, posted on: 1546346770, sex - M\n"
     ]
    },
    {
     "name": "stderr",
     "output_type": "stream",
     "text": [
      "  0%|          | 236/73624 [04:18<21:05:17,  1.03s/it]"
     ]
    },
    {
     "name": "stdout",
     "output_type": "stream",
     "text": [
      "Sending a post from user id: 4861499, posted on: 1546346837, sex - M\n"
     ]
    },
    {
     "name": "stderr",
     "output_type": "stream",
     "text": [
      "  0%|          | 237/73624 [04:18<17:58:04,  1.13it/s]"
     ]
    },
    {
     "name": "stdout",
     "output_type": "stream",
     "text": [
      "Sending a post from user id: 377117821, posted on: 1546346999, sex - M\n"
     ]
    },
    {
     "name": "stderr",
     "output_type": "stream",
     "text": [
      "  0%|          | 238/73624 [04:18<14:11:11,  1.44it/s]"
     ]
    },
    {
     "name": "stdout",
     "output_type": "stream",
     "text": [
      "Sending a post from user id: 373190294, posted on: 1546347478, sex - M\n"
     ]
    },
    {
     "name": "stderr",
     "output_type": "stream",
     "text": [
      "  0%|          | 239/73624 [04:20<16:41:33,  1.22it/s]"
     ]
    },
    {
     "name": "stdout",
     "output_type": "stream",
     "text": [
      "Sending a post from user id: 813732, posted on: 1546347639, sex - F\n"
     ]
    },
    {
     "name": "stderr",
     "output_type": "stream",
     "text": [
      "  0%|          | 240/73624 [04:21<18:59:44,  1.07it/s]"
     ]
    },
    {
     "name": "stdout",
     "output_type": "stream",
     "text": [
      "Sending a post from user id: 37406038, posted on: 1546349266, sex - M\n"
     ]
    },
    {
     "name": "stderr",
     "output_type": "stream",
     "text": [
      "  0%|          | 241/73624 [04:23<24:10:40,  1.19s/it]"
     ]
    },
    {
     "name": "stdout",
     "output_type": "stream",
     "text": [
      "Sending a post from user id: 190636098, posted on: 1546349426, sex - F\n"
     ]
    },
    {
     "name": "stderr",
     "output_type": "stream",
     "text": [
      "  0%|          | 242/73624 [04:24<28:10:36,  1.38s/it]"
     ]
    },
    {
     "name": "stdout",
     "output_type": "stream",
     "text": [
      "Sending a post from user id: 8631697, posted on: 1546349671, sex - F\n"
     ]
    },
    {
     "name": "stderr",
     "output_type": "stream",
     "text": [
      "  0%|          | 243/73624 [04:25<25:28:30,  1.25s/it]"
     ]
    },
    {
     "name": "stdout",
     "output_type": "stream",
     "text": [
      "Sending a post from user id: 846546, posted on: 1546349751, sex - F\n"
     ]
    },
    {
     "name": "stderr",
     "output_type": "stream",
     "text": [
      "  0%|          | 244/73624 [04:26<23:54:49,  1.17s/it]"
     ]
    },
    {
     "name": "stdout",
     "output_type": "stream",
     "text": [
      "Sending a post from user id: 464324936, posted on: 1546349791, sex - M\n"
     ]
    },
    {
     "name": "stderr",
     "output_type": "stream",
     "text": [
      "  0%|          | 245/73624 [04:28<28:05:36,  1.38s/it]"
     ]
    },
    {
     "name": "stdout",
     "output_type": "stream",
     "text": [
      "Sending a post from user id: 194073434, posted on: 1546349988, sex - M\n"
     ]
    },
    {
     "name": "stderr",
     "output_type": "stream",
     "text": [
      "  0%|          | 246/73624 [04:30<29:37:25,  1.45s/it]"
     ]
    },
    {
     "name": "stdout",
     "output_type": "stream",
     "text": [
      "Sending a post from user id: 92347407, posted on: 1546350437, sex - F\n"
     ]
    },
    {
     "name": "stderr",
     "output_type": "stream",
     "text": [
      "  0%|          | 247/73624 [04:30<23:57:22,  1.18s/it]"
     ]
    },
    {
     "name": "stdout",
     "output_type": "stream",
     "text": [
      "Sending a post from user id: 212791, posted on: 1546350562, sex - F\n"
     ]
    },
    {
     "name": "stderr",
     "output_type": "stream",
     "text": [
      "  0%|          | 248/73624 [04:32<26:16:01,  1.29s/it]"
     ]
    },
    {
     "name": "stdout",
     "output_type": "stream",
     "text": [
      "Sending a post from user id: 464324936, posted on: 1546350757, sex - M\n"
     ]
    },
    {
     "name": "stderr",
     "output_type": "stream",
     "text": [
      "  0%|          | 250/73624 [04:32<15:19:23,  1.33it/s]"
     ]
    },
    {
     "name": "stdout",
     "output_type": "stream",
     "text": [
      "Sending a post from user id: 22443699, posted on: 1546350758, sex - F\n",
      "Sending a post from user id: 1469770, posted on: 1546350814, sex - F\n"
     ]
    },
    {
     "name": "stderr",
     "output_type": "stream",
     "text": [
      "  0%|          | 251/73624 [04:34<21:24:36,  1.05s/it]"
     ]
    },
    {
     "name": "stdout",
     "output_type": "stream",
     "text": [
      "Sending a post from user id: 7330262, posted on: 1546351092, sex - M\n"
     ]
    },
    {
     "name": "stderr",
     "output_type": "stream",
     "text": [
      "  0%|          | 252/73624 [04:35<20:14:45,  1.01it/s]"
     ]
    },
    {
     "name": "stdout",
     "output_type": "stream",
     "text": [
      "Sending a post from user id: 135912826, posted on: 1546351572, sex - M\n"
     ]
    },
    {
     "name": "stderr",
     "output_type": "stream",
     "text": [
      "  0%|          | 253/73624 [04:36<17:34:52,  1.16it/s]"
     ]
    },
    {
     "name": "stdout",
     "output_type": "stream",
     "text": [
      "Sending a post from user id: 815491, posted on: 1546351905, sex - F\n"
     ]
    },
    {
     "name": "stderr",
     "output_type": "stream",
     "text": [
      "  0%|          | 254/73624 [04:37<18:11:41,  1.12it/s]"
     ]
    },
    {
     "name": "stdout",
     "output_type": "stream",
     "text": [
      "Sending a post from user id: 241483675, posted on: 1546352154, sex - M\n"
     ]
    },
    {
     "name": "stderr",
     "output_type": "stream",
     "text": [
      "  0%|          | 255/73624 [04:37<14:35:37,  1.40it/s]"
     ]
    },
    {
     "name": "stdout",
     "output_type": "stream",
     "text": [
      "Sending a post from user id: 11398225, posted on: 1546352416, sex - M\n"
     ]
    },
    {
     "name": "stderr",
     "output_type": "stream",
     "text": [
      "  0%|          | 256/73624 [04:37<12:56:43,  1.57it/s]"
     ]
    },
    {
     "name": "stdout",
     "output_type": "stream",
     "text": [
      "Sending a post from user id: 14832986, posted on: 1546352753, sex - M\n"
     ]
    },
    {
     "name": "stderr",
     "output_type": "stream",
     "text": [
      "  0%|          | 257/73624 [04:38<14:04:13,  1.45it/s]"
     ]
    },
    {
     "name": "stdout",
     "output_type": "stream",
     "text": [
      "Sending a post from user id: 223748369, posted on: 1546353260, sex - M\n"
     ]
    },
    {
     "name": "stderr",
     "output_type": "stream",
     "text": [
      "  0%|          | 258/73624 [04:40<19:38:19,  1.04it/s]"
     ]
    },
    {
     "name": "stdout",
     "output_type": "stream",
     "text": [
      "Sending a post from user id: 8909, posted on: 1546353366, sex - F\n"
     ]
    },
    {
     "name": "stderr",
     "output_type": "stream",
     "text": [
      "  0%|          | 259/73624 [04:40<17:36:36,  1.16it/s]"
     ]
    },
    {
     "name": "stdout",
     "output_type": "stream",
     "text": [
      "Sending a post from user id: 141687240, posted on: 1546353498, sex - M\n"
     ]
    },
    {
     "name": "stderr",
     "output_type": "stream",
     "text": [
      "  0%|          | 260/73624 [04:41<17:28:33,  1.17it/s]"
     ]
    },
    {
     "name": "stdout",
     "output_type": "stream",
     "text": [
      "Sending a post from user id: 8694246, posted on: 1546353600, sex - F\n"
     ]
    },
    {
     "name": "stderr",
     "output_type": "stream",
     "text": [
      "  0%|          | 261/73624 [04:42<18:00:13,  1.13it/s]"
     ]
    },
    {
     "name": "stdout",
     "output_type": "stream",
     "text": [
      "Sending a post from user id: 464166807, posted on: 1546353739, sex - F\n"
     ]
    },
    {
     "name": "stderr",
     "output_type": "stream",
     "text": [
      "  0%|          | 262/73624 [04:43<19:07:36,  1.07it/s]"
     ]
    },
    {
     "name": "stdout",
     "output_type": "stream",
     "text": [
      "Sending a post from user id: 212791, posted on: 1546354567, sex - F\n"
     ]
    },
    {
     "name": "stderr",
     "output_type": "stream",
     "text": [
      "  0%|          | 264/73624 [04:45<18:07:09,  1.12it/s]"
     ]
    },
    {
     "name": "stdout",
     "output_type": "stream",
     "text": [
      "Sending a post from user id: 192050, posted on: 1546354811, sex - F\n",
      "Sending a post from user id: 357674986, posted on: 1546354892, sex - F\n"
     ]
    },
    {
     "name": "stderr",
     "output_type": "stream",
     "text": [
      "  0%|          | 265/73624 [04:46<19:08:17,  1.06it/s]"
     ]
    },
    {
     "name": "stdout",
     "output_type": "stream",
     "text": [
      "Sending a post from user id: 363497, posted on: 1546355068, sex - F\n"
     ]
    },
    {
     "name": "stderr",
     "output_type": "stream",
     "text": [
      "  0%|          | 266/73624 [04:48<24:43:43,  1.21s/it]"
     ]
    },
    {
     "name": "stdout",
     "output_type": "stream",
     "text": [
      "Sending a post from user id: 59858857, posted on: 1546356143, sex - F\n"
     ]
    },
    {
     "name": "stderr",
     "output_type": "stream",
     "text": [
      "  0%|          | 267/73624 [04:50<26:31:23,  1.30s/it]"
     ]
    },
    {
     "name": "stdout",
     "output_type": "stream",
     "text": [
      "Sending a post from user id: 141687240, posted on: 1546356229, sex - M\n"
     ]
    },
    {
     "name": "stderr",
     "output_type": "stream",
     "text": [
      "  0%|          | 268/73624 [04:51<29:59:29,  1.47s/it]"
     ]
    },
    {
     "name": "stdout",
     "output_type": "stream",
     "text": [
      "Sending a post from user id: 280454964, posted on: 1546356356, sex - M\n"
     ]
    },
    {
     "name": "stderr",
     "output_type": "stream",
     "text": [
      "  0%|          | 269/73624 [04:53<28:49:44,  1.41s/it]"
     ]
    },
    {
     "name": "stdout",
     "output_type": "stream",
     "text": [
      "Sending a post from user id: 18532621, posted on: 1546356584, sex - M\n"
     ]
    },
    {
     "name": "stderr",
     "output_type": "stream",
     "text": [
      "  0%|          | 270/73624 [04:55<32:05:57,  1.58s/it]"
     ]
    },
    {
     "name": "stdout",
     "output_type": "stream",
     "text": [
      "Sending a post from user id: 14332953, posted on: 1546356596, sex - M\n"
     ]
    },
    {
     "name": "stderr",
     "output_type": "stream",
     "text": [
      "  0%|          | 271/73624 [04:55<24:04:28,  1.18s/it]"
     ]
    },
    {
     "name": "stdout",
     "output_type": "stream",
     "text": [
      "Sending a post from user id: 134240072, posted on: 1546356597, sex - M\n"
     ]
    },
    {
     "name": "stderr",
     "output_type": "stream",
     "text": [
      "  0%|          | 272/73624 [04:56<22:34:55,  1.11s/it]"
     ]
    },
    {
     "name": "stdout",
     "output_type": "stream",
     "text": [
      "Sending a post from user id: 134240072, posted on: 1546357133, sex - M\n"
     ]
    },
    {
     "name": "stderr",
     "output_type": "stream",
     "text": [
      "  0%|          | 273/73624 [04:58<26:15:00,  1.29s/it]"
     ]
    },
    {
     "name": "stdout",
     "output_type": "stream",
     "text": [
      "Sending a post from user id: 146625168, posted on: 1546357436, sex - F\n"
     ]
    },
    {
     "name": "stderr",
     "output_type": "stream",
     "text": [
      "  0%|          | 274/73624 [04:58<21:20:05,  1.05s/it]"
     ]
    },
    {
     "name": "stdout",
     "output_type": "stream",
     "text": [
      "Sending a post from user id: 418774955, posted on: 1546357597, sex - F\n"
     ]
    },
    {
     "name": "stderr",
     "output_type": "stream",
     "text": [
      "  0%|          | 275/73624 [05:00<26:28:25,  1.30s/it]"
     ]
    },
    {
     "name": "stdout",
     "output_type": "stream",
     "text": [
      "Sending a post from user id: 28480, posted on: 1546358511, sex - F\n"
     ]
    },
    {
     "name": "stderr",
     "output_type": "stream",
     "text": [
      "  0%|          | 276/73624 [05:01<27:17:42,  1.34s/it]"
     ]
    },
    {
     "name": "stdout",
     "output_type": "stream",
     "text": [
      "Sending a post from user id: 15692620, posted on: 1546358518, sex - M\n"
     ]
    },
    {
     "name": "stderr",
     "output_type": "stream",
     "text": [
      "  0%|          | 277/73624 [05:02<23:25:46,  1.15s/it]"
     ]
    },
    {
     "name": "stdout",
     "output_type": "stream",
     "text": [
      "Sending a post from user id: 53517979, posted on: 1546358851, sex - M\n"
     ]
    },
    {
     "name": "stderr",
     "output_type": "stream",
     "text": [
      "  0%|          | 278/73624 [05:03<21:33:54,  1.06s/it]"
     ]
    },
    {
     "name": "stdout",
     "output_type": "stream",
     "text": [
      "Sending a post from user id: 453108317, posted on: 1546359207, sex - F\n"
     ]
    },
    {
     "name": "stderr",
     "output_type": "stream",
     "text": [
      "  0%|          | 279/73624 [05:04<21:42:35,  1.07s/it]"
     ]
    },
    {
     "name": "stdout",
     "output_type": "stream",
     "text": [
      "Sending a post from user id: 453108317, posted on: 1546359546, sex - F\n"
     ]
    },
    {
     "name": "stderr",
     "output_type": "stream",
     "text": [
      "  0%|          | 280/73624 [05:04<17:41:49,  1.15it/s]"
     ]
    },
    {
     "name": "stdout",
     "output_type": "stream",
     "text": [
      "Sending a post from user id: 16861388, posted on: 1546359722, sex - M\n"
     ]
    },
    {
     "name": "stderr",
     "output_type": "stream",
     "text": [
      "  0%|          | 281/73624 [05:06<19:50:48,  1.03it/s]"
     ]
    },
    {
     "name": "stdout",
     "output_type": "stream",
     "text": [
      "Sending a post from user id: 10759206, posted on: 1546361116, sex - F\n"
     ]
    },
    {
     "name": "stderr",
     "output_type": "stream",
     "text": [
      "  0%|          | 282/73624 [05:07<23:13:41,  1.14s/it]"
     ]
    },
    {
     "name": "stdout",
     "output_type": "stream",
     "text": [
      "Sending a post from user id: 19567694, posted on: 1546361214, sex - M\n"
     ]
    },
    {
     "name": "stderr",
     "output_type": "stream",
     "text": [
      "  0%|          | 283/73624 [05:08<20:28:11,  1.00s/it]"
     ]
    },
    {
     "name": "stdout",
     "output_type": "stream",
     "text": [
      "Sending a post from user id: 328838221, posted on: 1546361527, sex - M\n"
     ]
    },
    {
     "name": "stderr",
     "output_type": "stream",
     "text": [
      "  0%|          | 284/73624 [05:10<24:15:54,  1.19s/it]"
     ]
    },
    {
     "name": "stdout",
     "output_type": "stream",
     "text": [
      "Sending a post from user id: 56323441, posted on: 1546361527, sex - M\n"
     ]
    },
    {
     "name": "stderr",
     "output_type": "stream",
     "text": [
      "  0%|          | 285/73624 [05:11<25:58:17,  1.27s/it]"
     ]
    },
    {
     "name": "stdout",
     "output_type": "stream",
     "text": [
      "Sending a post from user id: 432963388, posted on: 1546361631, sex - F\n"
     ]
    },
    {
     "name": "stderr",
     "output_type": "stream",
     "text": [
      "  0%|          | 286/73624 [05:12<26:11:19,  1.29s/it]"
     ]
    },
    {
     "name": "stdout",
     "output_type": "stream",
     "text": [
      "Sending a post from user id: 33670350, posted on: 1546361949, sex - M\n"
     ]
    },
    {
     "name": "stderr",
     "output_type": "stream",
     "text": [
      "  0%|          | 287/73624 [05:13<25:10:53,  1.24s/it]"
     ]
    },
    {
     "name": "stdout",
     "output_type": "stream",
     "text": [
      "Sending a post from user id: 593876, posted on: 1546361981, sex - M\n"
     ]
    },
    {
     "name": "stderr",
     "output_type": "stream",
     "text": [
      "  0%|          | 288/73624 [05:15<29:42:40,  1.46s/it]"
     ]
    },
    {
     "name": "stdout",
     "output_type": "stream",
     "text": [
      "Sending a post from user id: 357710591, posted on: 1546362167, sex - M\n"
     ]
    },
    {
     "name": "stderr",
     "output_type": "stream",
     "text": [
      "  0%|          | 289/73624 [05:16<24:13:58,  1.19s/it]"
     ]
    },
    {
     "name": "stdout",
     "output_type": "stream",
     "text": [
      "Sending a post from user id: 219546676, posted on: 1546362199, sex - M\n"
     ]
    },
    {
     "name": "stderr",
     "output_type": "stream",
     "text": [
      "  0%|          | 290/73624 [05:16<18:55:32,  1.08it/s]"
     ]
    },
    {
     "name": "stdout",
     "output_type": "stream",
     "text": [
      "Sending a post from user id: 219546676, posted on: 1546362218, sex - M\n"
     ]
    },
    {
     "name": "stderr",
     "output_type": "stream",
     "text": [
      "  0%|          | 291/73624 [05:17<14:58:32,  1.36it/s]"
     ]
    },
    {
     "name": "stdout",
     "output_type": "stream",
     "text": [
      "Sending a post from user id: 219546676, posted on: 1546362228, sex - M\n"
     ]
    },
    {
     "name": "stderr",
     "output_type": "stream",
     "text": [
      "  0%|          | 292/73624 [05:18<21:43:25,  1.07s/it]"
     ]
    },
    {
     "name": "stdout",
     "output_type": "stream",
     "text": [
      "Sending a post from user id: 860419, posted on: 1546362237, sex - M\n"
     ]
    },
    {
     "name": "stderr",
     "output_type": "stream",
     "text": [
      "  0%|          | 293/73624 [05:20<26:06:36,  1.28s/it]"
     ]
    },
    {
     "name": "stdout",
     "output_type": "stream",
     "text": [
      "Sending a post from user id: 219546676, posted on: 1546362319, sex - M\n"
     ]
    },
    {
     "name": "stderr",
     "output_type": "stream",
     "text": [
      "  0%|          | 294/73624 [05:22<29:35:24,  1.45s/it]"
     ]
    },
    {
     "name": "stdout",
     "output_type": "stream",
     "text": [
      "Sending a post from user id: 219546676, posted on: 1546362331, sex - M\n"
     ]
    },
    {
     "name": "stderr",
     "output_type": "stream",
     "text": [
      "  0%|          | 295/73624 [05:23<27:49:53,  1.37s/it]"
     ]
    },
    {
     "name": "stdout",
     "output_type": "stream",
     "text": [
      "Sending a post from user id: 219546676, posted on: 1546362337, sex - M\n"
     ]
    },
    {
     "name": "stderr",
     "output_type": "stream",
     "text": [
      "  0%|          | 296/73624 [05:24<25:37:14,  1.26s/it]"
     ]
    },
    {
     "name": "stdout",
     "output_type": "stream",
     "text": [
      "Sending a post from user id: 219546676, posted on: 1546362345, sex - M\n"
     ]
    },
    {
     "name": "stderr",
     "output_type": "stream",
     "text": [
      "  0%|          | 297/73624 [05:25<20:58:51,  1.03s/it]"
     ]
    },
    {
     "name": "stdout",
     "output_type": "stream",
     "text": [
      "Sending a post from user id: 219546676, posted on: 1546362391, sex - M\n"
     ]
    },
    {
     "name": "stderr",
     "output_type": "stream",
     "text": [
      "  0%|          | 298/73624 [05:26<20:36:37,  1.01s/it]"
     ]
    },
    {
     "name": "stdout",
     "output_type": "stream",
     "text": [
      "Sending a post from user id: 219546676, posted on: 1546362398, sex - M\n"
     ]
    },
    {
     "name": "stderr",
     "output_type": "stream",
     "text": [
      "  0%|          | 299/73624 [05:27<23:52:19,  1.17s/it]"
     ]
    },
    {
     "name": "stdout",
     "output_type": "stream",
     "text": [
      "Sending a post from user id: 219546676, posted on: 1546362404, sex - M\n"
     ]
    },
    {
     "name": "stderr",
     "output_type": "stream",
     "text": [
      "  0%|          | 300/73624 [05:28<19:58:44,  1.02it/s]"
     ]
    },
    {
     "name": "stdout",
     "output_type": "stream",
     "text": [
      "Sending a post from user id: 219546676, posted on: 1546362409, sex - M\n"
     ]
    },
    {
     "name": "stderr",
     "output_type": "stream",
     "text": [
      "  0%|          | 301/73624 [05:28<15:40:00,  1.30it/s]"
     ]
    },
    {
     "name": "stdout",
     "output_type": "stream",
     "text": [
      "Sending a post from user id: 219546676, posted on: 1546362423, sex - M\n"
     ]
    },
    {
     "name": "stderr",
     "output_type": "stream",
     "text": [
      "  0%|          | 302/73624 [05:29<14:56:24,  1.36it/s]"
     ]
    },
    {
     "name": "stdout",
     "output_type": "stream",
     "text": [
      "Sending a post from user id: 22588385, posted on: 1546363262, sex - M\n"
     ]
    },
    {
     "name": "stderr",
     "output_type": "stream",
     "text": [
      "  0%|          | 303/73624 [05:30<20:29:59,  1.01s/it]"
     ]
    },
    {
     "name": "stdout",
     "output_type": "stream",
     "text": [
      "Sending a post from user id: 219546676, posted on: 1546363673, sex - M\n"
     ]
    },
    {
     "name": "stderr",
     "output_type": "stream",
     "text": [
      "  0%|          | 304/73624 [05:31<20:33:54,  1.01s/it]"
     ]
    },
    {
     "name": "stdout",
     "output_type": "stream",
     "text": [
      "Sending a post from user id: 219546676, posted on: 1546363680, sex - M\n"
     ]
    },
    {
     "name": "stderr",
     "output_type": "stream",
     "text": [
      "  0%|          | 305/73624 [05:33<23:19:46,  1.15s/it]"
     ]
    },
    {
     "name": "stdout",
     "output_type": "stream",
     "text": [
      "Sending a post from user id: 219546676, posted on: 1546363687, sex - M\n"
     ]
    },
    {
     "name": "stderr",
     "output_type": "stream",
     "text": [
      "  0%|          | 306/73624 [05:33<19:28:39,  1.05it/s]"
     ]
    },
    {
     "name": "stdout",
     "output_type": "stream",
     "text": [
      "Sending a post from user id: 219546676, posted on: 1546363696, sex - M\n"
     ]
    },
    {
     "name": "stderr",
     "output_type": "stream",
     "text": [
      "  0%|          | 307/73624 [05:35<23:40:09,  1.16s/it]"
     ]
    },
    {
     "name": "stdout",
     "output_type": "stream",
     "text": [
      "Sending a post from user id: 219546676, posted on: 1546363700, sex - M\n"
     ]
    },
    {
     "name": "stderr",
     "output_type": "stream",
     "text": [
      "  0%|          | 308/73624 [05:37<27:06:50,  1.33s/it]"
     ]
    },
    {
     "name": "stdout",
     "output_type": "stream",
     "text": [
      "Sending a post from user id: 219546676, posted on: 1546363766, sex - M\n"
     ]
    },
    {
     "name": "stderr",
     "output_type": "stream",
     "text": [
      "  0%|          | 309/73624 [05:37<23:56:54,  1.18s/it]"
     ]
    },
    {
     "name": "stdout",
     "output_type": "stream",
     "text": [
      "Sending a post from user id: 150959664, posted on: 1546364658, sex - M\n"
     ]
    },
    {
     "name": "stderr",
     "output_type": "stream",
     "text": [
      "  0%|          | 310/73624 [05:39<23:59:49,  1.18s/it]"
     ]
    },
    {
     "name": "stdout",
     "output_type": "stream",
     "text": [
      "Sending a post from user id: 135460106, posted on: 1546365034, sex - M\n"
     ]
    },
    {
     "name": "stderr",
     "output_type": "stream",
     "text": [
      "  0%|          | 312/73624 [05:40<16:15:49,  1.25it/s]"
     ]
    },
    {
     "name": "stdout",
     "output_type": "stream",
     "text": [
      "Sending a post from user id: 2333367, posted on: 1546365261, sex - M\n",
      "Sending a post from user id: 13512496, posted on: 1546365385, sex - M\n"
     ]
    },
    {
     "name": "stderr",
     "output_type": "stream",
     "text": [
      "  0%|          | 313/73624 [05:40<15:44:35,  1.29it/s]"
     ]
    },
    {
     "name": "stdout",
     "output_type": "stream",
     "text": [
      "Sending a post from user id: 5819207, posted on: 1546365392, sex - M\n"
     ]
    },
    {
     "name": "stderr",
     "output_type": "stream",
     "text": [
      "  0%|          | 314/73624 [05:42<22:24:49,  1.10s/it]"
     ]
    },
    {
     "name": "stdout",
     "output_type": "stream",
     "text": [
      "Sending a post from user id: 15221, posted on: 1546365529, sex - M\n"
     ]
    },
    {
     "name": "stderr",
     "output_type": "stream",
     "text": [
      "  0%|          | 315/73624 [05:44<24:35:11,  1.21s/it]"
     ]
    },
    {
     "name": "stdout",
     "output_type": "stream",
     "text": [
      "Sending a post from user id: 84184989, posted on: 1546366227, sex - F\n"
     ]
    },
    {
     "name": "stderr",
     "output_type": "stream",
     "text": [
      "  0%|          | 316/73624 [05:46<28:44:32,  1.41s/it]"
     ]
    },
    {
     "name": "stdout",
     "output_type": "stream",
     "text": [
      "Sending a post from user id: 104032077, posted on: 1546366346, sex - M\n"
     ]
    },
    {
     "name": "stderr",
     "output_type": "stream",
     "text": [
      "  0%|          | 317/73624 [05:47<30:19:37,  1.49s/it]"
     ]
    },
    {
     "name": "stdout",
     "output_type": "stream",
     "text": [
      "Sending a post from user id: 2134327, posted on: 1546366670, sex - M\n"
     ]
    },
    {
     "name": "stderr",
     "output_type": "stream",
     "text": [
      "  0%|          | 318/73624 [05:49<29:31:03,  1.45s/it]"
     ]
    },
    {
     "name": "stdout",
     "output_type": "stream",
     "text": [
      "Sending a post from user id: 45266920, posted on: 1546368031, sex - F\n"
     ]
    },
    {
     "name": "stderr",
     "output_type": "stream",
     "text": [
      "  0%|          | 319/73624 [05:51<32:42:40,  1.61s/it]"
     ]
    },
    {
     "name": "stdout",
     "output_type": "stream",
     "text": [
      "Sending a post from user id: 449301206, posted on: 1546368292, sex - F\n"
     ]
    },
    {
     "name": "stderr",
     "output_type": "stream",
     "text": [
      "  0%|          | 320/73624 [05:53<34:40:50,  1.70s/it]"
     ]
    },
    {
     "name": "stdout",
     "output_type": "stream",
     "text": [
      "Sending a post from user id: 264046799, posted on: 1546369524, sex - M\n"
     ]
    },
    {
     "name": "stderr",
     "output_type": "stream",
     "text": [
      "  0%|          | 321/73624 [05:53<25:33:22,  1.26s/it]"
     ]
    },
    {
     "name": "stdout",
     "output_type": "stream",
     "text": [
      "Sending a post from user id: 7796899, posted on: 1546369573, sex - M\n"
     ]
    },
    {
     "name": "stderr",
     "output_type": "stream",
     "text": [
      "  0%|          | 322/73624 [05:54<22:46:56,  1.12s/it]"
     ]
    },
    {
     "name": "stdout",
     "output_type": "stream",
     "text": [
      "Sending a post from user id: 506917402, posted on: 1546370111, sex - F\n"
     ]
    },
    {
     "name": "stderr",
     "output_type": "stream",
     "text": [
      "  0%|          | 323/73624 [05:55<22:26:40,  1.10s/it]"
     ]
    },
    {
     "name": "stdout",
     "output_type": "stream",
     "text": [
      "Sending a post from user id: 27401100, posted on: 1546370329, sex - M\n"
     ]
    },
    {
     "name": "stderr",
     "output_type": "stream",
     "text": [
      "  0%|          | 324/73624 [05:55<20:15:09,  1.01it/s]"
     ]
    },
    {
     "name": "stdout",
     "output_type": "stream",
     "text": [
      "Sending a post from user id: 211128084, posted on: 1546370584, sex - F\n"
     ]
    },
    {
     "name": "stderr",
     "output_type": "stream",
     "text": [
      "  0%|          | 325/73624 [05:57<25:09:50,  1.24s/it]"
     ]
    },
    {
     "name": "stdout",
     "output_type": "stream",
     "text": [
      "Sending a post from user id: 5789332, posted on: 1546370970, sex - M\n"
     ]
    },
    {
     "name": "stderr",
     "output_type": "stream",
     "text": [
      "  0%|          | 326/73624 [05:59<26:00:05,  1.28s/it]"
     ]
    },
    {
     "name": "stdout",
     "output_type": "stream",
     "text": [
      "Sending a post from user id: 389924, posted on: 1546371117, sex - F\n"
     ]
    },
    {
     "name": "stderr",
     "output_type": "stream",
     "text": [
      "  0%|          | 327/73624 [05:59<20:30:06,  1.01s/it]"
     ]
    },
    {
     "name": "stdout",
     "output_type": "stream",
     "text": [
      "Sending a post from user id: 134047366, posted on: 1546371635, sex - F\n"
     ]
    },
    {
     "name": "stderr",
     "output_type": "stream",
     "text": [
      "  0%|          | 329/73624 [06:01<17:13:09,  1.18it/s]"
     ]
    },
    {
     "name": "stdout",
     "output_type": "stream",
     "text": [
      "Sending a post from user id: 514921022, posted on: 1546371691, sex - F\n",
      "Sending a post from user id: 320719214, posted on: 1546371962, sex - M\n"
     ]
    },
    {
     "name": "stderr",
     "output_type": "stream",
     "text": [
      "  0%|          | 330/73624 [06:01<14:21:00,  1.42it/s]"
     ]
    },
    {
     "name": "stdout",
     "output_type": "stream",
     "text": [
      "Sending a post from user id: 9715096, posted on: 1546372323, sex - F\n"
     ]
    },
    {
     "name": "stderr",
     "output_type": "stream",
     "text": [
      "  0%|          | 331/73624 [06:01<11:19:27,  1.80it/s]"
     ]
    },
    {
     "name": "stdout",
     "output_type": "stream",
     "text": [
      "Sending a post from user id: 5767999, posted on: 1546372622, sex - M\n"
     ]
    },
    {
     "name": "stderr",
     "output_type": "stream",
     "text": [
      "  0%|          | 332/73624 [06:01<9:50:49,  2.07it/s] "
     ]
    },
    {
     "name": "stdout",
     "output_type": "stream",
     "text": [
      "Sending a post from user id: 327458, posted on: 1546373159, sex - F\n"
     ]
    },
    {
     "name": "stderr",
     "output_type": "stream",
     "text": [
      "  0%|          | 333/73624 [06:02<9:42:55,  2.10it/s]"
     ]
    },
    {
     "name": "stdout",
     "output_type": "stream",
     "text": [
      "Sending a post from user id: 41959014, posted on: 1546374525, sex - M\n"
     ]
    },
    {
     "name": "stderr",
     "output_type": "stream",
     "text": [
      "  0%|          | 334/73624 [06:03<13:09:06,  1.55it/s]"
     ]
    },
    {
     "name": "stdout",
     "output_type": "stream",
     "text": [
      "Sending a post from user id: 267075629, posted on: 1546375258, sex - M\n"
     ]
    },
    {
     "name": "stderr",
     "output_type": "stream",
     "text": [
      "  0%|          | 335/73624 [06:05<19:29:49,  1.04it/s]"
     ]
    },
    {
     "name": "stdout",
     "output_type": "stream",
     "text": [
      "Sending a post from user id: 55087305, posted on: 1546375508, sex - F\n"
     ]
    },
    {
     "name": "stderr",
     "output_type": "stream",
     "text": [
      "  0%|          | 336/73624 [06:05<16:36:07,  1.23it/s]"
     ]
    },
    {
     "name": "stdout",
     "output_type": "stream",
     "text": [
      "Sending a post from user id: 1653991, posted on: 1546375806, sex - M\n"
     ]
    },
    {
     "name": "stderr",
     "output_type": "stream",
     "text": [
      "  0%|          | 337/73624 [06:07<23:36:41,  1.16s/it]"
     ]
    },
    {
     "name": "stdout",
     "output_type": "stream",
     "text": [
      "Sending a post from user id: 228354263, posted on: 1546375850, sex - F\n"
     ]
    },
    {
     "name": "stderr",
     "output_type": "stream",
     "text": [
      "  0%|          | 338/73624 [06:09<27:38:39,  1.36s/it]"
     ]
    },
    {
     "name": "stdout",
     "output_type": "stream",
     "text": [
      "Sending a post from user id: 228354263, posted on: 1546375913, sex - F\n"
     ]
    },
    {
     "name": "stderr",
     "output_type": "stream",
     "text": [
      "  0%|          | 339/73624 [06:11<29:28:33,  1.45s/it]"
     ]
    },
    {
     "name": "stdout",
     "output_type": "stream",
     "text": [
      "Sending a post from user id: 6196273, posted on: 1546376454, sex - F\n"
     ]
    },
    {
     "name": "stderr",
     "output_type": "stream",
     "text": [
      "  0%|          | 340/73624 [06:12<26:49:06,  1.32s/it]"
     ]
    },
    {
     "name": "stdout",
     "output_type": "stream",
     "text": [
      "Sending a post from user id: 31246438, posted on: 1546376459, sex - F\n"
     ]
    },
    {
     "name": "stderr",
     "output_type": "stream",
     "text": [
      "  0%|          | 341/73624 [06:13<29:35:05,  1.45s/it]"
     ]
    },
    {
     "name": "stdout",
     "output_type": "stream",
     "text": [
      "Sending a post from user id: 64235926, posted on: 1546376533, sex - M\n"
     ]
    },
    {
     "name": "stderr",
     "output_type": "stream",
     "text": [
      "  0%|          | 342/73624 [06:14<24:50:00,  1.22s/it]"
     ]
    },
    {
     "name": "stdout",
     "output_type": "stream",
     "text": [
      "Sending a post from user id: 49730393, posted on: 1546377234, sex - M\n"
     ]
    },
    {
     "name": "stderr",
     "output_type": "stream",
     "text": [
      "  0%|          | 343/73624 [06:16<30:34:09,  1.50s/it]"
     ]
    },
    {
     "name": "stdout",
     "output_type": "stream",
     "text": [
      "Sending a post from user id: 7692544, posted on: 1546377623, sex - M\n"
     ]
    },
    {
     "name": "stderr",
     "output_type": "stream",
     "text": [
      "  0%|          | 344/73624 [06:18<31:45:26,  1.56s/it]"
     ]
    },
    {
     "name": "stdout",
     "output_type": "stream",
     "text": [
      "Sending a post from user id: 278435421, posted on: 1546377644, sex - F\n"
     ]
    }
   ],
   "source": [
    "import time\n",
    "import json\n",
    "import random\n",
    "from tqdm import tqdm\n",
    "from kafka import KafkaProducer\n",
    "\n",
    "producer = KafkaProducer(bootstrap_servers=\"kafka-svc:9092\", value_serializer=str.encode)\n",
    "\n",
    "for row in tqdm(join_df.orderBy(\"date_posted\").rdd.toLocalIterator(), total=join_df.count()):\n",
    "    d = row.asDict()\n",
    "    print(f\"Sending a post from user id: {d['user']}, posted on: {d['date_posted']}, sex - {d['sex']}\")\n",
    "    \n",
    "    producer.send(\"main\", json.dumps(d, ensure_ascii=False))\n",
    "    producer.flush()\n",
    "    time.sleep(random.uniform(0.1, 2.))\n",
    "    \n",
    "print(\"done\")"
   ]
  },
  {
   "cell_type": "code",
   "execution_count": null,
   "id": "turned-lindsay",
   "metadata": {},
   "outputs": [],
   "source": [
    "spark.stop()"
   ]
  },
  {
   "cell_type": "code",
   "execution_count": null,
   "id": "available-indian",
   "metadata": {},
   "outputs": [],
   "source": []
  },
  {
   "cell_type": "code",
   "execution_count": null,
   "id": "eight-camel",
   "metadata": {},
   "outputs": [],
   "source": []
  }
 ],
 "metadata": {
  "kernelspec": {
   "display_name": "Python 3",
   "language": "python",
   "name": "python3"
  },
  "language_info": {
   "codemirror_mode": {
    "name": "ipython",
    "version": 3
   },
   "file_extension": ".py",
   "mimetype": "text/x-python",
   "name": "python",
   "nbconvert_exporter": "python",
   "pygments_lexer": "ipython3",
   "version": "3.8.8"
  }
 },
 "nbformat": 4,
 "nbformat_minor": 5
}
