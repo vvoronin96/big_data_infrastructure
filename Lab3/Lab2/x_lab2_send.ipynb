{
 "cells": [
  {
   "cell_type": "code",
   "execution_count": 69,
   "metadata": {},
   "outputs": [],
   "source": [
    "import os\n",
    "import socket\n",
    "from pyspark import SparkConf, SparkContext, SQLContext\n",
    "from pyspark.sql import SparkSession\n",
    "from pyspark.sql.functions import udf, length, when, col\n",
    "from pyspark.sql.types import BooleanType, IntegerType, LongType, StringType, ArrayType, FloatType, StructType, StructField\n",
    "from pyspark.sql.functions import *\n",
    "from pyspark.sql.functions import pandas_udf\n",
    "from pyspark.sql.functions import PandasUDFType\n",
    "from jinja2 import Environment, FileSystemLoader"
   ]
  },
  {
   "cell_type": "code",
   "execution_count": 70,
   "metadata": {},
   "outputs": [],
   "source": [
    "# setting constants\n",
    "APP_NAME = \"VVORONIN-SPARK-APP_send\"\n",
    "NORMALIZED_APP_NAME = APP_NAME.replace('/', '_').replace(':', '_')\n",
    "\n",
    "APPS_TMP_DIR = os.path.join(os.getcwd(), \"tmp\")\n",
    "APPS_CONF_DIR = os.path.join(os.getcwd(), \"conf\")\n",
    "APPS_LOGS_DIR = os.path.join(os.getcwd(), \"logs\")\n",
    "LOG4J_PROP_FILE = os.path.join(APPS_CONF_DIR, \"pyspark-log4j-{}.properties\".format(NORMALIZED_APP_NAME))\n",
    "LOG_FILE = os.path.join(APPS_LOGS_DIR, 'pyspark-{}.log'.format(NORMALIZED_APP_NAME))\n",
    "EXTRA_JAVA_OPTIONS = \"-Dlog4j.configuration=file://{} -Dspark.hadoop.dfs.replication=1 -Dhttps.protocols=TLSv1.0,TLSv1.1,TLSv1.2,TLSv1.3\"\\\n",
    "    .format(LOG4J_PROP_FILE)\n",
    "\n",
    "LOCAL_IP = socket.gethostbyname(socket.gethostname())"
   ]
  },
  {
   "cell_type": "code",
   "execution_count": 71,
   "metadata": {},
   "outputs": [],
   "source": [
    "# preparing configuration files from templates\n",
    "for directory in [APPS_CONF_DIR, APPS_LOGS_DIR, APPS_TMP_DIR]:\n",
    "    if not os.path.exists(directory):\n",
    "        os.makedirs(directory)\n",
    "\n",
    "env = Environment(loader=FileSystemLoader('/opt'))\n",
    "template = env.get_template(\"pyspark_log4j.properties.template\")\n",
    "template\\\n",
    "    .stream(logfile=LOG_FILE)\\\n",
    "    .dump(LOG4J_PROP_FILE)"
   ]
  },
  {
   "cell_type": "code",
   "execution_count": 72,
   "metadata": {},
   "outputs": [],
   "source": [
    "# spark = SparkSession\\\n",
    "#     .builder\\\n",
    "#     .appName(APP_NAME)\\\n",
    "#     .master(\"k8s://https://10.32.7.103:6443\")\\\n",
    "#     .config(\"spark.driver.host\", LOCAL_IP)\\\n",
    "#     .config(\"spark.driver.bindAddress\", \"0.0.0.0\")\\\n",
    "#     .config(\"spark.executor.instances\", \"3\")\\\n",
    "#     .config(\"spark.executor.cores\", '2')\\\n",
    "#     .config(\"spark.memory.fraction\", \"0.8\")\\\n",
    "#     .config(\"spark.memory.storageFraction\", \"0.6\")\\\n",
    "#     .config(\"spark.executor.memory\", \"4g\")\\\n",
    "#     .config(\"spark.driver.extraJavaOptions\", EXTRA_JAVA_OPTIONS)\\\n",
    "#     .config(\"spark.kubernetes.namespace\", \"{{user}}\")\\\n",
    "#     .config(\"spark.kubernetes.driver.label.appname\", APP_NAME)\\\n",
    "#     .config(\"spark.kubernetes.executor.label.appname\", APP_NAME)\\\n",
    "#     .config(\"spark.kubernetes.container.image.pullPolicy\", \"Always\")\\\n",
    "#     .config(\"spark.kubernetes.container.image\", \"node03.st:5000/spark-executor:{{user}}\")\\\n",
    "#     .config(\"spark.local.dir\", \"/tmp/spark\")\\\n",
    "#     .getOrCreate()\n",
    "\n",
    "SPARK_ADDRESS = \"k8s://https://10.32.7.103:6443\"\n",
    "\n",
    "spark = SparkSession\\\n",
    "    .builder\\\n",
    "    .appName(\"VVORONIN-SPARK-APP\")\\\n",
    "    .master(SPARK_ADDRESS)\\\n",
    "    .config(\"spark.ui.port\", \"4040\")\\\n",
    "    .config(\"spark.memory.fraction\", \"0.8\")\\\n",
    "    .config(\"spark.memory.storageFraction\", \"0.6\")\\\n",
    "    .config(\"spark.driver.memory\", \"4g\")\\\n",
    "    .config(\"spark.driver.extraJavaOptions\", EXTRA_JAVA_OPTIONS)\\\n",
    "    .config(\"spark.executor.memory\", \"6g\")\\\n",
    "    .getOrCreate()"
   ]
  },
  {
   "cell_type": "code",
   "execution_count": 85,
   "metadata": {},
   "outputs": [],
   "source": [
    "#для каждого поста получим его id его автора\n",
    "posts_data = spark.read.json(\"hdfs:///shared/bigdata20/followers_posts_api_final.json\")\n",
    "posts_df = posts_data.where((col(\"text\") != \"\") & (col(\"text\") != \" \"))\\\n",
    "                .select(col(\"owner_id\").alias(\"user_id\"), \"date\", \"text\")"
   ]
  },
  {
   "cell_type": "code",
   "execution_count": 86,
   "metadata": {},
   "outputs": [
    {
     "data": {
      "text/html": [
       "<div>\n",
       "<style scoped>\n",
       "    .dataframe tbody tr th:only-of-type {\n",
       "        vertical-align: middle;\n",
       "    }\n",
       "\n",
       "    .dataframe tbody tr th {\n",
       "        vertical-align: top;\n",
       "    }\n",
       "\n",
       "    .dataframe thead th {\n",
       "        text-align: right;\n",
       "    }\n",
       "</style>\n",
       "<table border=\"1\" class=\"dataframe\">\n",
       "  <thead>\n",
       "    <tr style=\"text-align: right;\">\n",
       "      <th></th>\n",
       "      <th>user_id</th>\n",
       "      <th>date</th>\n",
       "      <th>text</th>\n",
       "    </tr>\n",
       "  </thead>\n",
       "  <tbody>\n",
       "    <tr>\n",
       "      <th>0</th>\n",
       "      <td>87449</td>\n",
       "      <td>1550165023</td>\n",
       "      <td>Я люблю Вас. Я вчера, даже, хотел Вам это сказ...</td>\n",
       "    </tr>\n",
       "    <tr>\n",
       "      <th>1</th>\n",
       "      <td>87449</td>\n",
       "      <td>1553774858</td>\n",
       "      <td>call me by your name ♡</td>\n",
       "    </tr>\n",
       "    <tr>\n",
       "      <th>2</th>\n",
       "      <td>87449</td>\n",
       "      <td>1555602008</td>\n",
       "      <td>🦋</td>\n",
       "    </tr>\n",
       "    <tr>\n",
       "      <th>3</th>\n",
       "      <td>87449</td>\n",
       "      <td>1558105050</td>\n",
       "      <td>Браво,Юра !</td>\n",
       "    </tr>\n",
       "    <tr>\n",
       "      <th>4</th>\n",
       "      <td>87449</td>\n",
       "      <td>1559301729</td>\n",
       "      <td>🕊</td>\n",
       "    </tr>\n",
       "  </tbody>\n",
       "</table>\n",
       "</div>"
      ],
      "text/plain": [
       "   user_id        date                                               text\n",
       "0    87449  1550165023  Я люблю Вас. Я вчера, даже, хотел Вам это сказ...\n",
       "1    87449  1553774858                             call me by your name ♡\n",
       "2    87449  1555602008                                                  🦋\n",
       "3    87449  1558105050                                        Браво,Юра !\n",
       "4    87449  1559301729                                                  🕊"
      ]
     },
     "execution_count": 86,
     "metadata": {},
     "output_type": "execute_result"
    }
   ],
   "source": [
    "posts_df.toPandas().head()"
   ]
  },
  {
   "cell_type": "code",
   "execution_count": 83,
   "metadata": {},
   "outputs": [],
   "source": [
    "#для каждого id получим возраст пользовалетя и пол\n",
    "followers_data = spark.read.json(\"hdfs:///shared/bigdata20/followers_info.json\")\n",
    "followers_df = followers_data.select(col(\"id\").alias(\"user_id\"), \"sex\", \"bdate\")\\\n",
    "                    .withColumn(\"month_between\", \n",
    "                        months_between(\n",
    "                            current_date(), \n",
    "                            concat_ws(\n",
    "                                \"-\", regexp_extract(col(\"bdate\"), r\"(\\d{1,2})\\.(\\d{1,2})\\.(\\d{4})\", 3).cast(\"int\"), \n",
    "                                regexp_extract(col(\"bdate\"), r\"(\\d{1,2})\\.(\\d{1,2})\\.(\\d{4})\", 2).cast(\"int\"), \n",
    "                                regexp_extract(col(\"bdate\"), r\"(\\d{1,2})\\.(\\d{1,2})\\.(\\d{4})\", 1).cast(\"int\")\n",
    "                            ).cast(\"date\")))\\\n",
    "                    .select(\"user_id\", \"sex\", (col(\"month_between\")/12).cast(\"int\").alias(\"age\"))\\\n",
    "                    .where(col(\"sex\").isNotNull() & col(\"age\").isNotNull())"
   ]
  },
  {
   "cell_type": "code",
   "execution_count": 84,
   "metadata": {},
   "outputs": [
    {
     "data": {
      "text/html": [
       "<div>\n",
       "<style scoped>\n",
       "    .dataframe tbody tr th:only-of-type {\n",
       "        vertical-align: middle;\n",
       "    }\n",
       "\n",
       "    .dataframe tbody tr th {\n",
       "        vertical-align: top;\n",
       "    }\n",
       "\n",
       "    .dataframe thead th {\n",
       "        text-align: right;\n",
       "    }\n",
       "</style>\n",
       "<table border=\"1\" class=\"dataframe\">\n",
       "  <thead>\n",
       "    <tr style=\"text-align: right;\">\n",
       "      <th></th>\n",
       "      <th>user_id</th>\n",
       "      <th>sex</th>\n",
       "      <th>age</th>\n",
       "    </tr>\n",
       "  </thead>\n",
       "  <tbody>\n",
       "    <tr>\n",
       "      <th>0</th>\n",
       "      <td>243</td>\n",
       "      <td>1</td>\n",
       "      <td>34</td>\n",
       "    </tr>\n",
       "    <tr>\n",
       "      <th>1</th>\n",
       "      <td>533</td>\n",
       "      <td>2</td>\n",
       "      <td>32</td>\n",
       "    </tr>\n",
       "    <tr>\n",
       "      <th>2</th>\n",
       "      <td>637</td>\n",
       "      <td>1</td>\n",
       "      <td>36</td>\n",
       "    </tr>\n",
       "    <tr>\n",
       "      <th>3</th>\n",
       "      <td>751</td>\n",
       "      <td>2</td>\n",
       "      <td>33</td>\n",
       "    </tr>\n",
       "    <tr>\n",
       "      <th>4</th>\n",
       "      <td>899</td>\n",
       "      <td>1</td>\n",
       "      <td>33</td>\n",
       "    </tr>\n",
       "  </tbody>\n",
       "</table>\n",
       "</div>"
      ],
      "text/plain": [
       "   user_id  sex  age\n",
       "0      243    1   34\n",
       "1      533    2   32\n",
       "2      637    1   36\n",
       "3      751    2   33\n",
       "4      899    1   33"
      ]
     },
     "execution_count": 84,
     "metadata": {},
     "output_type": "execute_result"
    }
   ],
   "source": [
    "followers_df.toPandas().head()"
   ]
  },
  {
   "cell_type": "code",
   "execution_count": 94,
   "metadata": {},
   "outputs": [],
   "source": [
    "#соединим одно с другим\n",
    "posts_with_user_info_df = posts_df.join(followers_df, [\"user_id\"])\\\n",
    "                            .select(\"user_id\", col(\"date\"),\n",
    "                                    \"text\", (when(col(\"sex\") == 1, \"M\").otherwise(\"F\")).alias(\"sex\"), \"age\")\n"
   ]
  },
  {
   "cell_type": "code",
   "execution_count": 95,
   "metadata": {},
   "outputs": [
    {
     "data": {
      "text/html": [
       "<div>\n",
       "<style scoped>\n",
       "    .dataframe tbody tr th:only-of-type {\n",
       "        vertical-align: middle;\n",
       "    }\n",
       "\n",
       "    .dataframe tbody tr th {\n",
       "        vertical-align: top;\n",
       "    }\n",
       "\n",
       "    .dataframe thead th {\n",
       "        text-align: right;\n",
       "    }\n",
       "</style>\n",
       "<table border=\"1\" class=\"dataframe\">\n",
       "  <thead>\n",
       "    <tr style=\"text-align: right;\">\n",
       "      <th></th>\n",
       "      <th>user_id</th>\n",
       "      <th>date</th>\n",
       "      <th>text</th>\n",
       "      <th>sex</th>\n",
       "      <th>age</th>\n",
       "    </tr>\n",
       "  </thead>\n",
       "  <tbody>\n",
       "    <tr>\n",
       "      <th>0</th>\n",
       "      <td>94494</td>\n",
       "      <td>1559647730</td>\n",
       "      <td>Тот неловкий момент, когда прилетел из унылого...</td>\n",
       "      <td>F</td>\n",
       "      <td>33</td>\n",
       "    </tr>\n",
       "    <tr>\n",
       "      <th>1</th>\n",
       "      <td>94494</td>\n",
       "      <td>1559854126</td>\n",
       "      <td>Белые ночи + жаркие дни = ужин на речке под от...</td>\n",
       "      <td>F</td>\n",
       "      <td>33</td>\n",
       "    </tr>\n",
       "    <tr>\n",
       "      <th>2</th>\n",
       "      <td>94494</td>\n",
       "      <td>1560680534</td>\n",
       "      <td>Не велосипедом единым 🚣</td>\n",
       "      <td>F</td>\n",
       "      <td>33</td>\n",
       "    </tr>\n",
       "    <tr>\n",
       "      <th>3</th>\n",
       "      <td>94494</td>\n",
       "      <td>1560987374</td>\n",
       "      <td>Тот самый французский катамаран Energy Observe...</td>\n",
       "      <td>F</td>\n",
       "      <td>33</td>\n",
       "    </tr>\n",
       "    <tr>\n",
       "      <th>4</th>\n",
       "      <td>94494</td>\n",
       "      <td>1561155082</td>\n",
       "      <td>Да, знатное шоу сегодня погода в Петербурге ра...</td>\n",
       "      <td>F</td>\n",
       "      <td>33</td>\n",
       "    </tr>\n",
       "  </tbody>\n",
       "</table>\n",
       "</div>"
      ],
      "text/plain": [
       "   user_id        date                                               text sex  \\\n",
       "0    94494  1559647730  Тот неловкий момент, когда прилетел из унылого...   F   \n",
       "1    94494  1559854126  Белые ночи + жаркие дни = ужин на речке под от...   F   \n",
       "2    94494  1560680534                            Не велосипедом единым 🚣   F   \n",
       "3    94494  1560987374  Тот самый французский катамаран Energy Observe...   F   \n",
       "4    94494  1561155082  Да, знатное шоу сегодня погода в Петербурге ра...   F   \n",
       "\n",
       "   age  \n",
       "0   33  \n",
       "1   33  \n",
       "2   33  \n",
       "3   33  \n",
       "4   33  "
      ]
     },
     "execution_count": 95,
     "metadata": {},
     "output_type": "execute_result"
    }
   ],
   "source": [
    "posts_with_user_info_df.toPandas().head()"
   ]
  },
  {
   "cell_type": "markdown",
   "metadata": {},
   "source": [
    "Начинаем передачу данных через kafka"
   ]
  },
  {
   "cell_type": "code",
   "execution_count": 105,
   "metadata": {},
   "outputs": [],
   "source": [
    "from kafka import KafkaProducer\n",
    "from tqdm import tqdm\n",
    "import json\n",
    "import time\n",
    "import random\n",
    "#from playsound import playsound"
   ]
  },
  {
   "cell_type": "code",
   "execution_count": 111,
   "metadata": {},
   "outputs": [
    {
     "name": "stderr",
     "output_type": "stream",
     "text": [
      "  0%|          | 0/73624 [00:00<?, ?it/s]"
     ]
    }
   ],
   "source": [
    "producer = KafkaProducer(bootstrap_servers=\"kafka-svc:9092\", value_serializer=str.encode)\n",
    "data = tqdm(posts_with_user_info_df.orderBy(\"date\").rdd.toLocalIterator(), total=posts_with_user_info_df.count())"
   ]
  },
  {
   "cell_type": "code",
   "execution_count": null,
   "metadata": {
    "scrolled": true
   },
   "outputs": [
    {
     "name": "stdout",
     "output_type": "stream",
     "text": [
      "Sending a post from user id: 273486249, posted on: 1546290007, sex - F\n"
     ]
    },
    {
     "name": "stderr",
     "output_type": "stream",
     "text": [
      "  0%|          | 1/73624 [02:45<3384:29:43, 165.49s/it]"
     ]
    },
    {
     "name": "stdout",
     "output_type": "stream",
     "text": [
      "Sending a post from user id: 30697, posted on: 1546290009, sex - F\n"
     ]
    },
    {
     "name": "stderr",
     "output_type": "stream",
     "text": [
      "  0%|          | 2/73624 [02:46<1403:53:14, 68.65s/it] "
     ]
    },
    {
     "name": "stdout",
     "output_type": "stream",
     "text": [
      "Sending a post from user id: 127675121, posted on: 1546290040, sex - F\n"
     ]
    },
    {
     "name": "stderr",
     "output_type": "stream",
     "text": [
      "  0%|          | 3/73624 [02:47<771:55:57, 37.75s/it] "
     ]
    },
    {
     "name": "stdout",
     "output_type": "stream",
     "text": [
      "Sending a post from user id: 4555424, posted on: 1546290060, sex - M\n"
     ]
    },
    {
     "name": "stderr",
     "output_type": "stream",
     "text": [
      "  0%|          | 4/73624 [02:47<468:57:23, 22.93s/it]"
     ]
    },
    {
     "name": "stdout",
     "output_type": "stream",
     "text": [
      "Sending a post from user id: 357674986, posted on: 1546290077, sex - F\n"
     ]
    },
    {
     "name": "stderr",
     "output_type": "stream",
     "text": [
      "  0%|          | 5/73624 [02:48<303:44:02, 14.85s/it]"
     ]
    },
    {
     "name": "stdout",
     "output_type": "stream",
     "text": [
      "Sending a post from user id: 379055419, posted on: 1546290100, sex - F\n"
     ]
    },
    {
     "name": "stderr",
     "output_type": "stream",
     "text": [
      "  0%|          | 6/73624 [02:48<205:21:00, 10.04s/it]"
     ]
    },
    {
     "name": "stdout",
     "output_type": "stream",
     "text": [
      "Sending a post from user id: 430592517, posted on: 1546290107, sex - M\n"
     ]
    },
    {
     "name": "stderr",
     "output_type": "stream",
     "text": [
      "  0%|          | 7/73624 [02:49<140:21:46,  6.86s/it]"
     ]
    },
    {
     "name": "stdout",
     "output_type": "stream",
     "text": [
      "Sending a post from user id: 603153, posted on: 1546290112, sex - F\n"
     ]
    },
    {
     "name": "stderr",
     "output_type": "stream",
     "text": [
      "  0%|          | 10/73624 [02:49<52:37:12,  2.57s/it]"
     ]
    },
    {
     "name": "stdout",
     "output_type": "stream",
     "text": [
      "Sending a post from user id: 475220, posted on: 1546290125, sex - F\n",
      "Sending a post from user id: 13675440, posted on: 1546290132, sex - F\n",
      "Sending a post from user id: 172385848, posted on: 1546290143, sex - M\n"
     ]
    },
    {
     "name": "stderr",
     "output_type": "stream",
     "text": [
      "  0%|          | 11/73624 [02:50<44:00:01,  2.15s/it]"
     ]
    },
    {
     "name": "stdout",
     "output_type": "stream",
     "text": [
      "Sending a post from user id: 10445994, posted on: 1546290159, sex - F\n"
     ]
    },
    {
     "name": "stderr",
     "output_type": "stream",
     "text": [
      "  0%|          | 12/73624 [02:51<34:02:19,  1.66s/it]"
     ]
    },
    {
     "name": "stdout",
     "output_type": "stream",
     "text": [
      "Sending a post from user id: 56372957, posted on: 1546290174, sex - F\n"
     ]
    },
    {
     "name": "stderr",
     "output_type": "stream",
     "text": [
      "  0%|          | 13/73624 [02:51<28:50:31,  1.41s/it]"
     ]
    },
    {
     "name": "stdout",
     "output_type": "stream",
     "text": [
      "Sending a post from user id: 100755890, posted on: 1546290177, sex - F\n"
     ]
    },
    {
     "name": "stderr",
     "output_type": "stream",
     "text": [
      "  0%|          | 14/73624 [02:52<24:16:04,  1.19s/it]"
     ]
    },
    {
     "name": "stdout",
     "output_type": "stream",
     "text": [
      "Sending a post from user id: 147716859, posted on: 1546290179, sex - F\n"
     ]
    },
    {
     "name": "stderr",
     "output_type": "stream",
     "text": [
      "  0%|          | 15/73624 [02:52<19:59:08,  1.02it/s]"
     ]
    },
    {
     "name": "stdout",
     "output_type": "stream",
     "text": [
      "Sending a post from user id: 19887393, posted on: 1546290192, sex - F\n"
     ]
    },
    {
     "name": "stderr",
     "output_type": "stream",
     "text": [
      "  0%|          | 16/73624 [02:53<18:48:29,  1.09it/s]"
     ]
    },
    {
     "name": "stdout",
     "output_type": "stream",
     "text": [
      "Sending a post from user id: 22469216, posted on: 1546290204, sex - M\n"
     ]
    },
    {
     "name": "stderr",
     "output_type": "stream",
     "text": [
      "  0%|          | 17/73624 [02:54<16:33:18,  1.24it/s]"
     ]
    },
    {
     "name": "stdout",
     "output_type": "stream",
     "text": [
      "Sending a post from user id: 5786733, posted on: 1546290216, sex - M\n",
      "Sending a post from user id: 122825441, posted on: 1546290278, sex - F\n",
      "Sending a post from user id: 1287770, posted on: 1546290311, sex - F\n"
     ]
    },
    {
     "name": "stderr",
     "output_type": "stream",
     "text": [
      "  0%|          | 20/73624 [02:55<11:06:57,  1.84it/s]"
     ]
    },
    {
     "name": "stdout",
     "output_type": "stream",
     "text": [
      "Sending a post from user id: 241292907, posted on: 1546290338, sex - M\n",
      "Sending a post from user id: 1077823, posted on: 1546290357, sex - F\n",
      "Sending a post from user id: 10363307, posted on: 1546290660, sex - F\n"
     ]
    },
    {
     "name": "stderr",
     "output_type": "stream",
     "text": [
      "  0%|          | 23/73624 [02:55<7:36:07,  2.69it/s] "
     ]
    },
    {
     "name": "stdout",
     "output_type": "stream",
     "text": [
      "Sending a post from user id: 2818498, posted on: 1546290771, sex - F\n"
     ]
    },
    {
     "name": "stderr",
     "output_type": "stream",
     "text": [
      "  0%|          | 24/73624 [02:56<9:23:14,  2.18it/s]"
     ]
    },
    {
     "name": "stdout",
     "output_type": "stream",
     "text": [
      "Sending a post from user id: 77495114, posted on: 1546290816, sex - M\n"
     ]
    },
    {
     "name": "stderr",
     "output_type": "stream",
     "text": [
      "  0%|          | 25/73624 [02:57<10:16:12,  1.99it/s]"
     ]
    },
    {
     "name": "stdout",
     "output_type": "stream",
     "text": [
      "Sending a post from user id: 276545360, posted on: 1546290858, sex - F\n"
     ]
    },
    {
     "name": "stderr",
     "output_type": "stream",
     "text": [
      "  0%|          | 26/73624 [02:58<11:43:11,  1.74it/s]"
     ]
    },
    {
     "name": "stdout",
     "output_type": "stream",
     "text": [
      "Sending a post from user id: 147716859, posted on: 1546291015, sex - F\n"
     ]
    },
    {
     "name": "stderr",
     "output_type": "stream",
     "text": [
      "  0%|          | 27/73624 [02:58<11:15:14,  1.82it/s]"
     ]
    },
    {
     "name": "stdout",
     "output_type": "stream",
     "text": [
      "Sending a post from user id: 135207613, posted on: 1546291028, sex - F\n"
     ]
    },
    {
     "name": "stderr",
     "output_type": "stream",
     "text": [
      "  0%|          | 28/73624 [02:59<13:04:24,  1.56it/s]"
     ]
    },
    {
     "name": "stdout",
     "output_type": "stream",
     "text": [
      "Sending a post from user id: 304744047, posted on: 1546291039, sex - F\n"
     ]
    },
    {
     "name": "stderr",
     "output_type": "stream",
     "text": [
      "  0%|          | 29/73624 [03:00<14:06:32,  1.45it/s]"
     ]
    },
    {
     "name": "stdout",
     "output_type": "stream",
     "text": [
      "Sending a post from user id: 2923196, posted on: 1546291343, sex - F\n"
     ]
    },
    {
     "name": "stderr",
     "output_type": "stream",
     "text": [
      "  0%|          | 31/73624 [03:00<10:31:50,  1.94it/s]"
     ]
    },
    {
     "name": "stdout",
     "output_type": "stream",
     "text": [
      "Sending a post from user id: 24142927, posted on: 1546291469, sex - F\n",
      "Sending a post from user id: 968540, posted on: 1546291531, sex - F\n"
     ]
    },
    {
     "name": "stderr",
     "output_type": "stream",
     "text": [
      "  0%|          | 33/73624 [03:01<7:23:04,  2.77it/s] "
     ]
    },
    {
     "name": "stdout",
     "output_type": "stream",
     "text": [
      "Sending a post from user id: 180124822, posted on: 1546291619, sex - M\n",
      "Sending a post from user id: 119652, posted on: 1546291679, sex - F\n"
     ]
    },
    {
     "name": "stderr",
     "output_type": "stream",
     "text": [
      "  0%|          | 34/73624 [03:02<10:18:25,  1.98it/s]"
     ]
    },
    {
     "name": "stdout",
     "output_type": "stream",
     "text": [
      "Sending a post from user id: 519519067, posted on: 1546291697, sex - F\n"
     ]
    },
    {
     "name": "stderr",
     "output_type": "stream",
     "text": [
      "  0%|          | 35/73624 [03:02<8:29:14,  2.41it/s] "
     ]
    },
    {
     "name": "stdout",
     "output_type": "stream",
     "text": [
      "Sending a post from user id: 59908635, posted on: 1546291856, sex - M\n"
     ]
    },
    {
     "name": "stderr",
     "output_type": "stream",
     "text": [
      "  0%|          | 36/73624 [03:02<8:44:45,  2.34it/s]"
     ]
    },
    {
     "name": "stdout",
     "output_type": "stream",
     "text": [
      "Sending a post from user id: 5728195, posted on: 1546291884, sex - F\n"
     ]
    },
    {
     "name": "stderr",
     "output_type": "stream",
     "text": [
      "  0%|          | 37/73624 [03:03<10:05:20,  2.03it/s]"
     ]
    },
    {
     "name": "stdout",
     "output_type": "stream",
     "text": [
      "Sending a post from user id: 58974822, posted on: 1546291930, sex - M\n"
     ]
    },
    {
     "name": "stderr",
     "output_type": "stream",
     "text": [
      "  0%|          | 38/73624 [03:03<9:08:24,  2.24it/s] "
     ]
    },
    {
     "name": "stdout",
     "output_type": "stream",
     "text": [
      "Sending a post from user id: 24974434, posted on: 1546291971, sex - M\n"
     ]
    },
    {
     "name": "stderr",
     "output_type": "stream",
     "text": [
      "  0%|          | 39/73624 [03:04<9:04:41,  2.25it/s]"
     ]
    },
    {
     "name": "stdout",
     "output_type": "stream",
     "text": [
      "Sending a post from user id: 172385848, posted on: 1546292281, sex - M\n"
     ]
    },
    {
     "name": "stderr",
     "output_type": "stream",
     "text": [
      "  0%|          | 40/73624 [03:04<7:47:47,  2.62it/s]"
     ]
    },
    {
     "name": "stdout",
     "output_type": "stream",
     "text": [
      "Sending a post from user id: 208117755, posted on: 1546292509, sex - F\n"
     ]
    },
    {
     "name": "stderr",
     "output_type": "stream",
     "text": [
      "  0%|          | 41/73624 [03:05<10:43:03,  1.91it/s]"
     ]
    },
    {
     "name": "stdout",
     "output_type": "stream",
     "text": [
      "Sending a post from user id: 22746312, posted on: 1546292704, sex - F\n",
      "Sending a post from user id: 47788158, posted on: 1546292843, sex - M\n"
     ]
    },
    {
     "name": "stderr",
     "output_type": "stream",
     "text": [
      "  0%|          | 43/73624 [03:05<7:02:38,  2.90it/s] "
     ]
    },
    {
     "name": "stdout",
     "output_type": "stream",
     "text": [
      "Sending a post from user id: 28522655, posted on: 1546292963, sex - M\n"
     ]
    },
    {
     "name": "stderr",
     "output_type": "stream",
     "text": [
      "  0%|          | 44/73624 [03:06<8:04:15,  2.53it/s]"
     ]
    },
    {
     "name": "stdout",
     "output_type": "stream",
     "text": [
      "Sending a post from user id: 165146319, posted on: 1546293034, sex - F\n",
      "Sending a post from user id: 475220, posted on: 1546293095, sex - F\n"
     ]
    },
    {
     "name": "stderr",
     "output_type": "stream",
     "text": [
      "  0%|          | 46/73624 [03:06<7:03:34,  2.90it/s]"
     ]
    },
    {
     "name": "stdout",
     "output_type": "stream",
     "text": [
      "Sending a post from user id: 165146319, posted on: 1546293157, sex - F\n"
     ]
    },
    {
     "name": "stderr",
     "output_type": "stream",
     "text": [
      "  0%|          | 47/73624 [03:06<6:26:30,  3.17it/s]"
     ]
    },
    {
     "name": "stdout",
     "output_type": "stream",
     "text": [
      "Sending a post from user id: 188548515, posted on: 1546293182, sex - M\n"
     ]
    },
    {
     "name": "stderr",
     "output_type": "stream",
     "text": [
      "  0%|          | 48/73624 [03:07<7:10:57,  2.85it/s]"
     ]
    },
    {
     "name": "stdout",
     "output_type": "stream",
     "text": [
      "Sending a post from user id: 6386424, posted on: 1546293198, sex - M\n"
     ]
    },
    {
     "name": "stderr",
     "output_type": "stream",
     "text": [
      "  0%|          | 49/73624 [03:08<10:24:36,  1.96it/s]"
     ]
    },
    {
     "name": "stdout",
     "output_type": "stream",
     "text": [
      "Sending a post from user id: 188548515, posted on: 1546293225, sex - M\n",
      "Sending a post from user id: 221147527, posted on: 1546293351, sex - M\n"
     ]
    },
    {
     "name": "stderr",
     "output_type": "stream",
     "text": [
      "  0%|          | 52/73624 [03:08<6:19:29,  3.23it/s] "
     ]
    },
    {
     "name": "stdout",
     "output_type": "stream",
     "text": [
      "Sending a post from user id: 986544, posted on: 1546293379, sex - M\n",
      "Sending a post from user id: 394348, posted on: 1546293520, sex - M\n"
     ]
    },
    {
     "name": "stderr",
     "output_type": "stream",
     "text": [
      "  0%|          | 53/73624 [03:09<7:41:33,  2.66it/s]"
     ]
    },
    {
     "name": "stdout",
     "output_type": "stream",
     "text": [
      "Sending a post from user id: 453948090, posted on: 1546294014, sex - M\n"
     ]
    },
    {
     "name": "stderr",
     "output_type": "stream",
     "text": [
      "  0%|          | 54/73624 [03:10<10:30:40,  1.94it/s]"
     ]
    },
    {
     "name": "stdout",
     "output_type": "stream",
     "text": [
      "Sending a post from user id: 12561230, posted on: 1546294167, sex - F\n"
     ]
    },
    {
     "name": "stderr",
     "output_type": "stream",
     "text": [
      "  0%|          | 55/73624 [03:11<11:42:36,  1.75it/s]"
     ]
    },
    {
     "name": "stdout",
     "output_type": "stream",
     "text": [
      "Sending a post from user id: 190636098, posted on: 1546294183, sex - F\n"
     ]
    },
    {
     "name": "stderr",
     "output_type": "stream",
     "text": [
      "  0%|          | 56/73624 [03:11<13:19:50,  1.53it/s]"
     ]
    },
    {
     "name": "stdout",
     "output_type": "stream",
     "text": [
      "Sending a post from user id: 905629, posted on: 1546294384, sex - F\n"
     ]
    },
    {
     "name": "stderr",
     "output_type": "stream",
     "text": [
      "  0%|          | 57/73624 [03:12<14:19:50,  1.43it/s]"
     ]
    },
    {
     "name": "stdout",
     "output_type": "stream",
     "text": [
      "Sending a post from user id: 905629, posted on: 1546294459, sex - F\n"
     ]
    },
    {
     "name": "stderr",
     "output_type": "stream",
     "text": [
      "  0%|          | 58/73624 [03:14<17:50:31,  1.15it/s]"
     ]
    },
    {
     "name": "stdout",
     "output_type": "stream",
     "text": [
      "Sending a post from user id: 326164741, posted on: 1546294488, sex - F\n"
     ]
    },
    {
     "name": "stderr",
     "output_type": "stream",
     "text": [
      "  0%|          | 59/73624 [03:15<18:33:44,  1.10it/s]"
     ]
    },
    {
     "name": "stdout",
     "output_type": "stream",
     "text": [
      "Sending a post from user id: 3710274, posted on: 1546294577, sex - M\n"
     ]
    },
    {
     "name": "stderr",
     "output_type": "stream",
     "text": [
      "  0%|          | 60/73624 [03:15<18:07:52,  1.13it/s]"
     ]
    },
    {
     "name": "stdout",
     "output_type": "stream",
     "text": [
      "Sending a post from user id: 33487, posted on: 1546294712, sex - F\n"
     ]
    },
    {
     "name": "stderr",
     "output_type": "stream",
     "text": [
      "  0%|          | 61/73624 [03:16<17:02:10,  1.20it/s]"
     ]
    },
    {
     "name": "stdout",
     "output_type": "stream",
     "text": [
      "Sending a post from user id: 1129941, posted on: 1546295091, sex - F\n"
     ]
    },
    {
     "name": "stderr",
     "output_type": "stream",
     "text": [
      "  0%|          | 62/73624 [03:17<14:39:25,  1.39it/s]"
     ]
    },
    {
     "name": "stdout",
     "output_type": "stream",
     "text": [
      "Sending a post from user id: 381962835, posted on: 1546295269, sex - M\n"
     ]
    },
    {
     "name": "stderr",
     "output_type": "stream",
     "text": [
      "  0%|          | 63/73624 [03:17<15:05:15,  1.35it/s]"
     ]
    },
    {
     "name": "stdout",
     "output_type": "stream",
     "text": [
      "Sending a post from user id: 7692544, posted on: 1546295476, sex - M\n",
      "Sending a post from user id: 351465764, posted on: 1546295532, sex - F\n"
     ]
    },
    {
     "name": "stderr",
     "output_type": "stream",
     "text": [
      "  0%|          | 65/73624 [03:18<10:07:54,  2.02it/s]"
     ]
    },
    {
     "name": "stdout",
     "output_type": "stream",
     "text": [
      "Sending a post from user id: 1077823, posted on: 1546295546, sex - F\n"
     ]
    },
    {
     "name": "stderr",
     "output_type": "stream",
     "text": [
      "  0%|          | 66/73624 [03:19<12:24:48,  1.65it/s]"
     ]
    },
    {
     "name": "stdout",
     "output_type": "stream",
     "text": [
      "Sending a post from user id: 1287770, posted on: 1546295553, sex - F\n",
      "Sending a post from user id: 337037, posted on: 1546296509, sex - F\n"
     ]
    },
    {
     "name": "stderr",
     "output_type": "stream",
     "text": [
      "  0%|          | 68/73624 [03:20<11:16:08,  1.81it/s]"
     ]
    },
    {
     "name": "stdout",
     "output_type": "stream",
     "text": [
      "Sending a post from user id: 187543327, posted on: 1546296713, sex - F\n"
     ]
    },
    {
     "name": "stderr",
     "output_type": "stream",
     "text": [
      "  0%|          | 69/73624 [03:20<10:27:07,  1.95it/s]"
     ]
    },
    {
     "name": "stdout",
     "output_type": "stream",
     "text": [
      "Sending a post from user id: 352126309, posted on: 1546297174, sex - M\n"
     ]
    },
    {
     "name": "stderr",
     "output_type": "stream",
     "text": [
      "  0%|          | 70/73624 [03:20<9:37:25,  2.12it/s] "
     ]
    },
    {
     "name": "stdout",
     "output_type": "stream",
     "text": [
      "Sending a post from user id: 431460715, posted on: 1546297239, sex - F\n"
     ]
    },
    {
     "name": "stderr",
     "output_type": "stream",
     "text": [
      "  0%|          | 71/73624 [03:21<12:20:01,  1.66it/s]"
     ]
    },
    {
     "name": "stdout",
     "output_type": "stream",
     "text": [
      "Sending a post from user id: 357710591, posted on: 1546297411, sex - M\n",
      "Sending a post from user id: 62486981, posted on: 1546297453, sex - F\n"
     ]
    },
    {
     "name": "stderr",
     "output_type": "stream",
     "text": [
      "  0%|          | 73/73624 [03:22<10:17:03,  1.99it/s]"
     ]
    },
    {
     "name": "stdout",
     "output_type": "stream",
     "text": [
      "Sending a post from user id: 171900534, posted on: 1546297740, sex - F\n"
     ]
    },
    {
     "name": "stderr",
     "output_type": "stream",
     "text": [
      "  0%|          | 74/73624 [03:23<9:57:58,  2.05it/s] "
     ]
    },
    {
     "name": "stdout",
     "output_type": "stream",
     "text": [
      "Sending a post from user id: 2818498, posted on: 1546297764, sex - F\n"
     ]
    },
    {
     "name": "stderr",
     "output_type": "stream",
     "text": [
      "  0%|          | 76/73624 [03:23<8:40:10,  2.36it/s] "
     ]
    },
    {
     "name": "stdout",
     "output_type": "stream",
     "text": [
      "Sending a post from user id: 171900534, posted on: 1546297843, sex - F\n",
      "Sending a post from user id: 7361571, posted on: 1546298099, sex - M\n"
     ]
    },
    {
     "name": "stderr",
     "output_type": "stream",
     "text": [
      "  0%|          | 78/73624 [03:24<6:06:22,  3.35it/s]"
     ]
    },
    {
     "name": "stdout",
     "output_type": "stream",
     "text": [
      "Sending a post from user id: 137757972, posted on: 1546298432, sex - M\n",
      "Sending a post from user id: 112696437, posted on: 1546298461, sex - M\n",
      "Sending a post from user id: 25317378, posted on: 1546298920, sex - F\n"
     ]
    },
    {
     "name": "stderr",
     "output_type": "stream",
     "text": [
      "  0%|          | 81/73624 [03:25<6:54:55,  2.95it/s]"
     ]
    },
    {
     "name": "stdout",
     "output_type": "stream",
     "text": [
      "Sending a post from user id: 377117821, posted on: 1546299260, sex - M\n",
      "Sending a post from user id: 380687952, posted on: 1546300020, sex - F\n"
     ]
    },
    {
     "name": "stderr",
     "output_type": "stream",
     "text": [
      "  0%|          | 82/73624 [03:25<6:43:46,  3.04it/s]"
     ]
    },
    {
     "name": "stdout",
     "output_type": "stream",
     "text": [
      "Sending a post from user id: 3018417, posted on: 1546300227, sex - M\n"
     ]
    },
    {
     "name": "stderr",
     "output_type": "stream",
     "text": [
      "  0%|          | 83/73624 [03:26<8:24:21,  2.43it/s]"
     ]
    },
    {
     "name": "stdout",
     "output_type": "stream",
     "text": [
      "Sending a post from user id: 740914, posted on: 1546302019, sex - F\n"
     ]
    },
    {
     "name": "stderr",
     "output_type": "stream",
     "text": [
      "  0%|          | 84/73624 [03:27<10:44:02,  1.90it/s]"
     ]
    },
    {
     "name": "stdout",
     "output_type": "stream",
     "text": [
      "Sending a post from user id: 290772221, posted on: 1546302845, sex - F\n"
     ]
    },
    {
     "name": "stderr",
     "output_type": "stream",
     "text": [
      "  0%|          | 85/73624 [03:28<13:07:08,  1.56it/s]"
     ]
    },
    {
     "name": "stdout",
     "output_type": "stream",
     "text": [
      "Sending a post from user id: 158423, posted on: 1546302888, sex - M\n"
     ]
    },
    {
     "name": "stderr",
     "output_type": "stream",
     "text": [
      "  0%|          | 86/73624 [03:28<10:57:33,  1.86it/s]"
     ]
    },
    {
     "name": "stdout",
     "output_type": "stream",
     "text": [
      "Sending a post from user id: 211128084, posted on: 1546303091, sex - F\n"
     ]
    },
    {
     "name": "stderr",
     "output_type": "stream",
     "text": [
      "  0%|          | 87/73624 [03:28<11:13:32,  1.82it/s]"
     ]
    },
    {
     "name": "stdout",
     "output_type": "stream",
     "text": [
      "Sending a post from user id: 158423, posted on: 1546303659, sex - M\n"
     ]
    },
    {
     "name": "stderr",
     "output_type": "stream",
     "text": [
      "  0%|          | 88/73624 [03:29<12:36:22,  1.62it/s]"
     ]
    },
    {
     "name": "stdout",
     "output_type": "stream",
     "text": [
      "Sending a post from user id: 25472200, posted on: 1546303752, sex - F\n",
      "Sending a post from user id: 25672927, posted on: 1546303887, sex - F\n"
     ]
    },
    {
     "name": "stderr",
     "output_type": "stream",
     "text": [
      "  0%|          | 90/73624 [03:30<10:04:57,  2.03it/s]"
     ]
    },
    {
     "name": "stdout",
     "output_type": "stream",
     "text": [
      "Sending a post from user id: 241292907, posted on: 1546304402, sex - M\n"
     ]
    },
    {
     "name": "stderr",
     "output_type": "stream",
     "text": [
      "  0%|          | 91/73624 [03:31<12:29:30,  1.64it/s]"
     ]
    },
    {
     "name": "stdout",
     "output_type": "stream",
     "text": [
      "Sending a post from user id: 122825441, posted on: 1546304873, sex - F\n"
     ]
    },
    {
     "name": "stderr",
     "output_type": "stream",
     "text": [
      "  0%|          | 92/73624 [03:31<10:57:44,  1.86it/s]"
     ]
    },
    {
     "name": "stdout",
     "output_type": "stream",
     "text": [
      "Sending a post from user id: 14622371, posted on: 1546305308, sex - F\n"
     ]
    },
    {
     "name": "stderr",
     "output_type": "stream",
     "text": [
      "  0%|          | 93/73624 [03:32<12:33:04,  1.63it/s]"
     ]
    },
    {
     "name": "stdout",
     "output_type": "stream",
     "text": [
      "Sending a post from user id: 5685, posted on: 1546305962, sex - F\n"
     ]
    },
    {
     "name": "stderr",
     "output_type": "stream",
     "text": [
      "  0%|          | 94/73624 [03:32<11:36:56,  1.76it/s]"
     ]
    },
    {
     "name": "stdout",
     "output_type": "stream",
     "text": [
      "Sending a post from user id: 94494, posted on: 1546306322, sex - F\n"
     ]
    },
    {
     "name": "stderr",
     "output_type": "stream",
     "text": [
      "  0%|          | 95/73624 [03:33<9:58:16,  2.05it/s] "
     ]
    },
    {
     "name": "stdout",
     "output_type": "stream",
     "text": [
      "Sending a post from user id: 50789478, posted on: 1546307748, sex - M\n"
     ]
    },
    {
     "name": "stderr",
     "output_type": "stream",
     "text": [
      "  0%|          | 96/73624 [03:33<10:27:03,  1.95it/s]"
     ]
    },
    {
     "name": "stdout",
     "output_type": "stream",
     "text": [
      "Sending a post from user id: 506003082, posted on: 1546308006, sex - F\n"
     ]
    },
    {
     "name": "stderr",
     "output_type": "stream",
     "text": [
      "  0%|          | 97/73624 [03:34<10:33:10,  1.94it/s]"
     ]
    },
    {
     "name": "stdout",
     "output_type": "stream",
     "text": [
      "Sending a post from user id: 211128084, posted on: 1546308006, sex - F\n"
     ]
    },
    {
     "name": "stderr",
     "output_type": "stream",
     "text": [
      "  0%|          | 98/73624 [03:35<11:53:59,  1.72it/s]"
     ]
    },
    {
     "name": "stdout",
     "output_type": "stream",
     "text": [
      "Sending a post from user id: 34763428, posted on: 1546308373, sex - M\n"
     ]
    },
    {
     "name": "stderr",
     "output_type": "stream",
     "text": [
      "  0%|          | 99/73624 [03:35<12:29:03,  1.64it/s]"
     ]
    },
    {
     "name": "stdout",
     "output_type": "stream",
     "text": [
      "Sending a post from user id: 174291546, posted on: 1546309443, sex - F\n",
      "Sending a post from user id: 222620376, posted on: 1546310080, sex - F\n"
     ]
    },
    {
     "name": "stderr",
     "output_type": "stream",
     "text": [
      "  0%|          | 101/73624 [03:36<8:51:27,  2.31it/s]"
     ]
    },
    {
     "name": "stdout",
     "output_type": "stream",
     "text": [
      "Sending a post from user id: 20465166, posted on: 1546310081, sex - M\n"
     ]
    },
    {
     "name": "stderr",
     "output_type": "stream",
     "text": [
      "  0%|          | 102/73624 [03:36<8:52:45,  2.30it/s]"
     ]
    },
    {
     "name": "stdout",
     "output_type": "stream",
     "text": [
      "Sending a post from user id: 220646663, posted on: 1546311384, sex - M\n"
     ]
    },
    {
     "name": "stderr",
     "output_type": "stream",
     "text": [
      "  0%|          | 103/73624 [03:37<10:11:43,  2.00it/s]"
     ]
    },
    {
     "name": "stdout",
     "output_type": "stream",
     "text": [
      "Sending a post from user id: 226617, posted on: 1546311400, sex - M\n"
     ]
    },
    {
     "name": "stderr",
     "output_type": "stream",
     "text": [
      "  0%|          | 104/73624 [03:37<10:08:26,  2.01it/s]"
     ]
    },
    {
     "name": "stdout",
     "output_type": "stream",
     "text": [
      "Sending a post from user id: 174291546, posted on: 1546313259, sex - F\n"
     ]
    },
    {
     "name": "stderr",
     "output_type": "stream",
     "text": [
      "  0%|          | 105/73624 [03:38<12:18:28,  1.66it/s]"
     ]
    },
    {
     "name": "stdout",
     "output_type": "stream",
     "text": [
      "Sending a post from user id: 17610213, posted on: 1546313529, sex - M\n"
     ]
    },
    {
     "name": "stderr",
     "output_type": "stream",
     "text": [
      "  0%|          | 106/73624 [03:39<12:00:09,  1.70it/s]"
     ]
    },
    {
     "name": "stdout",
     "output_type": "stream",
     "text": [
      "Sending a post from user id: 119541587, posted on: 1546314176, sex - M\n"
     ]
    },
    {
     "name": "stderr",
     "output_type": "stream",
     "text": [
      "  0%|          | 107/73624 [03:40<15:59:58,  1.28it/s]"
     ]
    },
    {
     "name": "stdout",
     "output_type": "stream",
     "text": [
      "Sending a post from user id: 199045493, posted on: 1546317522, sex - F\n"
     ]
    },
    {
     "name": "stderr",
     "output_type": "stream",
     "text": [
      "  0%|          | 108/73624 [03:40<13:15:24,  1.54it/s]"
     ]
    },
    {
     "name": "stdout",
     "output_type": "stream",
     "text": [
      "Sending a post from user id: 117201453, posted on: 1546318373, sex - F\n",
      "Sending a post from user id: 464166807, posted on: 1546318513, sex - F\n"
     ]
    },
    {
     "name": "stderr",
     "output_type": "stream",
     "text": [
      "  0%|          | 110/73624 [03:41<12:07:24,  1.68it/s]"
     ]
    },
    {
     "name": "stdout",
     "output_type": "stream",
     "text": [
      "Sending a post from user id: 363497, posted on: 1546318576, sex - F\n"
     ]
    },
    {
     "name": "stderr",
     "output_type": "stream",
     "text": [
      "  0%|          | 111/73624 [03:42<13:38:39,  1.50it/s]"
     ]
    },
    {
     "name": "stdout",
     "output_type": "stream",
     "text": [
      "Sending a post from user id: 363497, posted on: 1546319521, sex - F\n"
     ]
    },
    {
     "name": "stderr",
     "output_type": "stream",
     "text": [
      "  0%|          | 113/73624 [03:43<10:49:13,  1.89it/s]"
     ]
    },
    {
     "name": "stdout",
     "output_type": "stream",
     "text": [
      "Sending a post from user id: 464166807, posted on: 1546319633, sex - F\n",
      "Sending a post from user id: 279517185, posted on: 1546319834, sex - M\n",
      "Sending a post from user id: 5098349, posted on: 1546320541, sex - F\n"
     ]
    },
    {
     "name": "stderr",
     "output_type": "stream",
     "text": [
      "  0%|          | 115/73624 [03:44<10:16:50,  1.99it/s]"
     ]
    },
    {
     "name": "stdout",
     "output_type": "stream",
     "text": [
      "Sending a post from user id: 6793753, posted on: 1546322084, sex - F\n"
     ]
    },
    {
     "name": "stderr",
     "output_type": "stream",
     "text": [
      "  0%|          | 117/73624 [03:45<9:14:59,  2.21it/s] "
     ]
    },
    {
     "name": "stdout",
     "output_type": "stream",
     "text": [
      "Sending a post from user id: 8694246, posted on: 1546322406, sex - F\n",
      "Sending a post from user id: 304381986, posted on: 1546322649, sex - F\n"
     ]
    },
    {
     "name": "stderr",
     "output_type": "stream",
     "text": [
      "  0%|          | 118/73624 [03:45<7:53:45,  2.59it/s]"
     ]
    },
    {
     "name": "stdout",
     "output_type": "stream",
     "text": [
      "Sending a post from user id: 194073434, posted on: 1546324816, sex - M\n"
     ]
    },
    {
     "name": "stderr",
     "output_type": "stream",
     "text": [
      "  0%|          | 119/73624 [03:46<7:45:44,  2.63it/s]"
     ]
    },
    {
     "name": "stdout",
     "output_type": "stream",
     "text": [
      "Sending a post from user id: 525538, posted on: 1546325899, sex - F\n"
     ]
    },
    {
     "name": "stderr",
     "output_type": "stream",
     "text": [
      "  0%|          | 120/73624 [03:46<9:48:54,  2.08it/s]"
     ]
    },
    {
     "name": "stdout",
     "output_type": "stream",
     "text": [
      "Sending a post from user id: 8631697, posted on: 1546326961, sex - F\n"
     ]
    },
    {
     "name": "stderr",
     "output_type": "stream",
     "text": [
      "  0%|          | 121/73624 [03:47<11:15:12,  1.81it/s]"
     ]
    },
    {
     "name": "stdout",
     "output_type": "stream",
     "text": [
      "Sending a post from user id: 1850377, posted on: 1546328542, sex - M\n"
     ]
    },
    {
     "name": "stderr",
     "output_type": "stream",
     "text": [
      "  0%|          | 122/73624 [03:47<10:24:07,  1.96it/s]"
     ]
    },
    {
     "name": "stdout",
     "output_type": "stream",
     "text": [
      "Sending a post from user id: 98457549, posted on: 1546328805, sex - M\n",
      "Sending a post from user id: 357710591, posted on: 1546329073, sex - M\n"
     ]
    },
    {
     "name": "stderr",
     "output_type": "stream",
     "text": [
      "  0%|          | 124/73624 [03:48<7:25:13,  2.75it/s] "
     ]
    },
    {
     "name": "stdout",
     "output_type": "stream",
     "text": [
      "Sending a post from user id: 141687240, posted on: 1546330159, sex - M\n"
     ]
    },
    {
     "name": "stderr",
     "output_type": "stream",
     "text": [
      "  0%|          | 125/73624 [03:49<9:53:18,  2.06it/s]"
     ]
    },
    {
     "name": "stdout",
     "output_type": "stream",
     "text": [
      "Sending a post from user id: 242739930, posted on: 1546330186, sex - F\n"
     ]
    },
    {
     "name": "stderr",
     "output_type": "stream",
     "text": [
      "  0%|          | 126/73624 [03:50<12:26:06,  1.64it/s]"
     ]
    },
    {
     "name": "stdout",
     "output_type": "stream",
     "text": [
      "Sending a post from user id: 141687240, posted on: 1546330193, sex - M\n"
     ]
    },
    {
     "name": "stderr",
     "output_type": "stream",
     "text": [
      "  0%|          | 127/73624 [03:50<12:01:13,  1.70it/s]"
     ]
    },
    {
     "name": "stdout",
     "output_type": "stream",
     "text": [
      "Sending a post from user id: 141687240, posted on: 1546330247, sex - M\n"
     ]
    },
    {
     "name": "stderr",
     "output_type": "stream",
     "text": [
      "  0%|          | 128/73624 [03:51<11:40:19,  1.75it/s]"
     ]
    },
    {
     "name": "stdout",
     "output_type": "stream",
     "text": [
      "Sending a post from user id: 37127521, posted on: 1546331484, sex - M\n"
     ]
    },
    {
     "name": "stderr",
     "output_type": "stream",
     "text": [
      "  0%|          | 129/73624 [03:51<12:52:54,  1.58it/s]"
     ]
    },
    {
     "name": "stdout",
     "output_type": "stream",
     "text": [
      "Sending a post from user id: 5098349, posted on: 1546331536, sex - F\n"
     ]
    },
    {
     "name": "stderr",
     "output_type": "stream",
     "text": [
      "  0%|          | 130/73624 [03:52<13:27:28,  1.52it/s]"
     ]
    },
    {
     "name": "stdout",
     "output_type": "stream",
     "text": [
      "Sending a post from user id: 12977, posted on: 1546332169, sex - M\n"
     ]
    },
    {
     "name": "stderr",
     "output_type": "stream",
     "text": [
      "  0%|          | 131/73624 [03:52<11:13:48,  1.82it/s]"
     ]
    },
    {
     "name": "stdout",
     "output_type": "stream",
     "text": [
      "Sending a post from user id: 293671289, posted on: 1546332392, sex - F\n"
     ]
    },
    {
     "name": "stderr",
     "output_type": "stream",
     "text": [
      "  0%|          | 132/73624 [03:53<9:50:12,  2.08it/s] "
     ]
    },
    {
     "name": "stdout",
     "output_type": "stream",
     "text": [
      "Sending a post from user id: 3457017, posted on: 1546332902, sex - M\n"
     ]
    },
    {
     "name": "stderr",
     "output_type": "stream",
     "text": [
      "  0%|          | 133/73624 [03:53<8:29:54,  2.40it/s]"
     ]
    },
    {
     "name": "stdout",
     "output_type": "stream",
     "text": [
      "Sending a post from user id: 435218, posted on: 1546332962, sex - F\n"
     ]
    },
    {
     "name": "stderr",
     "output_type": "stream",
     "text": [
      "  0%|          | 134/73624 [03:54<10:53:43,  1.87it/s]"
     ]
    },
    {
     "name": "stdout",
     "output_type": "stream",
     "text": [
      "Sending a post from user id: 352470436, posted on: 1546333294, sex - M\n"
     ]
    },
    {
     "name": "stderr",
     "output_type": "stream",
     "text": [
      "  0%|          | 135/73624 [03:54<11:17:54,  1.81it/s]"
     ]
    },
    {
     "name": "stdout",
     "output_type": "stream",
     "text": [
      "Sending a post from user id: 1653991, posted on: 1546333322, sex - M\n"
     ]
    },
    {
     "name": "stderr",
     "output_type": "stream",
     "text": [
      "  0%|          | 137/73624 [03:55<10:16:59,  1.99it/s]"
     ]
    },
    {
     "name": "stdout",
     "output_type": "stream",
     "text": [
      "Sending a post from user id: 141687240, posted on: 1546333371, sex - M\n",
      "Sending a post from user id: 253969541, posted on: 1546333553, sex - F\n",
      "Sending a post from user id: 222620376, posted on: 1546333634, sex - F\n",
      "Sending a post from user id: 37259038, posted on: 1546333810, sex - M\n"
     ]
    },
    {
     "name": "stderr",
     "output_type": "stream",
     "text": [
      "  0%|          | 140/73624 [03:56<5:36:55,  3.64it/s] "
     ]
    },
    {
     "name": "stdout",
     "output_type": "stream",
     "text": [
      "Sending a post from user id: 331956, posted on: 1546333872, sex - M\n"
     ]
    },
    {
     "name": "stderr",
     "output_type": "stream",
     "text": [
      "  0%|          | 141/73624 [03:57<7:49:21,  2.61it/s]"
     ]
    },
    {
     "name": "stdout",
     "output_type": "stream",
     "text": [
      "Sending a post from user id: 24974434, posted on: 1546334265, sex - M\n",
      "Sending a post from user id: 253969541, posted on: 1546334387, sex - F\n"
     ]
    },
    {
     "name": "stderr",
     "output_type": "stream",
     "text": [
      "  0%|          | 143/73624 [03:58<9:54:47,  2.06it/s]"
     ]
    },
    {
     "name": "stdout",
     "output_type": "stream",
     "text": [
      "Sending a post from user id: 98457549, posted on: 1546334483, sex - M\n"
     ]
    },
    {
     "name": "stderr",
     "output_type": "stream",
     "text": [
      "  0%|          | 144/73624 [03:58<9:45:54,  2.09it/s]"
     ]
    },
    {
     "name": "stdout",
     "output_type": "stream",
     "text": [
      "Sending a post from user id: 251507477, posted on: 1546334504, sex - F\n"
     ]
    },
    {
     "name": "stderr",
     "output_type": "stream",
     "text": [
      "  0%|          | 145/73624 [03:59<8:47:51,  2.32it/s]"
     ]
    },
    {
     "name": "stdout",
     "output_type": "stream",
     "text": [
      "Sending a post from user id: 404755131, posted on: 1546334508, sex - M\n"
     ]
    },
    {
     "name": "stderr",
     "output_type": "stream",
     "text": [
      "  0%|          | 146/73624 [03:59<11:04:23,  1.84it/s]"
     ]
    },
    {
     "name": "stdout",
     "output_type": "stream",
     "text": [
      "Sending a post from user id: 174291546, posted on: 1546334537, sex - F\n"
     ]
    },
    {
     "name": "stderr",
     "output_type": "stream",
     "text": [
      "  0%|          | 147/73624 [04:00<9:47:06,  2.09it/s] "
     ]
    },
    {
     "name": "stdout",
     "output_type": "stream",
     "text": [
      "Sending a post from user id: 27102997, posted on: 1546334725, sex - F\n",
      "Sending a post from user id: 242739930, posted on: 1546334986, sex - F\n"
     ]
    },
    {
     "name": "stderr",
     "output_type": "stream",
     "text": [
      "  0%|          | 149/73624 [04:00<6:48:21,  3.00it/s]"
     ]
    },
    {
     "name": "stdout",
     "output_type": "stream",
     "text": [
      "Sending a post from user id: 174291546, posted on: 1546335017, sex - F\n"
     ]
    },
    {
     "name": "stderr",
     "output_type": "stream",
     "text": [
      "  0%|          | 151/73624 [04:00<5:38:16,  3.62it/s]"
     ]
    },
    {
     "name": "stdout",
     "output_type": "stream",
     "text": [
      "Sending a post from user id: 96455354, posted on: 1546335055, sex - F\n",
      "Sending a post from user id: 3809038, posted on: 1546335078, sex - F\n"
     ]
    },
    {
     "name": "stderr",
     "output_type": "stream",
     "text": [
      "  0%|          | 152/73624 [04:01<4:58:18,  4.10it/s]"
     ]
    },
    {
     "name": "stdout",
     "output_type": "stream",
     "text": [
      "Sending a post from user id: 24442515, posted on: 1546335182, sex - M\n"
     ]
    },
    {
     "name": "stderr",
     "output_type": "stream",
     "text": [
      "  0%|          | 153/73624 [04:02<8:37:08,  2.37it/s]"
     ]
    },
    {
     "name": "stdout",
     "output_type": "stream",
     "text": [
      "Sending a post from user id: 174291546, posted on: 1546335449, sex - F\n"
     ]
    },
    {
     "name": "stderr",
     "output_type": "stream",
     "text": [
      "  0%|          | 154/73624 [04:02<10:48:07,  1.89it/s]"
     ]
    },
    {
     "name": "stdout",
     "output_type": "stream",
     "text": [
      "Sending a post from user id: 27277042, posted on: 1546335524, sex - M\n"
     ]
    },
    {
     "name": "stderr",
     "output_type": "stream",
     "text": [
      "  0%|          | 155/73624 [04:03<11:24:39,  1.79it/s]"
     ]
    },
    {
     "name": "stdout",
     "output_type": "stream",
     "text": [
      "Sending a post from user id: 8694246, posted on: 1546335600, sex - F\n"
     ]
    },
    {
     "name": "stderr",
     "output_type": "stream",
     "text": [
      "  0%|          | 156/73624 [04:04<13:13:56,  1.54it/s]"
     ]
    },
    {
     "name": "stdout",
     "output_type": "stream",
     "text": [
      "Sending a post from user id: 215116682, posted on: 1546335766, sex - F\n"
     ]
    },
    {
     "name": "stderr",
     "output_type": "stream",
     "text": [
      "  0%|          | 157/73624 [04:04<11:32:12,  1.77it/s]"
     ]
    },
    {
     "name": "stdout",
     "output_type": "stream",
     "text": [
      "Sending a post from user id: 7868277, posted on: 1546335786, sex - M\n"
     ]
    },
    {
     "name": "stderr",
     "output_type": "stream",
     "text": [
      "  0%|          | 158/73624 [04:04<9:40:58,  2.11it/s] "
     ]
    },
    {
     "name": "stdout",
     "output_type": "stream",
     "text": [
      "Sending a post from user id: 37127521, posted on: 1546335839, sex - M\n"
     ]
    },
    {
     "name": "stderr",
     "output_type": "stream",
     "text": [
      "  0%|          | 159/73624 [04:05<8:15:07,  2.47it/s]"
     ]
    },
    {
     "name": "stdout",
     "output_type": "stream",
     "text": [
      "Sending a post from user id: 174291546, posted on: 1546336286, sex - F\n"
     ]
    },
    {
     "name": "stderr",
     "output_type": "stream",
     "text": [
      "  0%|          | 160/73624 [04:06<11:39:12,  1.75it/s]"
     ]
    },
    {
     "name": "stdout",
     "output_type": "stream",
     "text": [
      "Sending a post from user id: 24974434, posted on: 1546336315, sex - M\n"
     ]
    },
    {
     "name": "stderr",
     "output_type": "stream",
     "text": [
      "  0%|          | 161/73624 [04:06<12:04:02,  1.69it/s]"
     ]
    },
    {
     "name": "stdout",
     "output_type": "stream",
     "text": [
      "Sending a post from user id: 357231922, posted on: 1546336346, sex - F\n"
     ]
    },
    {
     "name": "stderr",
     "output_type": "stream",
     "text": [
      "  0%|          | 162/73624 [04:07<11:11:32,  1.82it/s]"
     ]
    },
    {
     "name": "stdout",
     "output_type": "stream",
     "text": [
      "Sending a post from user id: 366406819, posted on: 1546336477, sex - F\n"
     ]
    },
    {
     "name": "stderr",
     "output_type": "stream",
     "text": [
      "  0%|          | 163/73624 [04:07<11:27:54,  1.78it/s]"
     ]
    },
    {
     "name": "stdout",
     "output_type": "stream",
     "text": [
      "Sending a post from user id: 141687240, posted on: 1546336485, sex - M\n"
     ]
    },
    {
     "name": "stderr",
     "output_type": "stream",
     "text": [
      "  0%|          | 164/73624 [04:08<13:15:36,  1.54it/s]"
     ]
    },
    {
     "name": "stdout",
     "output_type": "stream",
     "text": [
      "Sending a post from user id: 333676050, posted on: 1546336685, sex - M\n"
     ]
    },
    {
     "name": "stderr",
     "output_type": "stream",
     "text": [
      "  0%|          | 165/73624 [04:09<14:40:15,  1.39it/s]"
     ]
    },
    {
     "name": "stdout",
     "output_type": "stream",
     "text": [
      "Sending a post from user id: 357231922, posted on: 1546336750, sex - F\n"
     ]
    },
    {
     "name": "stderr",
     "output_type": "stream",
     "text": [
      "  0%|          | 166/73624 [04:10<16:59:43,  1.20it/s]"
     ]
    },
    {
     "name": "stdout",
     "output_type": "stream",
     "text": [
      "Sending a post from user id: 255396611, posted on: 1546336802, sex - F\n"
     ]
    },
    {
     "name": "stderr",
     "output_type": "stream",
     "text": [
      "  0%|          | 167/73624 [04:11<14:41:30,  1.39it/s]"
     ]
    },
    {
     "name": "stdout",
     "output_type": "stream",
     "text": [
      "Sending a post from user id: 357231922, posted on: 1546336992, sex - F\n"
     ]
    },
    {
     "name": "stderr",
     "output_type": "stream",
     "text": [
      "  0%|          | 169/73624 [04:12<11:45:22,  1.74it/s]"
     ]
    },
    {
     "name": "stdout",
     "output_type": "stream",
     "text": [
      "Sending a post from user id: 357231922, posted on: 1546337022, sex - F\n",
      "Sending a post from user id: 357231922, posted on: 1546337046, sex - F\n",
      "Sending a post from user id: 357231922, posted on: 1546337068, sex - F\n"
     ]
    },
    {
     "name": "stderr",
     "output_type": "stream",
     "text": [
      "  0%|          | 171/73624 [04:12<7:53:56,  2.58it/s] "
     ]
    },
    {
     "name": "stdout",
     "output_type": "stream",
     "text": [
      "Sending a post from user id: 357231922, posted on: 1546337285, sex - F\n"
     ]
    },
    {
     "name": "stderr",
     "output_type": "stream",
     "text": [
      "  0%|          | 172/73624 [04:13<9:56:19,  2.05it/s]"
     ]
    },
    {
     "name": "stdout",
     "output_type": "stream",
     "text": [
      "Sending a post from user id: 357231922, posted on: 1546337319, sex - F\n"
     ]
    },
    {
     "name": "stderr",
     "output_type": "stream",
     "text": [
      "  0%|          | 173/73624 [04:14<11:26:53,  1.78it/s]"
     ]
    },
    {
     "name": "stdout",
     "output_type": "stream",
     "text": [
      "Sending a post from user id: 357231922, posted on: 1546337344, sex - F\n"
     ]
    },
    {
     "name": "stderr",
     "output_type": "stream",
     "text": [
      "  0%|          | 174/73624 [04:14<12:16:35,  1.66it/s]"
     ]
    },
    {
     "name": "stdout",
     "output_type": "stream",
     "text": [
      "Sending a post from user id: 357231922, posted on: 1546337366, sex - F\n"
     ]
    },
    {
     "name": "stderr",
     "output_type": "stream",
     "text": [
      "  0%|          | 175/73624 [04:14<10:02:59,  2.03it/s]"
     ]
    },
    {
     "name": "stdout",
     "output_type": "stream",
     "text": [
      "Sending a post from user id: 184760388, posted on: 1546337370, sex - M\n",
      "Sending a post from user id: 357231922, posted on: 1546337608, sex - F\n"
     ]
    },
    {
     "name": "stderr",
     "output_type": "stream",
     "text": [
      "  0%|          | 177/73624 [04:15<10:03:06,  2.03it/s]"
     ]
    },
    {
     "name": "stdout",
     "output_type": "stream",
     "text": [
      "Sending a post from user id: 357231922, posted on: 1546337637, sex - F\n",
      "Sending a post from user id: 144953101, posted on: 1546337741, sex - F\n"
     ]
    },
    {
     "name": "stderr",
     "output_type": "stream",
     "text": [
      "  0%|          | 179/73624 [04:16<8:10:53,  2.49it/s] "
     ]
    },
    {
     "name": "stdout",
     "output_type": "stream",
     "text": [
      "Sending a post from user id: 445159771, posted on: 1546337742, sex - F\n"
     ]
    },
    {
     "name": "stderr",
     "output_type": "stream",
     "text": [
      "  0%|          | 181/73624 [04:17<8:28:24,  2.41it/s]"
     ]
    },
    {
     "name": "stdout",
     "output_type": "stream",
     "text": [
      "Sending a post from user id: 357231922, posted on: 1546337746, sex - F\n",
      "Sending a post from user id: 357231922, posted on: 1546337787, sex - F\n"
     ]
    },
    {
     "name": "stderr",
     "output_type": "stream",
     "text": [
      "  0%|          | 182/73624 [04:18<10:39:24,  1.91it/s]"
     ]
    },
    {
     "name": "stdout",
     "output_type": "stream",
     "text": [
      "Sending a post from user id: 357231922, posted on: 1546337813, sex - F\n"
     ]
    },
    {
     "name": "stderr",
     "output_type": "stream",
     "text": [
      "  0%|          | 183/73624 [04:18<9:18:35,  2.19it/s] "
     ]
    },
    {
     "name": "stdout",
     "output_type": "stream",
     "text": [
      "Sending a post from user id: 357231922, posted on: 1546337835, sex - F\n"
     ]
    },
    {
     "name": "stderr",
     "output_type": "stream",
     "text": [
      "  0%|          | 184/73624 [04:18<8:27:15,  2.41it/s]"
     ]
    },
    {
     "name": "stdout",
     "output_type": "stream",
     "text": [
      "Sending a post from user id: 357231922, posted on: 1546337865, sex - F\n"
     ]
    },
    {
     "name": "stderr",
     "output_type": "stream",
     "text": [
      "  0%|          | 185/73624 [04:19<7:59:15,  2.55it/s]"
     ]
    },
    {
     "name": "stdout",
     "output_type": "stream",
     "text": [
      "Sending a post from user id: 357231922, posted on: 1546337887, sex - F\n"
     ]
    },
    {
     "name": "stderr",
     "output_type": "stream",
     "text": [
      "  0%|          | 186/73624 [04:20<10:49:34,  1.88it/s]"
     ]
    },
    {
     "name": "stdout",
     "output_type": "stream",
     "text": [
      "Sending a post from user id: 357231922, posted on: 1546337913, sex - F\n"
     ]
    },
    {
     "name": "stderr",
     "output_type": "stream",
     "text": [
      "  0%|          | 187/73624 [04:20<12:18:31,  1.66it/s]"
     ]
    },
    {
     "name": "stdout",
     "output_type": "stream",
     "text": [
      "Sending a post from user id: 357231922, posted on: 1546337943, sex - F\n"
     ]
    },
    {
     "name": "stderr",
     "output_type": "stream",
     "text": [
      "  0%|          | 188/73624 [04:21<11:08:49,  1.83it/s]"
     ]
    },
    {
     "name": "stdout",
     "output_type": "stream",
     "text": [
      "Sending a post from user id: 357231922, posted on: 1546337972, sex - F\n"
     ]
    },
    {
     "name": "stderr",
     "output_type": "stream",
     "text": [
      "  0%|          | 190/73624 [04:22<10:40:45,  1.91it/s]"
     ]
    },
    {
     "name": "stdout",
     "output_type": "stream",
     "text": [
      "Sending a post from user id: 357231922, posted on: 1546338141, sex - F\n",
      "Sending a post from user id: 8631697, posted on: 1546338142, sex - F\n"
     ]
    },
    {
     "name": "stderr",
     "output_type": "stream",
     "text": [
      "  0%|          | 191/73624 [04:22<11:17:36,  1.81it/s]"
     ]
    },
    {
     "name": "stdout",
     "output_type": "stream",
     "text": [
      "Sending a post from user id: 6842801, posted on: 1546338191, sex - F\n"
     ]
    },
    {
     "name": "stderr",
     "output_type": "stream",
     "text": [
      "  0%|          | 194/73624 [04:23<7:11:33,  2.84it/s] "
     ]
    },
    {
     "name": "stdout",
     "output_type": "stream",
     "text": [
      "Sending a post from user id: 357231922, posted on: 1546338234, sex - F\n",
      "Sending a post from user id: 1077823, posted on: 1546338244, sex - F\n",
      "Sending a post from user id: 2747960, posted on: 1546338277, sex - F\n"
     ]
    },
    {
     "name": "stderr",
     "output_type": "stream",
     "text": [
      "  0%|          | 195/73624 [04:23<6:23:54,  3.19it/s]"
     ]
    },
    {
     "name": "stdout",
     "output_type": "stream",
     "text": [
      "Sending a post from user id: 357231922, posted on: 1546338426, sex - F\n"
     ]
    },
    {
     "name": "stderr",
     "output_type": "stream",
     "text": [
      "  0%|          | 196/73624 [04:24<6:50:35,  2.98it/s]"
     ]
    },
    {
     "name": "stdout",
     "output_type": "stream",
     "text": [
      "Sending a post from user id: 3539737, posted on: 1546338571, sex - M\n"
     ]
    },
    {
     "name": "stderr",
     "output_type": "stream",
     "text": [
      "  0%|          | 197/73624 [04:24<8:24:30,  2.43it/s]"
     ]
    },
    {
     "name": "stdout",
     "output_type": "stream",
     "text": [
      "Sending a post from user id: 357710591, posted on: 1546338596, sex - M\n"
     ]
    },
    {
     "name": "stderr",
     "output_type": "stream",
     "text": [
      "  0%|          | 198/73624 [04:25<10:56:18,  1.86it/s]"
     ]
    },
    {
     "name": "stdout",
     "output_type": "stream",
     "text": [
      "Sending a post from user id: 357231922, posted on: 1546338643, sex - F\n"
     ]
    },
    {
     "name": "stderr",
     "output_type": "stream",
     "text": [
      "  0%|          | 199/73624 [04:26<13:06:38,  1.56it/s]"
     ]
    },
    {
     "name": "stdout",
     "output_type": "stream",
     "text": [
      "Sending a post from user id: 357231922, posted on: 1546338677, sex - F\n"
     ]
    },
    {
     "name": "stderr",
     "output_type": "stream",
     "text": [
      "  0%|          | 200/73624 [04:27<13:04:39,  1.56it/s]"
     ]
    },
    {
     "name": "stdout",
     "output_type": "stream",
     "text": [
      "Sending a post from user id: 357231922, posted on: 1546338874, sex - F\n"
     ]
    },
    {
     "name": "stderr",
     "output_type": "stream",
     "text": [
      "  0%|          | 201/73624 [04:28<15:02:35,  1.36it/s]"
     ]
    },
    {
     "name": "stdout",
     "output_type": "stream",
     "text": [
      "Sending a post from user id: 43317026, posted on: 1546338882, sex - F\n"
     ]
    },
    {
     "name": "stderr",
     "output_type": "stream",
     "text": [
      "  0%|          | 202/73624 [04:28<13:04:54,  1.56it/s]"
     ]
    },
    {
     "name": "stdout",
     "output_type": "stream",
     "text": [
      "Sending a post from user id: 1098272, posted on: 1546338955, sex - F\n"
     ]
    },
    {
     "name": "stderr",
     "output_type": "stream",
     "text": [
      "  0%|          | 203/73624 [04:29<11:45:27,  1.73it/s]"
     ]
    },
    {
     "name": "stdout",
     "output_type": "stream",
     "text": [
      "Sending a post from user id: 168902320, posted on: 1546339007, sex - M\n"
     ]
    },
    {
     "name": "stderr",
     "output_type": "stream",
     "text": [
      "  0%|          | 205/73624 [04:30<9:34:40,  2.13it/s] "
     ]
    },
    {
     "name": "stdout",
     "output_type": "stream",
     "text": [
      "Sending a post from user id: 242739930, posted on: 1546339173, sex - F\n",
      "Sending a post from user id: 357231922, posted on: 1546339227, sex - F\n",
      "Sending a post from user id: 2749048, posted on: 1546339354, sex - M\n"
     ]
    },
    {
     "name": "stderr",
     "output_type": "stream",
     "text": [
      "  0%|          | 207/73624 [04:30<8:20:12,  2.45it/s]"
     ]
    },
    {
     "name": "stdout",
     "output_type": "stream",
     "text": [
      "Sending a post from user id: 447900900, posted on: 1546339357, sex - F\n"
     ]
    },
    {
     "name": "stderr",
     "output_type": "stream",
     "text": [
      "  0%|          | 208/73624 [04:31<9:41:54,  2.10it/s]"
     ]
    },
    {
     "name": "stdout",
     "output_type": "stream",
     "text": [
      "Sending a post from user id: 351361589, posted on: 1546339877, sex - F\n"
     ]
    },
    {
     "name": "stderr",
     "output_type": "stream",
     "text": [
      "  0%|          | 209/73624 [04:32<11:45:43,  1.73it/s]"
     ]
    },
    {
     "name": "stdout",
     "output_type": "stream",
     "text": [
      "Sending a post from user id: 7233335, posted on: 1546340038, sex - F\n"
     ]
    },
    {
     "name": "stderr",
     "output_type": "stream",
     "text": [
      "  0%|          | 210/73624 [04:32<9:53:07,  2.06it/s] "
     ]
    },
    {
     "name": "stdout",
     "output_type": "stream",
     "text": [
      "Sending a post from user id: 643932, posted on: 1546340322, sex - M\n"
     ]
    },
    {
     "name": "stderr",
     "output_type": "stream",
     "text": [
      "  0%|          | 211/73624 [04:33<12:36:44,  1.62it/s]"
     ]
    },
    {
     "name": "stdout",
     "output_type": "stream",
     "text": [
      "Sending a post from user id: 229512, posted on: 1546340331, sex - F\n"
     ]
    },
    {
     "name": "stderr",
     "output_type": "stream",
     "text": [
      "  0%|          | 212/73624 [04:34<12:27:09,  1.64it/s]"
     ]
    },
    {
     "name": "stdout",
     "output_type": "stream",
     "text": [
      "Sending a post from user id: 456496724, posted on: 1546341021, sex - M\n"
     ]
    },
    {
     "name": "stderr",
     "output_type": "stream",
     "text": [
      "  0%|          | 213/73624 [04:34<11:23:28,  1.79it/s]"
     ]
    },
    {
     "name": "stdout",
     "output_type": "stream",
     "text": [
      "Sending a post from user id: 389924, posted on: 1546341396, sex - F\n"
     ]
    },
    {
     "name": "stderr",
     "output_type": "stream",
     "text": [
      "  0%|          | 214/73624 [04:35<12:04:26,  1.69it/s]"
     ]
    },
    {
     "name": "stdout",
     "output_type": "stream",
     "text": [
      "Sending a post from user id: 389924, posted on: 1546341651, sex - F\n",
      "Sending a post from user id: 187406883, posted on: 1546341722, sex - M\n",
      "Sending a post from user id: 8631697, posted on: 1546341786, sex - F\n"
     ]
    },
    {
     "name": "stderr",
     "output_type": "stream",
     "text": [
      "  0%|          | 217/73624 [04:35<7:05:09,  2.88it/s] "
     ]
    },
    {
     "name": "stdout",
     "output_type": "stream",
     "text": [
      "Sending a post from user id: 33487, posted on: 1546342005, sex - F\n"
     ]
    },
    {
     "name": "stderr",
     "output_type": "stream",
     "text": [
      "  0%|          | 218/73624 [04:36<8:22:39,  2.43it/s]"
     ]
    },
    {
     "name": "stdout",
     "output_type": "stream",
     "text": [
      "Sending a post from user id: 134047366, posted on: 1546342368, sex - F\n"
     ]
    },
    {
     "name": "stderr",
     "output_type": "stream",
     "text": [
      "  0%|          | 219/73624 [04:36<8:42:54,  2.34it/s]"
     ]
    },
    {
     "name": "stdout",
     "output_type": "stream",
     "text": [
      "Sending a post from user id: 98258393, posted on: 1546342952, sex - M\n"
     ]
    },
    {
     "name": "stderr",
     "output_type": "stream",
     "text": [
      "  0%|          | 220/73624 [04:37<10:37:37,  1.92it/s]"
     ]
    },
    {
     "name": "stdout",
     "output_type": "stream",
     "text": [
      "Sending a post from user id: 1754600, posted on: 1546343038, sex - F\n"
     ]
    },
    {
     "name": "stderr",
     "output_type": "stream",
     "text": [
      "  0%|          | 221/73624 [04:38<10:39:03,  1.91it/s]"
     ]
    },
    {
     "name": "stdout",
     "output_type": "stream",
     "text": [
      "Sending a post from user id: 255396611, posted on: 1546343293, sex - F\n"
     ]
    },
    {
     "name": "stderr",
     "output_type": "stream",
     "text": [
      "  0%|          | 223/73624 [04:39<9:52:07,  2.07it/s] "
     ]
    },
    {
     "name": "stdout",
     "output_type": "stream",
     "text": [
      "Sending a post from user id: 1077823, posted on: 1546343733, sex - F\n",
      "Sending a post from user id: 1502968, posted on: 1546344129, sex - M\n",
      "Sending a post from user id: 443488, posted on: 1546344186, sex - M\n"
     ]
    },
    {
     "name": "stderr",
     "output_type": "stream",
     "text": [
      "  0%|          | 225/73624 [04:39<7:39:23,  2.66it/s]"
     ]
    },
    {
     "name": "stdout",
     "output_type": "stream",
     "text": [
      "Sending a post from user id: 121780041, posted on: 1546344597, sex - F\n"
     ]
    },
    {
     "name": "stderr",
     "output_type": "stream",
     "text": [
      "  0%|          | 226/73624 [04:39<7:45:37,  2.63it/s]"
     ]
    },
    {
     "name": "stdout",
     "output_type": "stream",
     "text": [
      "Sending a post from user id: 212333463, posted on: 1546344600, sex - M\n"
     ]
    },
    {
     "name": "stderr",
     "output_type": "stream",
     "text": [
      "  0%|          | 227/73624 [04:40<8:09:16,  2.50it/s]"
     ]
    },
    {
     "name": "stdout",
     "output_type": "stream",
     "text": [
      "Sending a post from user id: 174291546, posted on: 1546344869, sex - F\n"
     ]
    },
    {
     "name": "stderr",
     "output_type": "stream",
     "text": [
      "  0%|          | 228/73624 [04:40<8:28:40,  2.40it/s]"
     ]
    },
    {
     "name": "stdout",
     "output_type": "stream",
     "text": [
      "Sending a post from user id: 174291546, posted on: 1546345078, sex - F\n"
     ]
    },
    {
     "name": "stderr",
     "output_type": "stream",
     "text": [
      "  0%|          | 229/73624 [04:41<11:35:03,  1.76it/s]"
     ]
    },
    {
     "name": "stdout",
     "output_type": "stream",
     "text": [
      "Sending a post from user id: 149250711, posted on: 1546345299, sex - M\n"
     ]
    },
    {
     "name": "stderr",
     "output_type": "stream",
     "text": [
      "  0%|          | 230/73624 [04:42<11:24:25,  1.79it/s]"
     ]
    },
    {
     "name": "stdout",
     "output_type": "stream",
     "text": [
      "Sending a post from user id: 1032699, posted on: 1546345544, sex - M\n"
     ]
    },
    {
     "name": "stderr",
     "output_type": "stream",
     "text": [
      "  0%|          | 231/73624 [04:43<13:15:48,  1.54it/s]"
     ]
    },
    {
     "name": "stdout",
     "output_type": "stream",
     "text": [
      "Sending a post from user id: 462653629, posted on: 1546345579, sex - F\n"
     ]
    },
    {
     "name": "stderr",
     "output_type": "stream",
     "text": [
      "  0%|          | 232/73624 [04:44<14:57:46,  1.36it/s]"
     ]
    },
    {
     "name": "stdout",
     "output_type": "stream",
     "text": [
      "Sending a post from user id: 276887938, posted on: 1546345881, sex - F\n"
     ]
    },
    {
     "name": "stderr",
     "output_type": "stream",
     "text": [
      "  0%|          | 233/73624 [04:44<14:57:23,  1.36it/s]"
     ]
    },
    {
     "name": "stdout",
     "output_type": "stream",
     "text": [
      "Sending a post from user id: 1469770, posted on: 1546346000, sex - F\n"
     ]
    },
    {
     "name": "stderr",
     "output_type": "stream",
     "text": [
      "  0%|          | 234/73624 [04:45<13:20:30,  1.53it/s]"
     ]
    },
    {
     "name": "stdout",
     "output_type": "stream",
     "text": [
      "Sending a post from user id: 33670350, posted on: 1546346344, sex - M\n",
      "Sending a post from user id: 89342043, posted on: 1546346770, sex - M\n"
     ]
    },
    {
     "name": "stderr",
     "output_type": "stream",
     "text": [
      "  0%|          | 236/73624 [04:46<10:44:45,  1.90it/s]"
     ]
    },
    {
     "name": "stdout",
     "output_type": "stream",
     "text": [
      "Sending a post from user id: 4861499, posted on: 1546346837, sex - M\n"
     ]
    },
    {
     "name": "stderr",
     "output_type": "stream",
     "text": [
      "  0%|          | 237/73624 [04:46<12:06:19,  1.68it/s]"
     ]
    },
    {
     "name": "stdout",
     "output_type": "stream",
     "text": [
      "Sending a post from user id: 377117821, posted on: 1546346999, sex - M\n"
     ]
    },
    {
     "name": "stderr",
     "output_type": "stream",
     "text": [
      "  0%|          | 238/73624 [04:47<11:32:03,  1.77it/s]"
     ]
    },
    {
     "name": "stdout",
     "output_type": "stream",
     "text": [
      "Sending a post from user id: 373190294, posted on: 1546347478, sex - M\n"
     ]
    },
    {
     "name": "stderr",
     "output_type": "stream",
     "text": [
      "  0%|          | 239/73624 [04:47<9:55:09,  2.06it/s] "
     ]
    },
    {
     "name": "stdout",
     "output_type": "stream",
     "text": [
      "Sending a post from user id: 813732, posted on: 1546347639, sex - F\n"
     ]
    },
    {
     "name": "stderr",
     "output_type": "stream",
     "text": [
      "  0%|          | 240/73624 [04:48<8:59:54,  2.27it/s]"
     ]
    },
    {
     "name": "stdout",
     "output_type": "stream",
     "text": [
      "Sending a post from user id: 37406038, posted on: 1546349266, sex - M\n"
     ]
    },
    {
     "name": "stderr",
     "output_type": "stream",
     "text": [
      "  0%|          | 241/73624 [04:48<11:09:03,  1.83it/s]"
     ]
    },
    {
     "name": "stdout",
     "output_type": "stream",
     "text": [
      "Sending a post from user id: 190636098, posted on: 1546349426, sex - F\n"
     ]
    },
    {
     "name": "stderr",
     "output_type": "stream",
     "text": [
      "  0%|          | 242/73624 [04:49<10:11:07,  2.00it/s]"
     ]
    },
    {
     "name": "stdout",
     "output_type": "stream",
     "text": [
      "Sending a post from user id: 8631697, posted on: 1546349671, sex - F\n"
     ]
    },
    {
     "name": "stderr",
     "output_type": "stream",
     "text": [
      "  0%|          | 243/73624 [04:49<11:06:39,  1.83it/s]"
     ]
    },
    {
     "name": "stdout",
     "output_type": "stream",
     "text": [
      "Sending a post from user id: 846546, posted on: 1546349751, sex - F\n"
     ]
    },
    {
     "name": "stderr",
     "output_type": "stream",
     "text": [
      "  0%|          | 244/73624 [04:50<13:13:09,  1.54it/s]"
     ]
    },
    {
     "name": "stdout",
     "output_type": "stream",
     "text": [
      "Sending a post from user id: 464324936, posted on: 1546349791, sex - M\n"
     ]
    },
    {
     "name": "stderr",
     "output_type": "stream",
     "text": [
      "  0%|          | 245/73624 [04:50<10:31:53,  1.94it/s]"
     ]
    },
    {
     "name": "stdout",
     "output_type": "stream",
     "text": [
      "Sending a post from user id: 194073434, posted on: 1546349988, sex - M\n"
     ]
    },
    {
     "name": "stderr",
     "output_type": "stream",
     "text": [
      "  0%|          | 246/73624 [04:51<9:16:35,  2.20it/s] "
     ]
    },
    {
     "name": "stdout",
     "output_type": "stream",
     "text": [
      "Sending a post from user id: 92347407, posted on: 1546350437, sex - F\n"
     ]
    },
    {
     "name": "stderr",
     "output_type": "stream",
     "text": [
      "  0%|          | 247/73624 [04:51<9:12:21,  2.21it/s]"
     ]
    },
    {
     "name": "stdout",
     "output_type": "stream",
     "text": [
      "Sending a post from user id: 212791, posted on: 1546350562, sex - F\n"
     ]
    },
    {
     "name": "stderr",
     "output_type": "stream",
     "text": [
      "  0%|          | 248/73624 [04:52<8:17:31,  2.46it/s]"
     ]
    },
    {
     "name": "stdout",
     "output_type": "stream",
     "text": [
      "Sending a post from user id: 464324936, posted on: 1546350757, sex - M\n"
     ]
    },
    {
     "name": "stderr",
     "output_type": "stream",
     "text": [
      "  0%|          | 249/73624 [04:52<7:56:19,  2.57it/s]"
     ]
    },
    {
     "name": "stdout",
     "output_type": "stream",
     "text": [
      "Sending a post from user id: 22443699, posted on: 1546350758, sex - F\n"
     ]
    },
    {
     "name": "stderr",
     "output_type": "stream",
     "text": [
      "  0%|          | 250/73624 [04:53<10:03:46,  2.03it/s]"
     ]
    },
    {
     "name": "stdout",
     "output_type": "stream",
     "text": [
      "Sending a post from user id: 1469770, posted on: 1546350814, sex - F\n"
     ]
    },
    {
     "name": "stderr",
     "output_type": "stream",
     "text": [
      "  0%|          | 251/73624 [04:53<8:40:59,  2.35it/s] "
     ]
    },
    {
     "name": "stdout",
     "output_type": "stream",
     "text": [
      "Sending a post from user id: 7330262, posted on: 1546351092, sex - M\n"
     ]
    },
    {
     "name": "stderr",
     "output_type": "stream",
     "text": [
      "  0%|          | 253/73624 [04:53<6:25:49,  3.17it/s]"
     ]
    },
    {
     "name": "stdout",
     "output_type": "stream",
     "text": [
      "Sending a post from user id: 135912826, posted on: 1546351572, sex - M\n",
      "Sending a post from user id: 815491, posted on: 1546351905, sex - F\n"
     ]
    },
    {
     "name": "stderr",
     "output_type": "stream",
     "text": [
      "  0%|          | 254/73624 [04:54<10:07:19,  2.01it/s]"
     ]
    },
    {
     "name": "stdout",
     "output_type": "stream",
     "text": [
      "Sending a post from user id: 241483675, posted on: 1546352154, sex - M\n"
     ]
    },
    {
     "name": "stderr",
     "output_type": "stream",
     "text": [
      "  0%|          | 255/73624 [04:55<10:19:06,  1.98it/s]"
     ]
    },
    {
     "name": "stdout",
     "output_type": "stream",
     "text": [
      "Sending a post from user id: 11398225, posted on: 1546352416, sex - M\n"
     ]
    },
    {
     "name": "stderr",
     "output_type": "stream",
     "text": [
      "  0%|          | 256/73624 [04:56<12:14:41,  1.66it/s]"
     ]
    },
    {
     "name": "stdout",
     "output_type": "stream",
     "text": [
      "Sending a post from user id: 14832986, posted on: 1546352753, sex - M\n",
      "Sending a post from user id: 223748369, posted on: 1546353260, sex - M\n"
     ]
    },
    {
     "name": "stderr",
     "output_type": "stream",
     "text": [
      "  0%|          | 258/73624 [04:56<8:34:46,  2.38it/s] "
     ]
    },
    {
     "name": "stdout",
     "output_type": "stream",
     "text": [
      "Sending a post from user id: 8909, posted on: 1546353366, sex - F\n"
     ]
    },
    {
     "name": "stderr",
     "output_type": "stream",
     "text": [
      "  0%|          | 259/73624 [04:57<10:47:58,  1.89it/s]"
     ]
    },
    {
     "name": "stdout",
     "output_type": "stream",
     "text": [
      "Sending a post from user id: 141687240, posted on: 1546353498, sex - M\n",
      "Sending a post from user id: 8694246, posted on: 1546353600, sex - F\n"
     ]
    },
    {
     "name": "stderr",
     "output_type": "stream",
     "text": [
      "  0%|          | 261/73624 [04:57<7:57:24,  2.56it/s] "
     ]
    },
    {
     "name": "stdout",
     "output_type": "stream",
     "text": [
      "Sending a post from user id: 464166807, posted on: 1546353739, sex - F\n"
     ]
    },
    {
     "name": "stderr",
     "output_type": "stream",
     "text": [
      "  0%|          | 262/73624 [04:57<7:08:44,  2.85it/s]"
     ]
    },
    {
     "name": "stdout",
     "output_type": "stream",
     "text": [
      "Sending a post from user id: 212791, posted on: 1546354567, sex - F\n"
     ]
    },
    {
     "name": "stderr",
     "output_type": "stream",
     "text": [
      "  0%|          | 263/73624 [04:58<8:35:19,  2.37it/s]"
     ]
    },
    {
     "name": "stdout",
     "output_type": "stream",
     "text": [
      "Sending a post from user id: 192050, posted on: 1546354811, sex - F\n"
     ]
    },
    {
     "name": "stderr",
     "output_type": "stream",
     "text": [
      "  0%|          | 264/73624 [04:59<10:55:44,  1.86it/s]"
     ]
    },
    {
     "name": "stdout",
     "output_type": "stream",
     "text": [
      "Sending a post from user id: 357674986, posted on: 1546354892, sex - F\n"
     ]
    },
    {
     "name": "stderr",
     "output_type": "stream",
     "text": [
      "  0%|          | 265/73624 [04:59<10:44:04,  1.90it/s]"
     ]
    },
    {
     "name": "stdout",
     "output_type": "stream",
     "text": [
      "Sending a post from user id: 363497, posted on: 1546355068, sex - F\n"
     ]
    },
    {
     "name": "stderr",
     "output_type": "stream",
     "text": [
      "  0%|          | 267/73624 [05:00<8:15:36,  2.47it/s] "
     ]
    },
    {
     "name": "stdout",
     "output_type": "stream",
     "text": [
      "Sending a post from user id: 59858857, posted on: 1546356143, sex - F\n",
      "Sending a post from user id: 141687240, posted on: 1546356229, sex - M\n"
     ]
    },
    {
     "name": "stderr",
     "output_type": "stream",
     "text": [
      "  0%|          | 268/73624 [05:01<10:09:05,  2.01it/s]"
     ]
    },
    {
     "name": "stdout",
     "output_type": "stream",
     "text": [
      "Sending a post from user id: 280454964, posted on: 1546356356, sex - M\n"
     ]
    },
    {
     "name": "stderr",
     "output_type": "stream",
     "text": [
      "  0%|          | 269/73624 [05:02<11:29:37,  1.77it/s]"
     ]
    },
    {
     "name": "stdout",
     "output_type": "stream",
     "text": [
      "Sending a post from user id: 18532621, posted on: 1546356584, sex - M\n"
     ]
    },
    {
     "name": "stderr",
     "output_type": "stream",
     "text": [
      "  0%|          | 271/73624 [05:02<8:02:58,  2.53it/s] "
     ]
    },
    {
     "name": "stdout",
     "output_type": "stream",
     "text": [
      "Sending a post from user id: 14332953, posted on: 1546356596, sex - M\n",
      "Sending a post from user id: 134240072, posted on: 1546356597, sex - M\n"
     ]
    },
    {
     "name": "stderr",
     "output_type": "stream",
     "text": [
      "  0%|          | 272/73624 [05:03<9:07:12,  2.23it/s]"
     ]
    },
    {
     "name": "stdout",
     "output_type": "stream",
     "text": [
      "Sending a post from user id: 134240072, posted on: 1546357133, sex - M\n"
     ]
    },
    {
     "name": "stderr",
     "output_type": "stream",
     "text": [
      "  0%|          | 274/73624 [05:03<7:47:04,  2.62it/s]"
     ]
    },
    {
     "name": "stdout",
     "output_type": "stream",
     "text": [
      "Sending a post from user id: 146625168, posted on: 1546357436, sex - F\n",
      "Sending a post from user id: 418774955, posted on: 1546357597, sex - F\n"
     ]
    },
    {
     "name": "stderr",
     "output_type": "stream",
     "text": [
      "  0%|          | 275/73624 [05:04<9:22:40,  2.17it/s]"
     ]
    },
    {
     "name": "stdout",
     "output_type": "stream",
     "text": [
      "Sending a post from user id: 28480, posted on: 1546358511, sex - F\n"
     ]
    },
    {
     "name": "stderr",
     "output_type": "stream",
     "text": [
      "  0%|          | 276/73624 [05:05<11:09:26,  1.83it/s]"
     ]
    },
    {
     "name": "stdout",
     "output_type": "stream",
     "text": [
      "Sending a post from user id: 15692620, posted on: 1546358518, sex - M\n"
     ]
    },
    {
     "name": "stderr",
     "output_type": "stream",
     "text": [
      "  0%|          | 277/73624 [05:06<12:49:28,  1.59it/s]"
     ]
    },
    {
     "name": "stdout",
     "output_type": "stream",
     "text": [
      "Sending a post from user id: 53517979, posted on: 1546358851, sex - M\n"
     ]
    },
    {
     "name": "stderr",
     "output_type": "stream",
     "text": [
      "  0%|          | 278/73624 [05:06<13:11:45,  1.54it/s]"
     ]
    },
    {
     "name": "stdout",
     "output_type": "stream",
     "text": [
      "Sending a post from user id: 453108317, posted on: 1546359207, sex - F\n"
     ]
    },
    {
     "name": "stderr",
     "output_type": "stream",
     "text": [
      "  0%|          | 279/73624 [05:07<12:12:01,  1.67it/s]"
     ]
    },
    {
     "name": "stdout",
     "output_type": "stream",
     "text": [
      "Sending a post from user id: 453108317, posted on: 1546359546, sex - F\n"
     ]
    },
    {
     "name": "stderr",
     "output_type": "stream",
     "text": [
      "  0%|          | 280/73624 [05:07<10:45:36,  1.89it/s]"
     ]
    },
    {
     "name": "stdout",
     "output_type": "stream",
     "text": [
      "Sending a post from user id: 16861388, posted on: 1546359722, sex - M\n"
     ]
    },
    {
     "name": "stderr",
     "output_type": "stream",
     "text": [
      "  0%|          | 281/73624 [05:08<10:33:06,  1.93it/s]"
     ]
    },
    {
     "name": "stdout",
     "output_type": "stream",
     "text": [
      "Sending a post from user id: 10759206, posted on: 1546361116, sex - F\n"
     ]
    },
    {
     "name": "stderr",
     "output_type": "stream",
     "text": [
      "  0%|          | 282/73624 [05:08<12:48:09,  1.59it/s]"
     ]
    },
    {
     "name": "stdout",
     "output_type": "stream",
     "text": [
      "Sending a post from user id: 19567694, posted on: 1546361214, sex - M\n"
     ]
    },
    {
     "name": "stderr",
     "output_type": "stream",
     "text": [
      "  0%|          | 283/73624 [05:09<11:06:40,  1.83it/s]"
     ]
    },
    {
     "name": "stdout",
     "output_type": "stream",
     "text": [
      "Sending a post from user id: 328838221, posted on: 1546361527, sex - M\n",
      "Sending a post from user id: 56323441, posted on: 1546361527, sex - M\n"
     ]
    },
    {
     "name": "stderr",
     "output_type": "stream",
     "text": [
      "  0%|          | 285/73624 [05:10<9:16:08,  2.20it/s] "
     ]
    },
    {
     "name": "stdout",
     "output_type": "stream",
     "text": [
      "Sending a post from user id: 432963388, posted on: 1546361631, sex - F\n",
      "Sending a post from user id: 33670350, posted on: 1546361949, sex - M\n"
     ]
    },
    {
     "name": "stderr",
     "output_type": "stream",
     "text": [
      "  0%|          | 288/73624 [05:10<7:34:33,  2.69it/s]"
     ]
    },
    {
     "name": "stdout",
     "output_type": "stream",
     "text": [
      "Sending a post from user id: 593876, posted on: 1546361981, sex - M\n",
      "Sending a post from user id: 357710591, posted on: 1546362167, sex - M\n"
     ]
    },
    {
     "name": "stderr",
     "output_type": "stream",
     "text": [
      "  0%|          | 289/73624 [05:11<9:29:59,  2.14it/s]"
     ]
    },
    {
     "name": "stdout",
     "output_type": "stream",
     "text": [
      "Sending a post from user id: 219546676, posted on: 1546362199, sex - M\n"
     ]
    },
    {
     "name": "stderr",
     "output_type": "stream",
     "text": [
      "  0%|          | 290/73624 [05:12<11:01:10,  1.85it/s]"
     ]
    },
    {
     "name": "stdout",
     "output_type": "stream",
     "text": [
      "Sending a post from user id: 219546676, posted on: 1546362218, sex - M\n"
     ]
    },
    {
     "name": "stderr",
     "output_type": "stream",
     "text": [
      "  0%|          | 291/73624 [05:12<10:38:12,  1.92it/s]"
     ]
    },
    {
     "name": "stdout",
     "output_type": "stream",
     "text": [
      "Sending a post from user id: 219546676, posted on: 1546362228, sex - M\n"
     ]
    },
    {
     "name": "stderr",
     "output_type": "stream",
     "text": [
      "  0%|          | 292/73624 [05:13<11:48:23,  1.73it/s]"
     ]
    },
    {
     "name": "stdout",
     "output_type": "stream",
     "text": [
      "Sending a post from user id: 860419, posted on: 1546362237, sex - M\n",
      "Sending a post from user id: 219546676, posted on: 1546362319, sex - M\n"
     ]
    },
    {
     "name": "stderr",
     "output_type": "stream",
     "text": [
      "  0%|          | 294/73624 [05:14<9:48:33,  2.08it/s] "
     ]
    },
    {
     "name": "stdout",
     "output_type": "stream",
     "text": [
      "Sending a post from user id: 219546676, posted on: 1546362331, sex - M\n",
      "Sending a post from user id: 219546676, posted on: 1546362337, sex - M\n"
     ]
    },
    {
     "name": "stderr",
     "output_type": "stream",
     "text": [
      "  0%|          | 296/73624 [05:15<9:12:40,  2.21it/s]"
     ]
    },
    {
     "name": "stdout",
     "output_type": "stream",
     "text": [
      "Sending a post from user id: 219546676, posted on: 1546362345, sex - M\n",
      "Sending a post from user id: 219546676, posted on: 1546362391, sex - M\n"
     ]
    },
    {
     "name": "stderr",
     "output_type": "stream",
     "text": [
      "  0%|          | 298/73624 [05:16<8:57:33,  2.27it/s]"
     ]
    },
    {
     "name": "stdout",
     "output_type": "stream",
     "text": [
      "Sending a post from user id: 219546676, posted on: 1546362398, sex - M\n"
     ]
    },
    {
     "name": "stderr",
     "output_type": "stream",
     "text": [
      "  0%|          | 299/73624 [05:16<8:19:20,  2.45it/s]"
     ]
    },
    {
     "name": "stdout",
     "output_type": "stream",
     "text": [
      "Sending a post from user id: 219546676, posted on: 1546362404, sex - M\n",
      "Sending a post from user id: 219546676, posted on: 1546362409, sex - M\n"
     ]
    },
    {
     "name": "stderr",
     "output_type": "stream",
     "text": [
      "  0%|          | 301/73624 [05:16<6:51:35,  2.97it/s]"
     ]
    },
    {
     "name": "stdout",
     "output_type": "stream",
     "text": [
      "Sending a post from user id: 219546676, posted on: 1546362423, sex - M\n",
      "Sending a post from user id: 22588385, posted on: 1546363262, sex - M\n"
     ]
    },
    {
     "name": "stderr",
     "output_type": "stream",
     "text": [
      "  0%|          | 303/73624 [05:17<6:38:03,  3.07it/s]"
     ]
    },
    {
     "name": "stdout",
     "output_type": "stream",
     "text": [
      "Sending a post from user id: 219546676, posted on: 1546363673, sex - M\n"
     ]
    },
    {
     "name": "stderr",
     "output_type": "stream",
     "text": [
      "  0%|          | 304/73624 [05:17<7:12:01,  2.83it/s]"
     ]
    },
    {
     "name": "stdout",
     "output_type": "stream",
     "text": [
      "Sending a post from user id: 219546676, posted on: 1546363680, sex - M\n"
     ]
    },
    {
     "name": "stderr",
     "output_type": "stream",
     "text": [
      "  0%|          | 305/73624 [05:18<9:32:58,  2.13it/s]"
     ]
    },
    {
     "name": "stdout",
     "output_type": "stream",
     "text": [
      "Sending a post from user id: 219546676, posted on: 1546363687, sex - M\n"
     ]
    },
    {
     "name": "stderr",
     "output_type": "stream",
     "text": [
      "  0%|          | 306/73624 [05:19<11:03:51,  1.84it/s]"
     ]
    },
    {
     "name": "stdout",
     "output_type": "stream",
     "text": [
      "Sending a post from user id: 219546676, posted on: 1546363696, sex - M\n"
     ]
    },
    {
     "name": "stderr",
     "output_type": "stream",
     "text": [
      "  0%|          | 307/73624 [05:20<11:44:18,  1.73it/s]"
     ]
    },
    {
     "name": "stdout",
     "output_type": "stream",
     "text": [
      "Sending a post from user id: 219546676, posted on: 1546363700, sex - M\n"
     ]
    },
    {
     "name": "stderr",
     "output_type": "stream",
     "text": [
      "  0%|          | 308/73624 [05:20<11:56:22,  1.71it/s]"
     ]
    },
    {
     "name": "stdout",
     "output_type": "stream",
     "text": [
      "Sending a post from user id: 219546676, posted on: 1546363766, sex - M\n"
     ]
    },
    {
     "name": "stderr",
     "output_type": "stream",
     "text": [
      "  0%|          | 309/73624 [05:21<12:39:04,  1.61it/s]"
     ]
    },
    {
     "name": "stdout",
     "output_type": "stream",
     "text": [
      "Sending a post from user id: 150959664, posted on: 1546364658, sex - M\n"
     ]
    },
    {
     "name": "stderr",
     "output_type": "stream",
     "text": [
      "  0%|          | 310/73624 [05:21<11:38:46,  1.75it/s]"
     ]
    },
    {
     "name": "stdout",
     "output_type": "stream",
     "text": [
      "Sending a post from user id: 135460106, posted on: 1546365034, sex - M\n"
     ]
    },
    {
     "name": "stderr",
     "output_type": "stream",
     "text": [
      "  0%|          | 312/73624 [05:23<10:44:13,  1.90it/s]"
     ]
    },
    {
     "name": "stdout",
     "output_type": "stream",
     "text": [
      "Sending a post from user id: 2333367, posted on: 1546365261, sex - M\n",
      "Sending a post from user id: 13512496, posted on: 1546365385, sex - M\n"
     ]
    },
    {
     "name": "stderr",
     "output_type": "stream",
     "text": [
      "  0%|          | 313/73624 [05:23<10:58:07,  1.86it/s]"
     ]
    },
    {
     "name": "stdout",
     "output_type": "stream",
     "text": [
      "Sending a post from user id: 5819207, posted on: 1546365392, sex - M\n"
     ]
    },
    {
     "name": "stderr",
     "output_type": "stream",
     "text": [
      "  0%|          | 314/73624 [05:23<9:46:29,  2.08it/s] "
     ]
    },
    {
     "name": "stdout",
     "output_type": "stream",
     "text": [
      "Sending a post from user id: 15221, posted on: 1546365529, sex - M\n"
     ]
    },
    {
     "name": "stderr",
     "output_type": "stream",
     "text": [
      "  0%|          | 315/73624 [05:24<12:12:01,  1.67it/s]"
     ]
    },
    {
     "name": "stdout",
     "output_type": "stream",
     "text": [
      "Sending a post from user id: 84184989, posted on: 1546366227, sex - F\n"
     ]
    },
    {
     "name": "stderr",
     "output_type": "stream",
     "text": [
      "  0%|          | 316/73624 [05:25<12:40:51,  1.61it/s]"
     ]
    },
    {
     "name": "stdout",
     "output_type": "stream",
     "text": [
      "Sending a post from user id: 104032077, posted on: 1546366346, sex - M\n"
     ]
    },
    {
     "name": "stderr",
     "output_type": "stream",
     "text": [
      "  0%|          | 317/73624 [05:25<10:16:16,  1.98it/s]"
     ]
    },
    {
     "name": "stdout",
     "output_type": "stream",
     "text": [
      "Sending a post from user id: 2134327, posted on: 1546366670, sex - M\n"
     ]
    },
    {
     "name": "stderr",
     "output_type": "stream",
     "text": [
      "  0%|          | 318/73624 [05:26<10:18:10,  1.98it/s]"
     ]
    },
    {
     "name": "stdout",
     "output_type": "stream",
     "text": [
      "Sending a post from user id: 45266920, posted on: 1546368031, sex - F\n"
     ]
    },
    {
     "name": "stderr",
     "output_type": "stream",
     "text": [
      "  0%|          | 320/73624 [05:26<7:07:10,  2.86it/s] "
     ]
    },
    {
     "name": "stdout",
     "output_type": "stream",
     "text": [
      "Sending a post from user id: 449301206, posted on: 1546368292, sex - F\n",
      "Sending a post from user id: 264046799, posted on: 1546369524, sex - M\n"
     ]
    },
    {
     "name": "stderr",
     "output_type": "stream",
     "text": [
      "  0%|          | 321/73624 [05:27<8:59:38,  2.26it/s]"
     ]
    },
    {
     "name": "stdout",
     "output_type": "stream",
     "text": [
      "Sending a post from user id: 7796899, posted on: 1546369573, sex - M\n"
     ]
    },
    {
     "name": "stderr",
     "output_type": "stream",
     "text": [
      "  0%|          | 322/73624 [05:27<9:12:29,  2.21it/s]"
     ]
    },
    {
     "name": "stdout",
     "output_type": "stream",
     "text": [
      "Sending a post from user id: 506917402, posted on: 1546370111, sex - F\n"
     ]
    },
    {
     "name": "stderr",
     "output_type": "stream",
     "text": [
      "  0%|          | 323/73624 [05:28<8:10:01,  2.49it/s]"
     ]
    },
    {
     "name": "stdout",
     "output_type": "stream",
     "text": [
      "Sending a post from user id: 27401100, posted on: 1546370329, sex - M\n"
     ]
    },
    {
     "name": "stderr",
     "output_type": "stream",
     "text": [
      "  0%|          | 324/73624 [05:28<8:32:35,  2.38it/s]"
     ]
    },
    {
     "name": "stdout",
     "output_type": "stream",
     "text": [
      "Sending a post from user id: 211128084, posted on: 1546370584, sex - F\n"
     ]
    },
    {
     "name": "stderr",
     "output_type": "stream",
     "text": [
      "  0%|          | 325/73624 [05:29<9:01:12,  2.26it/s]"
     ]
    },
    {
     "name": "stdout",
     "output_type": "stream",
     "text": [
      "Sending a post from user id: 5789332, posted on: 1546370970, sex - M\n"
     ]
    },
    {
     "name": "stderr",
     "output_type": "stream",
     "text": [
      "  0%|          | 326/73624 [05:29<9:18:26,  2.19it/s]"
     ]
    },
    {
     "name": "stdout",
     "output_type": "stream",
     "text": [
      "Sending a post from user id: 389924, posted on: 1546371117, sex - F\n"
     ]
    },
    {
     "name": "stderr",
     "output_type": "stream",
     "text": [
      "  0%|          | 327/73624 [05:29<7:57:48,  2.56it/s]"
     ]
    },
    {
     "name": "stdout",
     "output_type": "stream",
     "text": [
      "Sending a post from user id: 134047366, posted on: 1546371635, sex - F\n"
     ]
    },
    {
     "name": "stderr",
     "output_type": "stream",
     "text": [
      "  0%|          | 328/73624 [05:30<8:06:26,  2.51it/s]"
     ]
    },
    {
     "name": "stdout",
     "output_type": "stream",
     "text": [
      "Sending a post from user id: 514921022, posted on: 1546371691, sex - F\n"
     ]
    },
    {
     "name": "stderr",
     "output_type": "stream",
     "text": [
      "  0%|          | 329/73624 [05:30<7:18:33,  2.79it/s]"
     ]
    },
    {
     "name": "stdout",
     "output_type": "stream",
     "text": [
      "Sending a post from user id: 320719214, posted on: 1546371962, sex - M\n"
     ]
    },
    {
     "name": "stderr",
     "output_type": "stream",
     "text": [
      "  0%|          | 330/73624 [05:31<9:33:40,  2.13it/s]"
     ]
    },
    {
     "name": "stdout",
     "output_type": "stream",
     "text": [
      "Sending a post from user id: 9715096, posted on: 1546372323, sex - F\n"
     ]
    },
    {
     "name": "stderr",
     "output_type": "stream",
     "text": [
      "  0%|          | 331/73624 [05:31<9:46:13,  2.08it/s]"
     ]
    },
    {
     "name": "stdout",
     "output_type": "stream",
     "text": [
      "Sending a post from user id: 5767999, posted on: 1546372622, sex - M\n"
     ]
    },
    {
     "name": "stderr",
     "output_type": "stream",
     "text": [
      "  0%|          | 333/73624 [05:32<6:57:10,  2.93it/s]"
     ]
    },
    {
     "name": "stdout",
     "output_type": "stream",
     "text": [
      "Sending a post from user id: 327458, posted on: 1546373159, sex - F\n",
      "Sending a post from user id: 41959014, posted on: 1546374525, sex - M\n"
     ]
    },
    {
     "name": "stderr",
     "output_type": "stream",
     "text": [
      "  0%|          | 335/73624 [05:32<7:28:29,  2.72it/s]"
     ]
    },
    {
     "name": "stdout",
     "output_type": "stream",
     "text": [
      "Sending a post from user id: 267075629, posted on: 1546375258, sex - M\n",
      "Sending a post from user id: 55087305, posted on: 1546375508, sex - F\n"
     ]
    },
    {
     "name": "stderr",
     "output_type": "stream",
     "text": [
      "  0%|          | 336/73624 [05:33<7:46:44,  2.62it/s]"
     ]
    },
    {
     "name": "stdout",
     "output_type": "stream",
     "text": [
      "Sending a post from user id: 1653991, posted on: 1546375806, sex - M\n"
     ]
    },
    {
     "name": "stderr",
     "output_type": "stream",
     "text": [
      "  0%|          | 337/73624 [05:34<10:20:11,  1.97it/s]"
     ]
    },
    {
     "name": "stdout",
     "output_type": "stream",
     "text": [
      "Sending a post from user id: 228354263, posted on: 1546375850, sex - F\n"
     ]
    },
    {
     "name": "stderr",
     "output_type": "stream",
     "text": [
      "  0%|          | 338/73624 [05:34<10:47:31,  1.89it/s]"
     ]
    },
    {
     "name": "stdout",
     "output_type": "stream",
     "text": [
      "Sending a post from user id: 228354263, posted on: 1546375913, sex - F\n"
     ]
    },
    {
     "name": "stderr",
     "output_type": "stream",
     "text": [
      "  0%|          | 339/73624 [05:35<9:49:27,  2.07it/s] "
     ]
    },
    {
     "name": "stdout",
     "output_type": "stream",
     "text": [
      "Sending a post from user id: 6196273, posted on: 1546376454, sex - F\n"
     ]
    },
    {
     "name": "stderr",
     "output_type": "stream",
     "text": [
      "  0%|          | 340/73624 [05:36<12:52:45,  1.58it/s]"
     ]
    },
    {
     "name": "stdout",
     "output_type": "stream",
     "text": [
      "Sending a post from user id: 31246438, posted on: 1546376459, sex - F\n"
     ]
    },
    {
     "name": "stderr",
     "output_type": "stream",
     "text": [
      "  0%|          | 341/73624 [05:36<10:22:35,  1.96it/s]"
     ]
    },
    {
     "name": "stdout",
     "output_type": "stream",
     "text": [
      "Sending a post from user id: 64235926, posted on: 1546376533, sex - M\n"
     ]
    },
    {
     "name": "stderr",
     "output_type": "stream",
     "text": [
      "  0%|          | 342/73624 [05:36<9:57:50,  2.04it/s] "
     ]
    },
    {
     "name": "stdout",
     "output_type": "stream",
     "text": [
      "Sending a post from user id: 49730393, posted on: 1546377234, sex - M\n"
     ]
    },
    {
     "name": "stderr",
     "output_type": "stream",
     "text": [
      "  0%|          | 343/73624 [05:37<12:46:40,  1.59it/s]"
     ]
    },
    {
     "name": "stdout",
     "output_type": "stream",
     "text": [
      "Sending a post from user id: 7692544, posted on: 1546377623, sex - M\n"
     ]
    },
    {
     "name": "stderr",
     "output_type": "stream",
     "text": [
      "  0%|          | 344/73624 [05:38<13:01:03,  1.56it/s]"
     ]
    },
    {
     "name": "stdout",
     "output_type": "stream",
     "text": [
      "Sending a post from user id: 278435421, posted on: 1546377644, sex - F\n"
     ]
    },
    {
     "name": "stderr",
     "output_type": "stream",
     "text": [
      "  0%|          | 346/73624 [05:39<12:14:34,  1.66it/s]"
     ]
    },
    {
     "name": "stdout",
     "output_type": "stream",
     "text": [
      "Sending a post from user id: 164653, posted on: 1546377777, sex - M\n",
      "Sending a post from user id: 86230, posted on: 1546378390, sex - F\n"
     ]
    },
    {
     "name": "stderr",
     "output_type": "stream",
     "text": [
      "  0%|          | 347/73624 [05:40<15:39:30,  1.30it/s]"
     ]
    },
    {
     "name": "stdout",
     "output_type": "stream",
     "text": [
      "Sending a post from user id: 9715096, posted on: 1546378704, sex - F\n",
      "Sending a post from user id: 160586398, posted on: 1546378910, sex - M\n"
     ]
    },
    {
     "name": "stderr",
     "output_type": "stream",
     "text": [
      "  0%|          | 349/73624 [05:41<11:28:45,  1.77it/s]"
     ]
    },
    {
     "name": "stdout",
     "output_type": "stream",
     "text": [
      "Sending a post from user id: 211128084, posted on: 1546380007, sex - F\n"
     ]
    },
    {
     "name": "stderr",
     "output_type": "stream",
     "text": [
      "  0%|          | 350/73624 [05:42<13:37:32,  1.49it/s]"
     ]
    },
    {
     "name": "stdout",
     "output_type": "stream",
     "text": [
      "Sending a post from user id: 579998, posted on: 1546380130, sex - F\n"
     ]
    },
    {
     "name": "stderr",
     "output_type": "stream",
     "text": [
      "  0%|          | 352/73624 [05:43<10:11:17,  2.00it/s]"
     ]
    },
    {
     "name": "stdout",
     "output_type": "stream",
     "text": [
      "Sending a post from user id: 74026146, posted on: 1546380615, sex - M\n",
      "Sending a post from user id: 579998, posted on: 1546380620, sex - F\n"
     ]
    },
    {
     "name": "stderr",
     "output_type": "stream",
     "text": [
      "  0%|          | 353/73624 [05:44<12:14:26,  1.66it/s]"
     ]
    },
    {
     "name": "stdout",
     "output_type": "stream",
     "text": [
      "Sending a post from user id: 579998, posted on: 1546380676, sex - F\n"
     ]
    },
    {
     "name": "stderr",
     "output_type": "stream",
     "text": [
      "  0%|          | 354/73624 [05:44<11:34:11,  1.76it/s]"
     ]
    },
    {
     "name": "stdout",
     "output_type": "stream",
     "text": [
      "Sending a post from user id: 211128084, posted on: 1546381027, sex - F\n"
     ]
    },
    {
     "name": "stderr",
     "output_type": "stream",
     "text": [
      "  0%|          | 355/73624 [05:45<13:43:33,  1.48it/s]"
     ]
    },
    {
     "name": "stdout",
     "output_type": "stream",
     "text": [
      "Sending a post from user id: 16861388, posted on: 1546381642, sex - M\n"
     ]
    },
    {
     "name": "stderr",
     "output_type": "stream",
     "text": [
      "  0%|          | 356/73624 [05:46<12:57:03,  1.57it/s]"
     ]
    },
    {
     "name": "stdout",
     "output_type": "stream",
     "text": [
      "Sending a post from user id: 8183220, posted on: 1546381647, sex - M\n"
     ]
    },
    {
     "name": "stderr",
     "output_type": "stream",
     "text": [
      "  0%|          | 357/73624 [05:47<15:03:55,  1.35it/s]"
     ]
    },
    {
     "name": "stdout",
     "output_type": "stream",
     "text": [
      "Sending a post from user id: 99752, posted on: 1546381851, sex - F\n"
     ]
    },
    {
     "name": "stderr",
     "output_type": "stream",
     "text": [
      "  0%|          | 358/73624 [05:47<13:31:39,  1.50it/s]"
     ]
    },
    {
     "name": "stdout",
     "output_type": "stream",
     "text": [
      "Sending a post from user id: 21785448, posted on: 1546381978, sex - F\n"
     ]
    },
    {
     "name": "stderr",
     "output_type": "stream",
     "text": [
      "  0%|          | 359/73624 [05:48<12:28:47,  1.63it/s]"
     ]
    },
    {
     "name": "stdout",
     "output_type": "stream",
     "text": [
      "Sending a post from user id: 24076785, posted on: 1546384271, sex - M\n"
     ]
    },
    {
     "name": "stderr",
     "output_type": "stream",
     "text": [
      "  0%|          | 360/73624 [05:48<10:12:32,  1.99it/s]"
     ]
    },
    {
     "name": "stdout",
     "output_type": "stream",
     "text": [
      "Sending a post from user id: 211128084, posted on: 1546384522, sex - F\n"
     ]
    },
    {
     "name": "stderr",
     "output_type": "stream",
     "text": [
      "  0%|          | 361/73624 [05:49<11:56:18,  1.70it/s]"
     ]
    },
    {
     "name": "stdout",
     "output_type": "stream",
     "text": [
      "Sending a post from user id: 214069421, posted on: 1546385081, sex - M\n"
     ]
    },
    {
     "name": "stderr",
     "output_type": "stream",
     "text": [
      "  0%|          | 362/73624 [05:49<13:23:30,  1.52it/s]"
     ]
    },
    {
     "name": "stdout",
     "output_type": "stream",
     "text": [
      "Sending a post from user id: 5633955, posted on: 1546386179, sex - F\n"
     ]
    },
    {
     "name": "stderr",
     "output_type": "stream",
     "text": [
      "  0%|          | 363/73624 [05:50<13:19:14,  1.53it/s]"
     ]
    },
    {
     "name": "stdout",
     "output_type": "stream",
     "text": [
      "Sending a post from user id: 58932, posted on: 1546386354, sex - F\n"
     ]
    },
    {
     "name": "stderr",
     "output_type": "stream",
     "text": [
      "  0%|          | 364/73624 [05:50<11:25:53,  1.78it/s]"
     ]
    },
    {
     "name": "stdout",
     "output_type": "stream",
     "text": [
      "Sending a post from user id: 211128084, posted on: 1546386481, sex - F\n"
     ]
    },
    {
     "name": "stderr",
     "output_type": "stream",
     "text": [
      "  0%|          | 365/73624 [05:51<13:44:32,  1.48it/s]"
     ]
    },
    {
     "name": "stdout",
     "output_type": "stream",
     "text": [
      "Sending a post from user id: 294465706, posted on: 1546386539, sex - F\n"
     ]
    },
    {
     "name": "stderr",
     "output_type": "stream",
     "text": [
      "  0%|          | 366/73624 [05:52<13:20:31,  1.53it/s]"
     ]
    },
    {
     "name": "stdout",
     "output_type": "stream",
     "text": [
      "Sending a post from user id: 200122319, posted on: 1546386924, sex - F\n"
     ]
    },
    {
     "name": "stderr",
     "output_type": "stream",
     "text": [
      "  0%|          | 367/73624 [05:53<13:50:48,  1.47it/s]"
     ]
    },
    {
     "name": "stdout",
     "output_type": "stream",
     "text": [
      "Sending a post from user id: 294465706, posted on: 1546388014, sex - F\n"
     ]
    },
    {
     "name": "stderr",
     "output_type": "stream",
     "text": [
      "  0%|          | 368/73624 [05:53<10:56:45,  1.86it/s]"
     ]
    },
    {
     "name": "stdout",
     "output_type": "stream",
     "text": [
      "Sending a post from user id: 55812989, posted on: 1546388893, sex - F\n"
     ]
    },
    {
     "name": "stderr",
     "output_type": "stream",
     "text": [
      "  1%|          | 369/73624 [05:54<13:29:54,  1.51it/s]"
     ]
    },
    {
     "name": "stdout",
     "output_type": "stream",
     "text": [
      "Sending a post from user id: 290515499, posted on: 1546389103, sex - M\n"
     ]
    },
    {
     "name": "stderr",
     "output_type": "stream",
     "text": [
      "  1%|          | 370/73624 [05:54<12:25:20,  1.64it/s]"
     ]
    },
    {
     "name": "stdout",
     "output_type": "stream",
     "text": [
      "Sending a post from user id: 30886917, posted on: 1546391408, sex - M\n"
     ]
    },
    {
     "name": "stderr",
     "output_type": "stream",
     "text": [
      "  1%|          | 371/73624 [05:55<10:37:16,  1.92it/s]"
     ]
    },
    {
     "name": "stdout",
     "output_type": "stream",
     "text": [
      "Sending a post from user id: 194073434, posted on: 1546391772, sex - M\n"
     ]
    },
    {
     "name": "stderr",
     "output_type": "stream",
     "text": [
      "  1%|          | 373/73624 [05:56<9:39:56,  2.11it/s] "
     ]
    },
    {
     "name": "stdout",
     "output_type": "stream",
     "text": [
      "Sending a post from user id: 197676835, posted on: 1546392334, sex - M\n",
      "Sending a post from user id: 182215987, posted on: 1546393796, sex - F\n"
     ]
    },
    {
     "name": "stderr",
     "output_type": "stream",
     "text": [
      "  1%|          | 374/73624 [05:56<11:23:34,  1.79it/s]"
     ]
    },
    {
     "name": "stdout",
     "output_type": "stream",
     "text": [
      "Sending a post from user id: 329513396, posted on: 1546394827, sex - M\n"
     ]
    },
    {
     "name": "stderr",
     "output_type": "stream",
     "text": [
      "  1%|          | 375/73624 [05:57<9:28:04,  2.15it/s] "
     ]
    },
    {
     "name": "stdout",
     "output_type": "stream",
     "text": [
      "Sending a post from user id: 329513396, posted on: 1546394938, sex - M\n"
     ]
    },
    {
     "name": "stderr",
     "output_type": "stream",
     "text": [
      "  1%|          | 376/73624 [05:57<9:44:55,  2.09it/s]"
     ]
    },
    {
     "name": "stdout",
     "output_type": "stream",
     "text": [
      "Sending a post from user id: 116829039, posted on: 1546397545, sex - M\n",
      "Sending a post from user id: 1721320, posted on: 1546398901, sex - F\n"
     ]
    },
    {
     "name": "stderr",
     "output_type": "stream",
     "text": [
      "  1%|          | 379/73624 [05:58<7:14:30,  2.81it/s]"
     ]
    },
    {
     "name": "stdout",
     "output_type": "stream",
     "text": [
      "Sending a post from user id: 215116682, posted on: 1546401604, sex - F\n",
      "Sending a post from user id: 194073434, posted on: 1546403098, sex - M\n"
     ]
    },
    {
     "name": "stderr",
     "output_type": "stream",
     "text": [
      "  1%|          | 380/73624 [05:58<8:22:56,  2.43it/s]"
     ]
    },
    {
     "name": "stdout",
     "output_type": "stream",
     "text": [
      "Sending a post from user id: 141687240, posted on: 1546404259, sex - M\n"
     ]
    },
    {
     "name": "stderr",
     "output_type": "stream",
     "text": [
      "  1%|          | 381/73624 [05:59<11:06:40,  1.83it/s]"
     ]
    },
    {
     "name": "stdout",
     "output_type": "stream",
     "text": [
      "Sending a post from user id: 2190713, posted on: 1546404446, sex - F\n"
     ]
    },
    {
     "name": "stderr",
     "output_type": "stream",
     "text": [
      "  1%|          | 382/73624 [06:00<12:13:33,  1.66it/s]"
     ]
    },
    {
     "name": "stdout",
     "output_type": "stream",
     "text": [
      "Sending a post from user id: 2190713, posted on: 1546404780, sex - F\n"
     ]
    },
    {
     "name": "stderr",
     "output_type": "stream",
     "text": [
      "  1%|          | 383/73624 [06:01<14:21:29,  1.42it/s]"
     ]
    },
    {
     "name": "stdout",
     "output_type": "stream",
     "text": [
      "Sending a post from user id: 2190713, posted on: 1546405110, sex - F\n"
     ]
    },
    {
     "name": "stderr",
     "output_type": "stream",
     "text": [
      "  1%|          | 384/73624 [06:02<14:11:15,  1.43it/s]"
     ]
    },
    {
     "name": "stdout",
     "output_type": "stream",
     "text": [
      "Sending a post from user id: 194073434, posted on: 1546407247, sex - M\n"
     ]
    },
    {
     "name": "stderr",
     "output_type": "stream",
     "text": [
      "  1%|          | 385/73624 [06:02<13:08:00,  1.55it/s]"
     ]
    },
    {
     "name": "stdout",
     "output_type": "stream",
     "text": [
      "Sending a post from user id: 194073434, posted on: 1546409826, sex - M\n"
     ]
    },
    {
     "name": "stderr",
     "output_type": "stream",
     "text": [
      "  1%|          | 386/73624 [06:03<11:08:17,  1.83it/s]"
     ]
    },
    {
     "name": "stdout",
     "output_type": "stream",
     "text": [
      "Sending a post from user id: 174291546, posted on: 1546409937, sex - F\n"
     ]
    },
    {
     "name": "stderr",
     "output_type": "stream",
     "text": [
      "  1%|          | 387/73624 [06:03<12:37:48,  1.61it/s]"
     ]
    },
    {
     "name": "stdout",
     "output_type": "stream",
     "text": [
      "Sending a post from user id: 174291546, posted on: 1546410681, sex - F\n"
     ]
    },
    {
     "name": "stderr",
     "output_type": "stream",
     "text": [
      "  1%|          | 389/73624 [06:04<11:17:33,  1.80it/s]"
     ]
    },
    {
     "name": "stdout",
     "output_type": "stream",
     "text": [
      "Sending a post from user id: 226733327, posted on: 1546411818, sex - F\n",
      "Sending a post from user id: 174291546, posted on: 1546412064, sex - F\n",
      "Sending a post from user id: 463168466, posted on: 1546412193, sex - F\n"
     ]
    },
    {
     "name": "stderr",
     "output_type": "stream",
     "text": [
      "  1%|          | 391/73624 [06:06<10:52:02,  1.87it/s]"
     ]
    },
    {
     "name": "stdout",
     "output_type": "stream",
     "text": [
      "Sending a post from user id: 258348451, posted on: 1546413213, sex - M\n"
     ]
    },
    {
     "name": "stderr",
     "output_type": "stream",
     "text": [
      "  1%|          | 392/73624 [06:06<12:04:53,  1.68it/s]"
     ]
    },
    {
     "name": "stdout",
     "output_type": "stream",
     "text": [
      "Sending a post from user id: 522707014, posted on: 1546413678, sex - F\n"
     ]
    },
    {
     "name": "stderr",
     "output_type": "stream",
     "text": [
      "  1%|          | 393/73624 [06:07<13:15:00,  1.54it/s]"
     ]
    },
    {
     "name": "stdout",
     "output_type": "stream",
     "text": [
      "Sending a post from user id: 522707014, posted on: 1546414129, sex - F\n"
     ]
    },
    {
     "name": "stderr",
     "output_type": "stream",
     "text": [
      "  1%|          | 394/73624 [06:08<14:44:24,  1.38it/s]"
     ]
    },
    {
     "name": "stdout",
     "output_type": "stream",
     "text": [
      "Sending a post from user id: 242739930, posted on: 1546414276, sex - F\n"
     ]
    },
    {
     "name": "stderr",
     "output_type": "stream",
     "text": [
      "  1%|          | 395/73624 [06:09<15:28:53,  1.31it/s]"
     ]
    },
    {
     "name": "stdout",
     "output_type": "stream",
     "text": [
      "Sending a post from user id: 522707014, posted on: 1546414325, sex - F\n"
     ]
    },
    {
     "name": "stderr",
     "output_type": "stream",
     "text": [
      "  1%|          | 396/73624 [06:09<14:44:38,  1.38it/s]"
     ]
    },
    {
     "name": "stdout",
     "output_type": "stream",
     "text": [
      "Sending a post from user id: 522707014, posted on: 1546414336, sex - F\n",
      "Sending a post from user id: 522707014, posted on: 1546414349, sex - F\n"
     ]
    },
    {
     "name": "stderr",
     "output_type": "stream",
     "text": [
      "  1%|          | 398/73624 [06:10<10:57:11,  1.86it/s]"
     ]
    },
    {
     "name": "stdout",
     "output_type": "stream",
     "text": [
      "Sending a post from user id: 352470436, posted on: 1546414360, sex - M\n"
     ]
    },
    {
     "name": "stderr",
     "output_type": "stream",
     "text": [
      "  1%|          | 399/73624 [06:11<13:04:53,  1.55it/s]"
     ]
    },
    {
     "name": "stdout",
     "output_type": "stream",
     "text": [
      "Sending a post from user id: 522707014, posted on: 1546414498, sex - F\n"
     ]
    },
    {
     "name": "stderr",
     "output_type": "stream",
     "text": [
      "  1%|          | 400/73624 [06:12<12:29:11,  1.63it/s]"
     ]
    },
    {
     "name": "stdout",
     "output_type": "stream",
     "text": [
      "Sending a post from user id: 71567594, posted on: 1546414968, sex - F\n"
     ]
    },
    {
     "name": "stderr",
     "output_type": "stream",
     "text": [
      "  1%|          | 401/73624 [06:12<12:56:28,  1.57it/s]"
     ]
    },
    {
     "name": "stdout",
     "output_type": "stream",
     "text": [
      "Sending a post from user id: 194073434, posted on: 1546415127, sex - M\n"
     ]
    },
    {
     "name": "stderr",
     "output_type": "stream",
     "text": [
      "  1%|          | 403/73624 [06:13<10:56:21,  1.86it/s]"
     ]
    },
    {
     "name": "stdout",
     "output_type": "stream",
     "text": [
      "Sending a post from user id: 5786733, posted on: 1546416169, sex - M\n",
      "Sending a post from user id: 321675657, posted on: 1546417303, sex - F\n"
     ]
    },
    {
     "name": "stderr",
     "output_type": "stream",
     "text": [
      "  1%|          | 404/73624 [06:14<12:42:05,  1.60it/s]"
     ]
    },
    {
     "name": "stdout",
     "output_type": "stream",
     "text": [
      "Sending a post from user id: 194073434, posted on: 1546417382, sex - M\n"
     ]
    },
    {
     "name": "stderr",
     "output_type": "stream",
     "text": [
      "  1%|          | 405/73624 [06:15<11:54:54,  1.71it/s]"
     ]
    },
    {
     "name": "stdout",
     "output_type": "stream",
     "text": [
      "Sending a post from user id: 2365785, posted on: 1546417390, sex - F\n"
     ]
    },
    {
     "name": "stderr",
     "output_type": "stream",
     "text": [
      "  1%|          | 406/73624 [06:15<11:53:20,  1.71it/s]"
     ]
    },
    {
     "name": "stdout",
     "output_type": "stream",
     "text": [
      "Sending a post from user id: 522707014, posted on: 1546417577, sex - F\n",
      "Sending a post from user id: 522707014, posted on: 1546417802, sex - F\n"
     ]
    },
    {
     "name": "stderr",
     "output_type": "stream",
     "text": [
      "  1%|          | 408/73624 [06:16<10:06:15,  2.01it/s]"
     ]
    },
    {
     "name": "stdout",
     "output_type": "stream",
     "text": [
      "Sending a post from user id: 522597485, posted on: 1546418809, sex - F\n"
     ]
    },
    {
     "name": "stderr",
     "output_type": "stream",
     "text": [
      "  1%|          | 409/73624 [06:16<8:38:39,  2.35it/s] "
     ]
    },
    {
     "name": "stdout",
     "output_type": "stream",
     "text": [
      "Sending a post from user id: 471165, posted on: 1546418921, sex - M\n"
     ]
    },
    {
     "name": "stderr",
     "output_type": "stream",
     "text": [
      "  1%|          | 410/73624 [06:17<11:33:28,  1.76it/s]"
     ]
    },
    {
     "name": "stdout",
     "output_type": "stream",
     "text": [
      "Sending a post from user id: 242739930, posted on: 1546418985, sex - F\n"
     ]
    },
    {
     "name": "stderr",
     "output_type": "stream",
     "text": [
      "  1%|          | 411/73624 [06:18<10:18:01,  1.97it/s]"
     ]
    },
    {
     "name": "stdout",
     "output_type": "stream",
     "text": [
      "Sending a post from user id: 37127521, posted on: 1546419981, sex - M\n"
     ]
    },
    {
     "name": "stderr",
     "output_type": "stream",
     "text": [
      "  1%|          | 412/73624 [06:18<12:15:06,  1.66it/s]"
     ]
    },
    {
     "name": "stdout",
     "output_type": "stream",
     "text": [
      "Sending a post from user id: 165146319, posted on: 1546421029, sex - F\n"
     ]
    },
    {
     "name": "stderr",
     "output_type": "stream",
     "text": [
      "  1%|          | 414/73624 [06:19<7:49:30,  2.60it/s] "
     ]
    },
    {
     "name": "stdout",
     "output_type": "stream",
     "text": [
      "Sending a post from user id: 165146319, posted on: 1546421138, sex - F\n",
      "Sending a post from user id: 165146319, posted on: 1546421199, sex - F\n"
     ]
    },
    {
     "name": "stderr",
     "output_type": "stream",
     "text": [
      "  1%|          | 415/73624 [06:19<6:11:38,  3.28it/s]"
     ]
    },
    {
     "name": "stdout",
     "output_type": "stream",
     "text": [
      "Sending a post from user id: 165146319, posted on: 1546421236, sex - F\n"
     ]
    },
    {
     "name": "stderr",
     "output_type": "stream",
     "text": [
      "  1%|          | 416/73624 [06:20<10:07:28,  2.01it/s]"
     ]
    },
    {
     "name": "stdout",
     "output_type": "stream",
     "text": [
      "Sending a post from user id: 165146319, posted on: 1546421293, sex - F\n",
      "Sending a post from user id: 165146319, posted on: 1546421333, sex - F\n"
     ]
    },
    {
     "name": "stderr",
     "output_type": "stream",
     "text": [
      "  1%|          | 419/73624 [06:20<5:51:14,  3.47it/s] "
     ]
    },
    {
     "name": "stdout",
     "output_type": "stream",
     "text": [
      "Sending a post from user id: 165146319, posted on: 1546421370, sex - F\n",
      "Sending a post from user id: 165146319, posted on: 1546421467, sex - F\n"
     ]
    },
    {
     "name": "stderr",
     "output_type": "stream",
     "text": [
      "  1%|          | 420/73624 [06:21<6:33:04,  3.10it/s]"
     ]
    },
    {
     "name": "stdout",
     "output_type": "stream",
     "text": [
      "Sending a post from user id: 165146319, posted on: 1546421522, sex - F\n"
     ]
    },
    {
     "name": "stderr",
     "output_type": "stream",
     "text": [
      "  1%|          | 421/73624 [06:21<8:33:07,  2.38it/s]"
     ]
    },
    {
     "name": "stdout",
     "output_type": "stream",
     "text": [
      "Sending a post from user id: 211128084, posted on: 1546421536, sex - F\n"
     ]
    },
    {
     "name": "stderr",
     "output_type": "stream",
     "text": [
      "  1%|          | 422/73624 [06:22<8:14:39,  2.47it/s]"
     ]
    },
    {
     "name": "stdout",
     "output_type": "stream",
     "text": [
      "Sending a post from user id: 165146319, posted on: 1546421589, sex - F\n"
     ]
    },
    {
     "name": "stderr",
     "output_type": "stream",
     "text": [
      "  1%|          | 423/73624 [06:22<8:07:33,  2.50it/s]"
     ]
    },
    {
     "name": "stdout",
     "output_type": "stream",
     "text": [
      "Sending a post from user id: 165146319, posted on: 1546421665, sex - F\n"
     ]
    },
    {
     "name": "stderr",
     "output_type": "stream",
     "text": [
      "  1%|          | 424/73624 [06:23<10:29:37,  1.94it/s]"
     ]
    },
    {
     "name": "stdout",
     "output_type": "stream",
     "text": [
      "Sending a post from user id: 41959014, posted on: 1546421671, sex - M\n"
     ]
    },
    {
     "name": "stderr",
     "output_type": "stream",
     "text": [
      "  1%|          | 425/73624 [06:24<13:21:28,  1.52it/s]"
     ]
    },
    {
     "name": "stdout",
     "output_type": "stream",
     "text": [
      "Sending a post from user id: 165146319, posted on: 1546421699, sex - F\n"
     ]
    },
    {
     "name": "stderr",
     "output_type": "stream",
     "text": [
      "  1%|          | 426/73624 [06:25<13:56:51,  1.46it/s]"
     ]
    },
    {
     "name": "stdout",
     "output_type": "stream",
     "text": [
      "Sending a post from user id: 342841693, posted on: 1546421763, sex - M\n"
     ]
    },
    {
     "name": "stderr",
     "output_type": "stream",
     "text": [
      "  1%|          | 427/73624 [06:25<15:11:40,  1.34it/s]"
     ]
    },
    {
     "name": "stdout",
     "output_type": "stream",
     "text": [
      "Sending a post from user id: 165146319, posted on: 1546421792, sex - F\n"
     ]
    },
    {
     "name": "stderr",
     "output_type": "stream",
     "text": [
      "  1%|          | 429/73624 [06:26<11:37:32,  1.75it/s]"
     ]
    },
    {
     "name": "stdout",
     "output_type": "stream",
     "text": [
      "Sending a post from user id: 211128084, posted on: 1546422043, sex - F\n",
      "Sending a post from user id: 6310739, posted on: 1546422504, sex - F\n"
     ]
    },
    {
     "name": "stderr",
     "output_type": "stream",
     "text": [
      "  1%|          | 431/73624 [06:27<8:45:22,  2.32it/s] "
     ]
    },
    {
     "name": "stdout",
     "output_type": "stream",
     "text": [
      "Sending a post from user id: 17693931, posted on: 1546422553, sex - M\n",
      "Sending a post from user id: 267198623, posted on: 1546423082, sex - M\n"
     ]
    },
    {
     "name": "stderr",
     "output_type": "stream",
     "text": [
      "  1%|          | 432/73624 [06:28<11:19:23,  1.80it/s]"
     ]
    },
    {
     "name": "stdout",
     "output_type": "stream",
     "text": [
      "Sending a post from user id: 215116682, posted on: 1546423209, sex - F\n"
     ]
    },
    {
     "name": "stderr",
     "output_type": "stream",
     "text": [
      "  1%|          | 433/73624 [06:28<11:23:09,  1.79it/s]"
     ]
    },
    {
     "name": "stdout",
     "output_type": "stream",
     "text": [
      "Sending a post from user id: 141687240, posted on: 1546423682, sex - M\n"
     ]
    },
    {
     "name": "stderr",
     "output_type": "stream",
     "text": [
      "  1%|          | 434/73624 [06:29<10:12:14,  1.99it/s]"
     ]
    },
    {
     "name": "stdout",
     "output_type": "stream",
     "text": [
      "Sending a post from user id: 141687240, posted on: 1546423727, sex - M\n"
     ]
    },
    {
     "name": "stderr",
     "output_type": "stream",
     "text": [
      "  1%|          | 435/73624 [06:30<11:34:17,  1.76it/s]"
     ]
    },
    {
     "name": "stdout",
     "output_type": "stream",
     "text": [
      "Sending a post from user id: 246481, posted on: 1546423877, sex - F\n"
     ]
    },
    {
     "name": "stderr",
     "output_type": "stream",
     "text": [
      "  1%|          | 436/73624 [06:30<13:50:25,  1.47it/s]"
     ]
    },
    {
     "name": "stdout",
     "output_type": "stream",
     "text": [
      "Sending a post from user id: 24142927, posted on: 1546424274, sex - F\n"
     ]
    },
    {
     "name": "stderr",
     "output_type": "stream",
     "text": [
      "  1%|          | 437/73624 [06:31<12:06:21,  1.68it/s]"
     ]
    },
    {
     "name": "stdout",
     "output_type": "stream",
     "text": [
      "Sending a post from user id: 242237, posted on: 1546424820, sex - F\n"
     ]
    },
    {
     "name": "stderr",
     "output_type": "stream",
     "text": [
      "  1%|          | 438/73624 [06:32<13:54:50,  1.46it/s]"
     ]
    },
    {
     "name": "stdout",
     "output_type": "stream",
     "text": [
      "Sending a post from user id: 3710274, posted on: 1546424823, sex - M\n"
     ]
    },
    {
     "name": "stderr",
     "output_type": "stream",
     "text": [
      "  1%|          | 439/73624 [06:32<13:34:56,  1.50it/s]"
     ]
    },
    {
     "name": "stdout",
     "output_type": "stream",
     "text": [
      "Sending a post from user id: 14603958, posted on: 1546424849, sex - F\n"
     ]
    },
    {
     "name": "stderr",
     "output_type": "stream",
     "text": [
      "  1%|          | 440/73624 [06:33<14:38:03,  1.39it/s]"
     ]
    },
    {
     "name": "stdout",
     "output_type": "stream",
     "text": [
      "Sending a post from user id: 267198623, posted on: 1546425267, sex - M\n"
     ]
    },
    {
     "name": "stderr",
     "output_type": "stream",
     "text": [
      "  1%|          | 441/73624 [06:34<14:32:39,  1.40it/s]"
     ]
    },
    {
     "name": "stdout",
     "output_type": "stream",
     "text": [
      "Sending a post from user id: 211128084, posted on: 1546426113, sex - F\n",
      "Sending a post from user id: 823354, posted on: 1546426458, sex - M\n"
     ]
    },
    {
     "name": "stderr",
     "output_type": "stream",
     "text": [
      "  1%|          | 443/73624 [06:34<10:10:38,  2.00it/s]"
     ]
    },
    {
     "name": "stdout",
     "output_type": "stream",
     "text": [
      "Sending a post from user id: 214069421, posted on: 1546426647, sex - M\n"
     ]
    },
    {
     "name": "stderr",
     "output_type": "stream",
     "text": [
      "  1%|          | 444/73624 [06:35<11:28:45,  1.77it/s]"
     ]
    },
    {
     "name": "stdout",
     "output_type": "stream",
     "text": [
      "Sending a post from user id: 328838221, posted on: 1546426760, sex - M\n"
     ]
    },
    {
     "name": "stderr",
     "output_type": "stream",
     "text": [
      "  1%|          | 445/73624 [06:36<10:19:33,  1.97it/s]"
     ]
    },
    {
     "name": "stdout",
     "output_type": "stream",
     "text": [
      "Sending a post from user id: 194073434, posted on: 1546427153, sex - M\n"
     ]
    },
    {
     "name": "stderr",
     "output_type": "stream",
     "text": [
      "  1%|          | 446/73624 [06:37<13:16:57,  1.53it/s]"
     ]
    },
    {
     "name": "stdout",
     "output_type": "stream",
     "text": [
      "Sending a post from user id: 139213597, posted on: 1546427228, sex - F\n"
     ]
    },
    {
     "name": "stderr",
     "output_type": "stream",
     "text": [
      "  1%|          | 448/73624 [06:37<9:20:27,  2.18it/s] "
     ]
    },
    {
     "name": "stdout",
     "output_type": "stream",
     "text": [
      "Sending a post from user id: 194073434, posted on: 1546427270, sex - M\n",
      "Sending a post from user id: 194073434, posted on: 1546427383, sex - M\n"
     ]
    },
    {
     "name": "stderr",
     "output_type": "stream",
     "text": [
      "  1%|          | 449/73624 [06:38<11:46:53,  1.73it/s]"
     ]
    },
    {
     "name": "stdout",
     "output_type": "stream",
     "text": [
      "Sending a post from user id: 355600, posted on: 1546427596, sex - F\n"
     ]
    },
    {
     "name": "stderr",
     "output_type": "stream",
     "text": [
      "  1%|          | 450/73624 [06:39<11:46:56,  1.73it/s]"
     ]
    },
    {
     "name": "stdout",
     "output_type": "stream",
     "text": [
      "Sending a post from user id: 194073434, posted on: 1546427685, sex - M\n"
     ]
    },
    {
     "name": "stderr",
     "output_type": "stream",
     "text": [
      "  1%|          | 451/73624 [06:39<11:30:02,  1.77it/s]"
     ]
    },
    {
     "name": "stdout",
     "output_type": "stream",
     "text": [
      "Sending a post from user id: 211128084, posted on: 1546428241, sex - F\n"
     ]
    },
    {
     "name": "stderr",
     "output_type": "stream",
     "text": [
      "  1%|          | 452/73624 [06:39<9:37:06,  2.11it/s] "
     ]
    },
    {
     "name": "stdout",
     "output_type": "stream",
     "text": [
      "Sending a post from user id: 37127521, posted on: 1546428267, sex - M\n",
      "Sending a post from user id: 20170470, posted on: 1546428935, sex - F\n"
     ]
    },
    {
     "name": "stderr",
     "output_type": "stream",
     "text": [
      "  1%|          | 454/73624 [06:40<7:10:23,  2.83it/s]"
     ]
    },
    {
     "name": "stdout",
     "output_type": "stream",
     "text": [
      "Sending a post from user id: 161473208, posted on: 1546430903, sex - F\n"
     ]
    },
    {
     "name": "stderr",
     "output_type": "stream",
     "text": [
      "  1%|          | 455/73624 [06:41<8:44:29,  2.33it/s]"
     ]
    },
    {
     "name": "stdout",
     "output_type": "stream",
     "text": [
      "Sending a post from user id: 37127521, posted on: 1546431325, sex - M\n"
     ]
    },
    {
     "name": "stderr",
     "output_type": "stream",
     "text": [
      "  1%|          | 456/73624 [06:41<7:52:33,  2.58it/s]"
     ]
    },
    {
     "name": "stdout",
     "output_type": "stream",
     "text": [
      "Sending a post from user id: 363497, posted on: 1546431673, sex - F\n"
     ]
    },
    {
     "name": "stderr",
     "output_type": "stream",
     "text": [
      "  1%|          | 457/73624 [06:42<10:44:53,  1.89it/s]"
     ]
    },
    {
     "name": "stdout",
     "output_type": "stream",
     "text": [
      "Sending a post from user id: 363497, posted on: 1546431748, sex - F\n"
     ]
    },
    {
     "name": "stderr",
     "output_type": "stream",
     "text": [
      "  1%|          | 458/73624 [06:42<11:45:03,  1.73it/s]"
     ]
    },
    {
     "name": "stdout",
     "output_type": "stream",
     "text": [
      "Sending a post from user id: 211128084, posted on: 1546431835, sex - F\n"
     ]
    },
    {
     "name": "stderr",
     "output_type": "stream",
     "text": [
      "  1%|          | 459/73624 [06:43<12:49:21,  1.58it/s]"
     ]
    },
    {
     "name": "stdout",
     "output_type": "stream",
     "text": [
      "Sending a post from user id: 363497, posted on: 1546431845, sex - F\n"
     ]
    },
    {
     "name": "stderr",
     "output_type": "stream",
     "text": [
      "  1%|          | 460/73624 [06:44<13:38:23,  1.49it/s]"
     ]
    },
    {
     "name": "stdout",
     "output_type": "stream",
     "text": [
      "Sending a post from user id: 5819207, posted on: 1546431867, sex - M\n"
     ]
    },
    {
     "name": "stderr",
     "output_type": "stream",
     "text": [
      "  1%|          | 461/73624 [06:44<12:26:28,  1.63it/s]"
     ]
    },
    {
     "name": "stdout",
     "output_type": "stream",
     "text": [
      "Sending a post from user id: 194073434, posted on: 1546431947, sex - M\n",
      "Sending a post from user id: 363497, posted on: 1546431950, sex - F\n"
     ]
    },
    {
     "name": "stderr",
     "output_type": "stream",
     "text": [
      "  1%|          | 463/73624 [06:45<10:51:39,  1.87it/s]"
     ]
    },
    {
     "name": "stdout",
     "output_type": "stream",
     "text": [
      "Sending a post from user id: 363497, posted on: 1546431983, sex - F\n"
     ]
    },
    {
     "name": "stderr",
     "output_type": "stream",
     "text": [
      "  1%|          | 464/73624 [06:46<10:54:05,  1.86it/s]"
     ]
    },
    {
     "name": "stdout",
     "output_type": "stream",
     "text": [
      "Sending a post from user id: 363497, posted on: 1546432083, sex - F\n"
     ]
    },
    {
     "name": "stderr",
     "output_type": "stream",
     "text": [
      "  1%|          | 465/73624 [06:47<11:45:16,  1.73it/s]"
     ]
    },
    {
     "name": "stdout",
     "output_type": "stream",
     "text": [
      "Sending a post from user id: 297664055, posted on: 1546432273, sex - F\n"
     ]
    },
    {
     "name": "stderr",
     "output_type": "stream",
     "text": [
      "  1%|          | 466/73624 [06:47<12:09:00,  1.67it/s]"
     ]
    },
    {
     "name": "stdout",
     "output_type": "stream",
     "text": [
      "Sending a post from user id: 337903146, posted on: 1546432654, sex - M\n"
     ]
    },
    {
     "name": "stderr",
     "output_type": "stream",
     "text": [
      "  1%|          | 468/73624 [06:48<10:04:05,  2.02it/s]"
     ]
    },
    {
     "name": "stdout",
     "output_type": "stream",
     "text": [
      "Sending a post from user id: 11231124, posted on: 1546432840, sex - F\n",
      "Sending a post from user id: 165146319, posted on: 1546432923, sex - F\n"
     ]
    },
    {
     "name": "stderr",
     "output_type": "stream",
     "text": [
      "  1%|          | 470/73624 [06:49<9:43:33,  2.09it/s] "
     ]
    },
    {
     "name": "stdout",
     "output_type": "stream",
     "text": [
      "Sending a post from user id: 214069421, posted on: 1546433099, sex - M\n",
      "Sending a post from user id: 5819207, posted on: 1546433443, sex - M\n"
     ]
    },
    {
     "name": "stderr",
     "output_type": "stream",
     "text": [
      "  1%|          | 471/73624 [06:50<12:45:22,  1.59it/s]"
     ]
    },
    {
     "name": "stdout",
     "output_type": "stream",
     "text": [
      "Sending a post from user id: 15221, posted on: 1546433460, sex - M\n"
     ]
    },
    {
     "name": "stderr",
     "output_type": "stream",
     "text": [
      "  1%|          | 472/73624 [06:51<13:32:52,  1.50it/s]"
     ]
    },
    {
     "name": "stdout",
     "output_type": "stream",
     "text": [
      "Sending a post from user id: 5789332, posted on: 1546433661, sex - M\n"
     ]
    },
    {
     "name": "stderr",
     "output_type": "stream",
     "text": [
      "  1%|          | 473/73624 [06:51<11:07:08,  1.83it/s]"
     ]
    },
    {
     "name": "stdout",
     "output_type": "stream",
     "text": [
      "Sending a post from user id: 22469216, posted on: 1546433670, sex - M\n"
     ]
    },
    {
     "name": "stderr",
     "output_type": "stream",
     "text": [
      "  1%|          | 475/73624 [06:52<7:30:36,  2.71it/s] "
     ]
    },
    {
     "name": "stdout",
     "output_type": "stream",
     "text": [
      "Sending a post from user id: 643932, posted on: 1546433695, sex - M\n",
      "Sending a post from user id: 344923, posted on: 1546433915, sex - F\n"
     ]
    },
    {
     "name": "stderr",
     "output_type": "stream",
     "text": [
      "  1%|          | 476/73624 [06:52<7:23:42,  2.75it/s]"
     ]
    },
    {
     "name": "stdout",
     "output_type": "stream",
     "text": [
      "Sending a post from user id: 282798485, posted on: 1546434196, sex - M\n"
     ]
    },
    {
     "name": "stderr",
     "output_type": "stream",
     "text": [
      "  1%|          | 477/73624 [06:52<8:48:31,  2.31it/s]"
     ]
    },
    {
     "name": "stdout",
     "output_type": "stream",
     "text": [
      "Sending a post from user id: 68615018, posted on: 1546434963, sex - F\n"
     ]
    },
    {
     "name": "stderr",
     "output_type": "stream",
     "text": [
      "  1%|          | 478/73624 [06:53<8:31:00,  2.39it/s]"
     ]
    },
    {
     "name": "stdout",
     "output_type": "stream",
     "text": [
      "Sending a post from user id: 5786733, posted on: 1546435272, sex - M\n",
      "Sending a post from user id: 4811305, posted on: 1546435472, sex - M\n"
     ]
    },
    {
     "name": "stderr",
     "output_type": "stream",
     "text": [
      "  1%|          | 480/73624 [06:54<8:54:54,  2.28it/s]"
     ]
    },
    {
     "name": "stdout",
     "output_type": "stream",
     "text": [
      "Sending a post from user id: 267198623, posted on: 1546436185, sex - M\n"
     ]
    },
    {
     "name": "stderr",
     "output_type": "stream",
     "text": [
      "  1%|          | 481/73624 [06:54<9:38:03,  2.11it/s]"
     ]
    },
    {
     "name": "stdout",
     "output_type": "stream",
     "text": [
      "Sending a post from user id: 211128084, posted on: 1546436577, sex - F\n"
     ]
    },
    {
     "name": "stderr",
     "output_type": "stream",
     "text": [
      "  1%|          | 482/73624 [06:55<9:51:28,  2.06it/s]"
     ]
    },
    {
     "name": "stdout",
     "output_type": "stream",
     "text": [
      "Sending a post from user id: 113902656, posted on: 1546437141, sex - M\n"
     ]
    },
    {
     "name": "stderr",
     "output_type": "stream",
     "text": [
      "  1%|          | 483/73624 [06:55<9:54:02,  2.05it/s]"
     ]
    },
    {
     "name": "stdout",
     "output_type": "stream",
     "text": [
      "Sending a post from user id: 37127521, posted on: 1546437252, sex - M\n"
     ]
    },
    {
     "name": "stderr",
     "output_type": "stream",
     "text": [
      "  1%|          | 484/73624 [06:56<11:26:08,  1.78it/s]"
     ]
    },
    {
     "name": "stdout",
     "output_type": "stream",
     "text": [
      "Sending a post from user id: 89342043, posted on: 1546437314, sex - M\n"
     ]
    },
    {
     "name": "stderr",
     "output_type": "stream",
     "text": [
      "  1%|          | 485/73624 [06:57<10:50:45,  1.87it/s]"
     ]
    },
    {
     "name": "stdout",
     "output_type": "stream",
     "text": [
      "Sending a post from user id: 135460106, posted on: 1546437458, sex - M\n"
     ]
    },
    {
     "name": "stderr",
     "output_type": "stream",
     "text": [
      "  1%|          | 486/73624 [06:58<12:58:49,  1.57it/s]"
     ]
    },
    {
     "name": "stdout",
     "output_type": "stream",
     "text": [
      "Sending a post from user id: 519560637, posted on: 1546437484, sex - M\n"
     ]
    },
    {
     "name": "stderr",
     "output_type": "stream",
     "text": [
      "  1%|          | 487/73624 [06:58<14:14:16,  1.43it/s]"
     ]
    },
    {
     "name": "stdout",
     "output_type": "stream",
     "text": [
      "Sending a post from user id: 39172838, posted on: 1546437648, sex - F\n"
     ]
    },
    {
     "name": "stderr",
     "output_type": "stream",
     "text": [
      "  1%|          | 488/73624 [06:59<13:00:10,  1.56it/s]"
     ]
    },
    {
     "name": "stdout",
     "output_type": "stream",
     "text": [
      "Sending a post from user id: 2968957, posted on: 1546437953, sex - F\n"
     ]
    },
    {
     "name": "stderr",
     "output_type": "stream",
     "text": [
      "  1%|          | 489/73624 [07:00<14:23:53,  1.41it/s]"
     ]
    },
    {
     "name": "stdout",
     "output_type": "stream",
     "text": [
      "Sending a post from user id: 33487, posted on: 1546438178, sex - F\n"
     ]
    },
    {
     "name": "stderr",
     "output_type": "stream",
     "text": [
      "  1%|          | 490/73624 [07:00<11:44:18,  1.73it/s]"
     ]
    },
    {
     "name": "stdout",
     "output_type": "stream",
     "text": [
      "Sending a post from user id: 16136716, posted on: 1546439506, sex - M\n"
     ]
    },
    {
     "name": "stderr",
     "output_type": "stream",
     "text": [
      "  1%|          | 492/73624 [07:01<9:25:27,  2.16it/s] "
     ]
    },
    {
     "name": "stdout",
     "output_type": "stream",
     "text": [
      "Sending a post from user id: 72513972, posted on: 1546439567, sex - F\n",
      "Sending a post from user id: 16136716, posted on: 1546439732, sex - M\n"
     ]
    },
    {
     "name": "stderr",
     "output_type": "stream",
     "text": [
      "  1%|          | 493/73624 [07:02<12:01:57,  1.69it/s]"
     ]
    },
    {
     "name": "stdout",
     "output_type": "stream",
     "text": [
      "Sending a post from user id: 294465706, posted on: 1546439798, sex - F\n"
     ]
    },
    {
     "name": "stderr",
     "output_type": "stream",
     "text": [
      "  1%|          | 494/73624 [07:02<10:46:54,  1.88it/s]"
     ]
    },
    {
     "name": "stdout",
     "output_type": "stream",
     "text": [
      "Sending a post from user id: 364994243, posted on: 1546440030, sex - F\n"
     ]
    },
    {
     "name": "stderr",
     "output_type": "stream",
     "text": [
      "  1%|          | 496/73624 [07:03<9:28:39,  2.14it/s] "
     ]
    },
    {
     "name": "stdout",
     "output_type": "stream",
     "text": [
      "Sending a post from user id: 345499173, posted on: 1546440046, sex - M\n",
      "Sending a post from user id: 896951, posted on: 1546440629, sex - F\n",
      "Sending a post from user id: 90346114, posted on: 1546440962, sex - F\n"
     ]
    },
    {
     "name": "stderr",
     "output_type": "stream",
     "text": [
      "  1%|          | 499/73624 [07:04<7:40:10,  2.65it/s]"
     ]
    },
    {
     "name": "stdout",
     "output_type": "stream",
     "text": [
      "Sending a post from user id: 328452060, posted on: 1546441218, sex - M\n",
      "Sending a post from user id: 315213794, posted on: 1546441439, sex - M\n",
      "Sending a post from user id: 199876565, posted on: 1546441486, sex - M\n"
     ]
    },
    {
     "name": "stderr",
     "output_type": "stream",
     "text": [
      "  1%|          | 501/73624 [07:05<8:21:33,  2.43it/s]"
     ]
    },
    {
     "name": "stdout",
     "output_type": "stream",
     "text": [
      "Sending a post from user id: 23380429, posted on: 1546442312, sex - F\n"
     ]
    },
    {
     "name": "stderr",
     "output_type": "stream",
     "text": [
      "  1%|          | 502/73624 [07:05<8:16:58,  2.45it/s]"
     ]
    },
    {
     "name": "stdout",
     "output_type": "stream",
     "text": [
      "Sending a post from user id: 55812989, posted on: 1546443493, sex - F\n"
     ]
    },
    {
     "name": "stderr",
     "output_type": "stream",
     "text": [
      "  1%|          | 503/73624 [07:06<8:04:22,  2.52it/s]"
     ]
    },
    {
     "name": "stdout",
     "output_type": "stream",
     "text": [
      "Sending a post from user id: 1776733, posted on: 1546443902, sex - F\n",
      "Sending a post from user id: 614060, posted on: 1546443931, sex - M\n"
     ]
    },
    {
     "name": "stderr",
     "output_type": "stream",
     "text": [
      "  1%|          | 505/73624 [07:06<7:55:30,  2.56it/s]"
     ]
    },
    {
     "name": "stdout",
     "output_type": "stream",
     "text": [
      "Sending a post from user id: 328838221, posted on: 1546444680, sex - M\n"
     ]
    },
    {
     "name": "stderr",
     "output_type": "stream",
     "text": [
      "  1%|          | 506/73624 [07:07<8:00:36,  2.54it/s]"
     ]
    },
    {
     "name": "stdout",
     "output_type": "stream",
     "text": [
      "Sending a post from user id: 1413377, posted on: 1546444952, sex - F\n"
     ]
    },
    {
     "name": "stderr",
     "output_type": "stream",
     "text": [
      "  1%|          | 508/73624 [07:08<7:29:33,  2.71it/s]"
     ]
    },
    {
     "name": "stdout",
     "output_type": "stream",
     "text": [
      "Sending a post from user id: 27203134, posted on: 1546445177, sex - M\n",
      "Sending a post from user id: 141687240, posted on: 1546445396, sex - M\n"
     ]
    },
    {
     "name": "stderr",
     "output_type": "stream",
     "text": [
      "  1%|          | 509/73624 [07:08<6:20:45,  3.20it/s]"
     ]
    },
    {
     "name": "stdout",
     "output_type": "stream",
     "text": [
      "Sending a post from user id: 363497, posted on: 1546445556, sex - F\n"
     ]
    },
    {
     "name": "stderr",
     "output_type": "stream",
     "text": [
      "  1%|          | 510/73624 [07:08<8:30:50,  2.39it/s]"
     ]
    },
    {
     "name": "stdout",
     "output_type": "stream",
     "text": [
      "Sending a post from user id: 363497, posted on: 1546445721, sex - F\n"
     ]
    },
    {
     "name": "stderr",
     "output_type": "stream",
     "text": [
      "  1%|          | 511/73624 [07:09<9:11:58,  2.21it/s]"
     ]
    },
    {
     "name": "stdout",
     "output_type": "stream",
     "text": [
      "Sending a post from user id: 846546, posted on: 1546445977, sex - F\n"
     ]
    },
    {
     "name": "stderr",
     "output_type": "stream",
     "text": [
      "  1%|          | 512/73624 [07:10<11:40:08,  1.74it/s]"
     ]
    },
    {
     "name": "stdout",
     "output_type": "stream",
     "text": [
      "Sending a post from user id: 103946222, posted on: 1546446288, sex - F\n",
      "Sending a post from user id: 9715096, posted on: 1546446293, sex - F\n"
     ]
    },
    {
     "name": "stderr",
     "output_type": "stream",
     "text": [
      "  1%|          | 514/73624 [07:10<7:45:26,  2.62it/s] "
     ]
    },
    {
     "name": "stdout",
     "output_type": "stream",
     "text": [
      "Sending a post from user id: 328838221, posted on: 1546446332, sex - M\n"
     ]
    },
    {
     "name": "stderr",
     "output_type": "stream",
     "text": [
      "  1%|          | 515/73624 [07:10<7:06:25,  2.86it/s]"
     ]
    },
    {
     "name": "stdout",
     "output_type": "stream",
     "text": [
      "Sending a post from user id: 348618657, posted on: 1546446579, sex - M\n"
     ]
    },
    {
     "name": "stderr",
     "output_type": "stream",
     "text": [
      "  1%|          | 516/73624 [07:11<8:24:30,  2.42it/s]"
     ]
    },
    {
     "name": "stdout",
     "output_type": "stream",
     "text": [
      "Sending a post from user id: 15640448, posted on: 1546446707, sex - F\n"
     ]
    },
    {
     "name": "stderr",
     "output_type": "stream",
     "text": [
      "  1%|          | 517/73624 [07:12<10:10:59,  1.99it/s]"
     ]
    },
    {
     "name": "stdout",
     "output_type": "stream",
     "text": [
      "Sending a post from user id: 236946123, posted on: 1546447742, sex - F\n"
     ]
    },
    {
     "name": "stderr",
     "output_type": "stream",
     "text": [
      "  1%|          | 518/73624 [07:12<10:09:59,  2.00it/s]"
     ]
    },
    {
     "name": "stdout",
     "output_type": "stream",
     "text": [
      "Sending a post from user id: 141797323, posted on: 1546447800, sex - F\n"
     ]
    },
    {
     "name": "stderr",
     "output_type": "stream",
     "text": [
      "  1%|          | 519/73624 [07:13<12:19:46,  1.65it/s]"
     ]
    },
    {
     "name": "stdout",
     "output_type": "stream",
     "text": [
      "Sending a post from user id: 357710591, posted on: 1546448158, sex - M\n"
     ]
    },
    {
     "name": "stderr",
     "output_type": "stream",
     "text": [
      "  1%|          | 520/73624 [07:14<11:25:35,  1.78it/s]"
     ]
    },
    {
     "name": "stdout",
     "output_type": "stream",
     "text": [
      "Sending a post from user id: 233174236, posted on: 1546448558, sex - F\n"
     ]
    },
    {
     "name": "stderr",
     "output_type": "stream",
     "text": [
      "  1%|          | 521/73624 [07:14<9:21:06,  2.17it/s] "
     ]
    },
    {
     "name": "stdout",
     "output_type": "stream",
     "text": [
      "Sending a post from user id: 357710591, posted on: 1546448586, sex - M\n"
     ]
    },
    {
     "name": "stderr",
     "output_type": "stream",
     "text": [
      "  1%|          | 522/73624 [07:14<10:38:10,  1.91it/s]"
     ]
    },
    {
     "name": "stdout",
     "output_type": "stream",
     "text": [
      "Sending a post from user id: 171900534, posted on: 1546449025, sex - F\n"
     ]
    },
    {
     "name": "stderr",
     "output_type": "stream",
     "text": [
      "  1%|          | 524/73624 [07:15<8:15:41,  2.46it/s] "
     ]
    },
    {
     "name": "stdout",
     "output_type": "stream",
     "text": [
      "Sending a post from user id: 371731113, posted on: 1546449231, sex - F\n",
      "Sending a post from user id: 59908635, posted on: 1546449897, sex - M\n"
     ]
    },
    {
     "name": "stderr",
     "output_type": "stream",
     "text": [
      "  1%|          | 525/73624 [07:16<10:00:04,  2.03it/s]"
     ]
    },
    {
     "name": "stdout",
     "output_type": "stream",
     "text": [
      "Sending a post from user id: 59908635, posted on: 1546450411, sex - M\n"
     ]
    },
    {
     "name": "stderr",
     "output_type": "stream",
     "text": [
      "  1%|          | 526/73624 [07:17<11:40:00,  1.74it/s]"
     ]
    },
    {
     "name": "stdout",
     "output_type": "stream",
     "text": [
      "Sending a post from user id: 165361422, posted on: 1546451651, sex - F\n"
     ]
    },
    {
     "name": "stderr",
     "output_type": "stream",
     "text": [
      "  1%|          | 527/73624 [07:18<13:59:10,  1.45it/s]"
     ]
    },
    {
     "name": "stdout",
     "output_type": "stream",
     "text": [
      "Sending a post from user id: 267198623, posted on: 1546452002, sex - M\n"
     ]
    },
    {
     "name": "stderr",
     "output_type": "stream",
     "text": [
      "  1%|          | 528/73624 [07:18<13:52:30,  1.46it/s]"
     ]
    },
    {
     "name": "stdout",
     "output_type": "stream",
     "text": [
      "Sending a post from user id: 1850377, posted on: 1546452653, sex - M\n"
     ]
    },
    {
     "name": "stderr",
     "output_type": "stream",
     "text": [
      "  1%|          | 529/73624 [07:19<13:46:02,  1.47it/s]"
     ]
    },
    {
     "name": "stdout",
     "output_type": "stream",
     "text": [
      "Sending a post from user id: 16861388, posted on: 1546453007, sex - M\n"
     ]
    },
    {
     "name": "stderr",
     "output_type": "stream",
     "text": [
      "  1%|          | 530/73624 [07:19<11:17:21,  1.80it/s]"
     ]
    },
    {
     "name": "stdout",
     "output_type": "stream",
     "text": [
      "Sending a post from user id: 1006596, posted on: 1546453016, sex - M\n"
     ]
    },
    {
     "name": "stderr",
     "output_type": "stream",
     "text": [
      "  1%|          | 531/73624 [07:19<9:28:03,  2.14it/s] "
     ]
    },
    {
     "name": "stdout",
     "output_type": "stream",
     "text": [
      "Sending a post from user id: 255396611, posted on: 1546453563, sex - F\n"
     ]
    },
    {
     "name": "stderr",
     "output_type": "stream",
     "text": [
      "  1%|          | 532/73624 [07:20<11:56:30,  1.70it/s]"
     ]
    },
    {
     "name": "stdout",
     "output_type": "stream",
     "text": [
      "Sending a post from user id: 29320029, posted on: 1546453620, sex - F\n"
     ]
    },
    {
     "name": "stderr",
     "output_type": "stream",
     "text": [
      "  1%|          | 533/73624 [07:21<11:43:13,  1.73it/s]"
     ]
    },
    {
     "name": "stdout",
     "output_type": "stream",
     "text": [
      "Sending a post from user id: 25539623, posted on: 1546453660, sex - F\n"
     ]
    },
    {
     "name": "stderr",
     "output_type": "stream",
     "text": [
      "  1%|          | 534/73624 [07:22<14:05:21,  1.44it/s]"
     ]
    },
    {
     "name": "stdout",
     "output_type": "stream",
     "text": [
      "Sending a post from user id: 278435421, posted on: 1546453994, sex - F\n",
      "Sending a post from user id: 446052460, posted on: 1546454257, sex - F\n"
     ]
    },
    {
     "name": "stderr",
     "output_type": "stream",
     "text": [
      "  1%|          | 536/73624 [07:23<12:36:17,  1.61it/s]"
     ]
    },
    {
     "name": "stdout",
     "output_type": "stream",
     "text": [
      "Sending a post from user id: 327056, posted on: 1546455193, sex - M\n"
     ]
    },
    {
     "name": "stderr",
     "output_type": "stream",
     "text": [
      "  1%|          | 537/73624 [07:24<14:21:04,  1.41it/s]"
     ]
    },
    {
     "name": "stdout",
     "output_type": "stream",
     "text": [
      "Sending a post from user id: 58168530, posted on: 1546455635, sex - F\n"
     ]
    },
    {
     "name": "stderr",
     "output_type": "stream",
     "text": [
      "  1%|          | 538/73624 [07:24<12:34:23,  1.61it/s]"
     ]
    },
    {
     "name": "stdout",
     "output_type": "stream",
     "text": [
      "Sending a post from user id: 644750, posted on: 1546456179, sex - F\n"
     ]
    },
    {
     "name": "stderr",
     "output_type": "stream",
     "text": [
      "  1%|          | 539/73624 [07:25<12:14:05,  1.66it/s]"
     ]
    },
    {
     "name": "stdout",
     "output_type": "stream",
     "text": [
      "Sending a post from user id: 58168530, posted on: 1546456454, sex - F\n"
     ]
    },
    {
     "name": "stderr",
     "output_type": "stream",
     "text": [
      "  1%|          | 540/73624 [07:26<14:20:53,  1.41it/s]"
     ]
    },
    {
     "name": "stdout",
     "output_type": "stream",
     "text": [
      "Sending a post from user id: 1777410, posted on: 1546456461, sex - M\n",
      "Sending a post from user id: 1077823, posted on: 1546457277, sex - F\n"
     ]
    },
    {
     "name": "stderr",
     "output_type": "stream",
     "text": [
      "  1%|          | 542/73624 [07:27<11:27:17,  1.77it/s]"
     ]
    },
    {
     "name": "stdout",
     "output_type": "stream",
     "text": [
      "Sending a post from user id: 55812989, posted on: 1546457414, sex - F\n"
     ]
    },
    {
     "name": "stderr",
     "output_type": "stream",
     "text": [
      "  1%|          | 543/73624 [07:27<13:13:51,  1.53it/s]"
     ]
    },
    {
     "name": "stdout",
     "output_type": "stream",
     "text": [
      "Sending a post from user id: 32200, posted on: 1546457420, sex - F\n"
     ]
    },
    {
     "name": "stderr",
     "output_type": "stream",
     "text": [
      "  1%|          | 544/73624 [07:28<12:04:58,  1.68it/s]"
     ]
    },
    {
     "name": "stdout",
     "output_type": "stream",
     "text": [
      "Sending a post from user id: 68426095, posted on: 1546457462, sex - F\n"
     ]
    },
    {
     "name": "stderr",
     "output_type": "stream",
     "text": [
      "  1%|          | 545/73624 [07:28<10:57:07,  1.85it/s]"
     ]
    },
    {
     "name": "stdout",
     "output_type": "stream",
     "text": [
      "Sending a post from user id: 2818498, posted on: 1546457592, sex - F\n"
     ]
    },
    {
     "name": "stderr",
     "output_type": "stream",
     "text": [
      "  1%|          | 546/73624 [07:29<10:30:25,  1.93it/s]"
     ]
    },
    {
     "name": "stdout",
     "output_type": "stream",
     "text": [
      "Sending a post from user id: 337037, posted on: 1546457641, sex - F\n"
     ]
    },
    {
     "name": "stderr",
     "output_type": "stream",
     "text": [
      "  1%|          | 547/73624 [07:29<11:19:24,  1.79it/s]"
     ]
    },
    {
     "name": "stdout",
     "output_type": "stream",
     "text": [
      "Sending a post from user id: 242739930, posted on: 1546457733, sex - F\n"
     ]
    },
    {
     "name": "stderr",
     "output_type": "stream",
     "text": [
      "  1%|          | 548/73624 [07:30<11:34:09,  1.75it/s]"
     ]
    },
    {
     "name": "stdout",
     "output_type": "stream",
     "text": [
      "Sending a post from user id: 435044082, posted on: 1546457964, sex - F\n"
     ]
    },
    {
     "name": "stderr",
     "output_type": "stream",
     "text": [
      "  1%|          | 549/73624 [07:31<12:06:27,  1.68it/s]"
     ]
    },
    {
     "name": "stdout",
     "output_type": "stream",
     "text": [
      "Sending a post from user id: 241292907, posted on: 1546458049, sex - M\n"
     ]
    },
    {
     "name": "stderr",
     "output_type": "stream",
     "text": [
      "  1%|          | 550/73624 [07:31<13:34:26,  1.50it/s]"
     ]
    },
    {
     "name": "stdout",
     "output_type": "stream",
     "text": [
      "Sending a post from user id: 188548515, posted on: 1546458703, sex - M\n"
     ]
    },
    {
     "name": "stderr",
     "output_type": "stream",
     "text": [
      "  1%|          | 551/73624 [07:32<15:31:32,  1.31it/s]"
     ]
    },
    {
     "name": "stdout",
     "output_type": "stream",
     "text": [
      "Sending a post from user id: 357674986, posted on: 1546458955, sex - F\n"
     ]
    },
    {
     "name": "stderr",
     "output_type": "stream",
     "text": [
      "  1%|          | 552/73624 [07:33<13:57:52,  1.45it/s]"
     ]
    },
    {
     "name": "stdout",
     "output_type": "stream",
     "text": [
      "Sending a post from user id: 357674986, posted on: 1546459051, sex - F\n",
      "Sending a post from user id: 357674986, posted on: 1546459104, sex - F\n"
     ]
    },
    {
     "name": "stderr",
     "output_type": "stream",
     "text": [
      "  1%|          | 554/73624 [07:33<9:43:24,  2.09it/s] "
     ]
    },
    {
     "name": "stdout",
     "output_type": "stream",
     "text": [
      "Sending a post from user id: 320719214, posted on: 1546459353, sex - M\n"
     ]
    },
    {
     "name": "stderr",
     "output_type": "stream",
     "text": [
      "  1%|          | 555/73624 [07:34<9:10:22,  2.21it/s]"
     ]
    },
    {
     "name": "stdout",
     "output_type": "stream",
     "text": [
      "Sending a post from user id: 579998, posted on: 1546459391, sex - F\n",
      "Sending a post from user id: 82816740, posted on: 1546459427, sex - F\n"
     ]
    },
    {
     "name": "stderr",
     "output_type": "stream",
     "text": [
      "  1%|          | 557/73624 [07:35<9:44:04,  2.08it/s]"
     ]
    },
    {
     "name": "stdout",
     "output_type": "stream",
     "text": [
      "Sending a post from user id: 309030429, posted on: 1546459769, sex - F\n",
      "Sending a post from user id: 357674986, posted on: 1546459806, sex - F\n"
     ]
    },
    {
     "name": "stderr",
     "output_type": "stream",
     "text": [
      "  1%|          | 559/73624 [07:36<9:55:28,  2.05it/s]"
     ]
    },
    {
     "name": "stdout",
     "output_type": "stream",
     "text": [
      "Sending a post from user id: 1077823, posted on: 1546460271, sex - F\n",
      "Sending a post from user id: 8909, posted on: 1546460705, sex - F\n"
     ]
    },
    {
     "name": "stderr",
     "output_type": "stream",
     "text": [
      "  1%|          | 561/73624 [07:37<8:59:10,  2.26it/s]"
     ]
    },
    {
     "name": "stdout",
     "output_type": "stream",
     "text": [
      "Sending a post from user id: 8875986, posted on: 1546461447, sex - M\n"
     ]
    },
    {
     "name": "stderr",
     "output_type": "stream",
     "text": [
      "  1%|          | 563/73624 [07:37<7:02:07,  2.88it/s]"
     ]
    },
    {
     "name": "stdout",
     "output_type": "stream",
     "text": [
      "Sending a post from user id: 66017912, posted on: 1546461941, sex - F\n",
      "Sending a post from user id: 5786733, posted on: 1546462016, sex - M\n"
     ]
    },
    {
     "name": "stderr",
     "output_type": "stream",
     "text": [
      "  1%|          | 564/73624 [07:38<8:06:59,  2.50it/s]"
     ]
    },
    {
     "name": "stdout",
     "output_type": "stream",
     "text": [
      "Sending a post from user id: 171357181, posted on: 1546462672, sex - M\n"
     ]
    },
    {
     "name": "stderr",
     "output_type": "stream",
     "text": [
      "  1%|          | 565/73624 [07:38<9:38:39,  2.10it/s]"
     ]
    },
    {
     "name": "stdout",
     "output_type": "stream",
     "text": [
      "Sending a post from user id: 171357181, posted on: 1546462696, sex - M\n"
     ]
    },
    {
     "name": "stderr",
     "output_type": "stream",
     "text": [
      "  1%|          | 566/73624 [07:39<8:45:28,  2.32it/s]"
     ]
    },
    {
     "name": "stdout",
     "output_type": "stream",
     "text": [
      "Sending a post from user id: 211128084, posted on: 1546462886, sex - F\n",
      "Sending a post from user id: 418774955, posted on: 1546463293, sex - F\n"
     ]
    },
    {
     "name": "stderr",
     "output_type": "stream",
     "text": [
      "  1%|          | 568/73624 [07:40<9:30:43,  2.13it/s]"
     ]
    },
    {
     "name": "stdout",
     "output_type": "stream",
     "text": [
      "Sending a post from user id: 290515499, posted on: 1546463460, sex - M\n"
     ]
    },
    {
     "name": "stderr",
     "output_type": "stream",
     "text": [
      "  1%|          | 569/73624 [07:40<9:18:33,  2.18it/s]"
     ]
    },
    {
     "name": "stdout",
     "output_type": "stream",
     "text": [
      "Sending a post from user id: 44748, posted on: 1546463952, sex - F\n"
     ]
    },
    {
     "name": "stderr",
     "output_type": "stream",
     "text": [
      "  1%|          | 570/73624 [07:41<11:01:14,  1.84it/s]"
     ]
    },
    {
     "name": "stdout",
     "output_type": "stream",
     "text": [
      "Sending a post from user id: 247918238, posted on: 1546464145, sex - F\n"
     ]
    },
    {
     "name": "stderr",
     "output_type": "stream",
     "text": [
      "  1%|          | 571/73624 [07:41<10:22:22,  1.96it/s]"
     ]
    },
    {
     "name": "stdout",
     "output_type": "stream",
     "text": [
      "Sending a post from user id: 15970291, posted on: 1546464388, sex - F\n"
     ]
    },
    {
     "name": "stderr",
     "output_type": "stream",
     "text": [
      "  1%|          | 572/73624 [07:42<10:17:51,  1.97it/s]"
     ]
    },
    {
     "name": "stdout",
     "output_type": "stream",
     "text": [
      "Sending a post from user id: 5550605, posted on: 1546464584, sex - F\n"
     ]
    },
    {
     "name": "stderr",
     "output_type": "stream",
     "text": [
      "  1%|          | 573/73624 [07:43<12:38:08,  1.61it/s]"
     ]
    },
    {
     "name": "stdout",
     "output_type": "stream",
     "text": [
      "Sending a post from user id: 3680017, posted on: 1546465293, sex - M\n"
     ]
    },
    {
     "name": "stderr",
     "output_type": "stream",
     "text": [
      "  1%|          | 574/73624 [07:43<12:19:15,  1.65it/s]"
     ]
    },
    {
     "name": "stdout",
     "output_type": "stream",
     "text": [
      "Sending a post from user id: 327458, posted on: 1546466205, sex - F\n"
     ]
    }
   ],
   "source": [
    "for row in data:\n",
    "    d = row.asDict()\n",
    "    print(f\"Sending a post from user id: {d['user_id']}, posted on: {d['date']}, sex - {d['sex']}\")\n",
    "    \n",
    "    producer.send(\"main\", json.dumps(d, ensure_ascii=False))\n",
    "    producer.flush()\n",
    "    time.sleep(random.random())\n",
    "\n",
    "#playsound('~/nfs-home/beep-07a.wav')  \n",
    "print(\"Broadcast has been finished\")\n"
   ]
  },
  {
   "cell_type": "code",
   "execution_count": null,
   "metadata": {},
   "outputs": [],
   "source": []
  }
 ],
 "metadata": {
  "kernelspec": {
   "display_name": "Python 3",
   "language": "python",
   "name": "python3"
  },
  "language_info": {
   "codemirror_mode": {
    "name": "ipython",
    "version": 3
   },
   "file_extension": ".py",
   "mimetype": "text/x-python",
   "name": "python",
   "nbconvert_exporter": "python",
   "pygments_lexer": "ipython3",
   "version": "3.8.5"
  }
 },
 "nbformat": 4,
 "nbformat_minor": 5
}
